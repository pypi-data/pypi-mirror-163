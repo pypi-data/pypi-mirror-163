{
 "cells": [
  {
   "cell_type": "markdown",
   "source": [
    "# Using Soundscapy for Binaural Recording Analysis\n",
    "\n",
    "In v0.3.2, the ability to perform a huge suite of (psycho)acoustic analyses has been added to Soundscapy. This has been optimised for performing batch processing of many recordings, ease of use, and reproducibility. To do this, we rely on three packages to provide the analysis functions:\n",
    "\n",
    " * [Python Acoustics](https://github.com/MitchellAcoustics/python-acoustics) (`acoustics`) : Python Acoustics is a library aimed at acousticians. It provides two huge benefits - first, all of the analysis functions are referenced directly to the relevant standard. Second, we subclass their `Signal` class to provide the Binaural functionality and any function available within the `Signal` class is also available to Soundscapy's `Binaural` class.\n",
    " * [scikit-maad](https://github.com/MitchellAcoustics/python-acoustics) (`maad`) : scikit-maad is a modular toolbox for quantitiative soundscape analysis, focussed on ecological soundscapes and bioacoustic indices. scikit-maad provides a huge suite of ecosoundscape focussed indices, including Acoustic Richness Index, Acoustic Complexity Index, Normalized Difference Soundscape Index (NDSI), and more.\n",
    " * [MoSQITo](https://github.com/MitchellAcoustics/MoSQITo) (`mosqito`): MoSQITo is a modular framework of key sound quality metrics, providing the psychoacoustic metrics.\n",
    "\n",
    "The metrics currently available are:\n",
    "* Python Acoustics : $L_{Zeq}, $L_{Aeq}, $L_{Ceq}$~, SEL, and all associated statistics ($L_5$ through $L_{95}$, $L_{max}$ and $L_{min}$, as well as [kurtosis](https://acousticstoday.org/wp-content/uploads/2020/12/Kurtosis-A-New-Tool-for-Noise-Analysis-Wei-Qiu-William-J.-Murphy-and-Alice-Suter.pdf) and skewness.\n",
    "* scikit-maad : So far we have only implemented the combined `all_temporal_alpha_indices` and `all_spectral_alpha_indices` from `scikit-maad`; calculating them individually is not yet supported. `all_temporal_alpha_indices` comprises 16 temporal domain acoustic indices, such as temporal signal-to-noise-ratio, temporal entropy, temporal events. `all_spectral_alpha_indices` comprises 19 spectral domain acoustic indices, such as Bioacoustic Index, Acoustic Diversity Index, NDSI, Acoustic Evenness Index.\n",
    "* MoSQITo :\n",
    "    * Loudness (Zwicker time varying),\n",
    "    * Sharpness (time varying, from loudness, and per segment with DIN, Aures, Bismarck, and Fastl weightings),\n",
    "    * Roughness (Daniel and Weber, 1997).\n",
    "\n",
    "Soundscapy combines all of these metrics and makes it easy and (relatively) fast to compute any or all of them for a binaural audio recording. These results have been preliminarily confirmed through comparison of results obtained from Head Acoustics ArtemiS suite on a set of real-world recordings.\n",
    "\n",
    "## Consistent Analysis Settings\n",
    "\n",
    "A primary goal when developing this library was to make it easy to save and document the settings used for all analyses. This is done through a `settings.yaml` file and the `AnalysisSettings` class. Although the settings for each metric can be set at runtime, the `settings.yaml` file allows you to set all of the settings at once and document exactly what settings were passed to each analysis function and to share these settings with collaborators or reviewers.\n",
    "\n",
    "## Batch processing\n",
    "The other primary goal was to make it simple and fast to perform this analysis on many recordings. One aspect of this is unifying the outputs from the underlying libraries and presenting them in an easy to parse format. The analysis functions from Soundscapy can return a MultiIndex pandas DataFrame with the Recording filename and Left and Right channels in the index and a column for each metric calculated. This dataframe can then be easily saved to a .csv or Excel spreadsheet. Alternatively, a dictionary can be returned for further processing within Python. The key point is that after calculating 100+ metrics for 1,000+ recordings, you'll be left with a single tidy spreadsheet.\n",
    "\n",
    "The Soundscape Indices (SSID) project for which this was developed has over 3,000 recordings for which we needed to calculate a full suite of metrics for both channels. In particular, the MoSQITo functions can be quite slow, so running each recording one at a time can be prohibitively slow and only utilize a small portion of the available computing power. To help with this, a set of simple functions is provided to enable parallel processing, such that multiple recordings can be processed simultaneously by a multi-core CPU. In our initial tests on a 16-core AMD Ryzen 7 4800HS CPU (Fedora Linux 36), this increased the speed for processing 20 recordings by at least 8 times.\n",
    "\n",
    "In testing, the MoSQITo functions are particularly slow, taking up to 3 minutes to calculate the Loudness for a 30s two-channel recording. When running only a single recording through, this has also been sped up by parallelizing the per-channel calculation, reducing the computation time to around 50s."
   ],
   "metadata": {
    "collapsed": false,
    "pycharm": {
     "name": "#%% md\n"
    }
   }
  },
  {
   "cell_type": "markdown",
   "source": [
    "# Getting Started\n",
    "\n",
    "The basis of all of our analysis starts with the binaural signal, so we begin by importing the `Binaural` class. We'll also load up and examine our analysis settings. Throughout Soundscapy, we use `pathlib.Path` for defining filepaths.\n"
   ],
   "metadata": {
    "collapsed": false,
    "pycharm": {
     "name": "#%% md\n"
    }
   }
  },
  {
   "cell_type": "code",
   "execution_count": 2,
   "metadata": {
    "pycharm": {
     "name": "#%%\n"
    }
   },
   "outputs": [],
   "source": [
    "# imports\n",
    "from soundscapy import Binaural\n",
    "from soundscapy import AnalysisSettings\n",
    "from soundscapy.binaural import prep_multiindex_df, add_results, process_all_metrics\n",
    "import json\n",
    "from pathlib import Path\n"
   ]
  },
  {
   "cell_type": "markdown",
   "source": [
    "Set up where the data is located. In this case, we'll use the sample recordings located under the `test` folder.\n",
    "\n",
    "Ensuring that Soundscapy knows exactly how loud your recordings were onsite is crucial to getting correct answers. If you used equipment such as the Head Acoustics SqoBold, and were careful about how the recordings are exported to .wav, then they may already be correctly adjusted (as ours are here). However its best to be safe and calibrate each signal to their real-world dB level. To do this, we load in a .json that contains the per-channel correct dB $L_{eq}$ level."
   ],
   "metadata": {
    "collapsed": false,
    "pycharm": {
     "name": "#%% md\n"
    }
   }
  },
  {
   "cell_type": "code",
   "execution_count": 3,
   "metadata": {
    "pycharm": {
     "name": "#%%\n"
    }
   },
   "outputs": [
    {
     "data": {
      "text/plain": "[('CT101', {'Left': 79.0, 'Right': 79.72}),\n ('CT102', {'Left': 79.35, 'Right': 79.88}),\n ('CT103', {'Left': 76.25, 'Right': 76.41}),\n ('CT104', {'Left': 79.9, 'Right': 79.93}),\n ('CT107', {'Left': 78.21, 'Right': 78.47})]"
     },
     "execution_count": 3,
     "metadata": {},
     "output_type": "execute_result"
    }
   ],
   "source": [
    "# May need to adjust for your system\n",
    "wav_folder = Path().cwd().parent.joinpath(\"test\", \"data\")\n",
    "levels = wav_folder.joinpath(\"Levels.json\")\n",
    "\n",
    "with open(levels) as f:\n",
    "    levels = json.load(f)\n",
    "\n",
    "# Look at the first five sets of levels\n",
    "list(levels.items())[:5]"
   ]
  },
  {
   "cell_type": "markdown",
   "source": [
    "\n",
    "### Prepping the results dataframe\n"
   ],
   "metadata": {
    "collapsed": false,
    "pycharm": {
     "name": "#%% md\n"
    }
   }
  },
  {
   "cell_type": "code",
   "execution_count": 4,
   "outputs": [],
   "source": [
    "df = prep_multiindex_df(levels, incl_metric=True)"
   ],
   "metadata": {
    "collapsed": false,
    "pycharm": {
     "name": "#%%\n"
    }
   }
  },
  {
   "cell_type": "markdown",
   "metadata": {
    "pycharm": {
     "name": "#%% md\n"
    }
   },
   "source": [
    "Load in a binaural wav signal. We can use the `plot` function provided by the `acoustics.Signal` super-class."
   ]
  },
  {
   "cell_type": "code",
   "execution_count": 5,
   "metadata": {
    "pycharm": {
     "name": "#%%\n"
    }
   },
   "outputs": [
    {
     "data": {
      "text/plain": "<AxesSubplot:title={'center':'Signal'}, xlabel='$t$ in s', ylabel='$x$ in -'>"
     },
     "execution_count": 5,
     "metadata": {},
     "output_type": "execute_result"
    },
    {
     "data": {
      "text/plain": "<Figure size 432x288 with 1 Axes>",
      "image/png": "[encoded data removed]"
     },
     "metadata": {
      "needs_background": "light"
     },
     "output_type": "display_data"
    }
   ],
   "source": [
    "binaural_wav = wav_folder.joinpath(\"CT101.wav\")\n",
    "b = Binaural.from_wav(binaural_wav)\n",
    "b.plot()"
   ]
  },
  {
   "cell_type": "markdown",
   "metadata": {
    "pycharm": {
     "name": "#%% md\n"
    }
   },
   "source": [
    "To ensure that the dB level is correct, and therefore any other metrics are correct, we start by calibrating the signal to precalculated levels.\n"
   ]
  },
  {
   "cell_type": "code",
   "execution_count": 5,
   "metadata": {
    "pycharm": {
     "name": "#%%\n"
    }
   },
   "outputs": [
    {
     "name": "stdout",
     "output_type": "stream",
     "text": [
      "Calibration levels: (79.0, 79.72)\n"
     ]
    },
    {
     "data": {
      "text/plain": "Signal([[-0.01080703 -0.0088621  -0.01002671 ... -0.0432281  -0.04708166\n  -0.04911411]\n [-0.00745821  0.00049144  0.00590268 ... -0.00493154 -0.01020068\n  -0.01875182]])"
     },
     "execution_count": 5,
     "metadata": {},
     "output_type": "execute_result"
    }
   ],
   "source": [
    "decibel = (levels[b.recording][\"Left\"], levels[b.recording][\"Right\"])\n",
    "print(f\"Calibration levels: {decibel}\")\n",
    "b.calibrate_to(decibel, inplace=True)"
   ]
  },
  {
   "cell_type": "markdown",
   "source": [
    "Now, check it by comparing it to what we already knew were the correct levels:"
   ],
   "metadata": {
    "collapsed": false,
    "pycharm": {
     "name": "#%% md\n"
    }
   }
  },
  {
   "cell_type": "code",
   "execution_count": 6,
   "outputs": [
    {
     "name": "stdout",
     "output_type": "stream",
     "text": [
      "Predefined levels: {'Left': 79.0, 'Right': 79.72}\n",
      "Calculated Levels: {'Left': {'Leq': 79.00281378626991}, 'Right': {'Leq': 79.72243397536936}}\n"
     ]
    }
   ],
   "source": [
    "print(f\"Predefined levels: {levels[b.recording]}\")\n",
    "print(f\"Calculated Levels: {b.pyacoustics_metric('Leq', statistics=['avg'], as_df=False)}\")"
   ],
   "metadata": {
    "collapsed": false,
    "pycharm": {
     "name": "#%%\n"
    }
   }
  },
  {
   "cell_type": "markdown",
   "source": [
    "## Calculating Acoustic Metrics\n",
    "\n",
    "This brings us to how to calculate any of the many metrics available. Let's start simple with $L_{Aeq}$.\n",
    "\n",
    "#### Python Acoustics\n",
    "\n",
    "Since the $L_{Aeq}$ calc is provided by the Python Acoustics library, we'll be calling `pyacoustic_metric`. Then, we need to tell it what particular metric we want, what stats to calculate as well, what to label it, and what format to return the results in."
   ],
   "metadata": {
    "collapsed": false,
    "pycharm": {
     "name": "#%% md\n"
    }
   }
  },
  {
   "cell_type": "code",
   "execution_count": 7,
   "outputs": [
    {
     "data": {
      "text/plain": "{'Left': {'LAeq': 68.87570321376752,\n  'LAeq_10': 71.15434218749783,\n  'LAeq_50': 68.11333930746,\n  'LAeq_90': 63.375090914754985},\n 'Right': {'LAeq': 69.95333344074137,\n  'LAeq_10': 72.57815150741932,\n  'LAeq_50': 68.49539857979003,\n  'LAeq_90': 64.53305677178045}}"
     },
     "execution_count": 7,
     "metadata": {},
     "output_type": "execute_result"
    }
   ],
   "source": [
    "metric = \"LAeq\"\n",
    "stats = (\"avg\", 10, 50, 90)\n",
    "label = \"LAeq\"\n",
    "b.pyacoustics_metric(metric, stats, label, as_df=False)"
   ],
   "metadata": {
    "collapsed": false,
    "pycharm": {
     "name": "#%%\n"
    }
   }
  },
  {
   "cell_type": "markdown",
   "source": [
    "If we want, we can get the results back as a pandas DataFrame instead:"
   ],
   "metadata": {
    "collapsed": false,
    "pycharm": {
     "name": "#%% md\n"
    }
   }
  },
  {
   "cell_type": "code",
   "execution_count": 8,
   "outputs": [
    {
     "data": {
      "text/plain": "                        LAeq    LAeq_10    LAeq_50    LAeq_90\nRecording Channel                                            \nCT101     Left     68.875703  71.154342  68.113339  63.375091\n          Right    69.953333  72.578152  68.495399  64.533057",
      "text/html": "<div>\n<style scoped>\n    .dataframe tbody tr th:only-of-type {\n        vertical-align: middle;\n    }\n\n    .dataframe tbody tr th {\n        vertical-align: top;\n    }\n\n    .dataframe thead th {\n        text-align: right;\n    }\n</style>\n<table border=\"1\" class=\"dataframe\">\n  <thead>\n    <tr style=\"text-align: right;\">\n      <th></th>\n      <th></th>\n      <th>LAeq</th>\n      <th>LAeq_10</th>\n      <th>LAeq_50</th>\n      <th>LAeq_90</th>\n    </tr>\n    <tr>\n      <th>Recording</th>\n      <th>Channel</th>\n      <th></th>\n      <th></th>\n      <th></th>\n      <th></th>\n    </tr>\n  </thead>\n  <tbody>\n    <tr>\n      <th rowspan=\"2\" valign=\"top\">CT101</th>\n      <th>Left</th>\n      <td>68.875703</td>\n      <td>71.154342</td>\n      <td>68.113339</td>\n      <td>63.375091</td>\n    </tr>\n    <tr>\n      <th>Right</th>\n      <td>69.953333</td>\n      <td>72.578152</td>\n      <td>68.495399</td>\n      <td>64.533057</td>\n    </tr>\n  </tbody>\n</table>\n</div>"
     },
     "execution_count": 8,
     "metadata": {},
     "output_type": "execute_result"
    }
   ],
   "source": [
    "b.pyacoustics_metric(metric, stats, label, as_df=True)"
   ],
   "metadata": {
    "collapsed": false,
    "pycharm": {
     "name": "#%%\n"
    }
   }
  },
  {
   "cell_type": "markdown",
   "source": [
    "And we can easily do the same for the C-weighting level:"
   ],
   "metadata": {
    "collapsed": false,
    "pycharm": {
     "name": "#%% md\n"
    }
   }
  },
  {
   "cell_type": "code",
   "execution_count": 9,
   "outputs": [
    {
     "data": {
      "text/plain": "                        LCeq    LCeq_10    LCeq_50    LCeq_90\nRecording Channel                                            \nCT101     Left     77.245094  80.008421  76.256223  71.467371\n          Right    77.855473  80.633065  76.882287  72.463130",
      "text/html": "<div>\n<style scoped>\n    .dataframe tbody tr th:only-of-type {\n        vertical-align: middle;\n    }\n\n    .dataframe tbody tr th {\n        vertical-align: top;\n    }\n\n    .dataframe thead th {\n        text-align: right;\n    }\n</style>\n<table border=\"1\" class=\"dataframe\">\n  <thead>\n    <tr style=\"text-align: right;\">\n      <th></th>\n      <th></th>\n      <th>LCeq</th>\n      <th>LCeq_10</th>\n      <th>LCeq_50</th>\n      <th>LCeq_90</th>\n    </tr>\n    <tr>\n      <th>Recording</th>\n      <th>Channel</th>\n      <th></th>\n      <th></th>\n      <th></th>\n      <th></th>\n    </tr>\n  </thead>\n  <tbody>\n    <tr>\n      <th rowspan=\"2\" valign=\"top\">CT101</th>\n      <th>Left</th>\n      <td>77.245094</td>\n      <td>80.008421</td>\n      <td>76.256223</td>\n      <td>71.467371</td>\n    </tr>\n    <tr>\n      <th>Right</th>\n      <td>77.855473</td>\n      <td>80.633065</td>\n      <td>76.882287</td>\n      <td>72.463130</td>\n    </tr>\n  </tbody>\n</table>\n</div>"
     },
     "execution_count": 9,
     "metadata": {},
     "output_type": "execute_result"
    }
   ],
   "source": [
    "b.pyacoustics_metric(\"LCeq\", stats, as_df=True)"
   ],
   "metadata": {
    "collapsed": false,
    "pycharm": {
     "name": "#%%\n"
    }
   }
  },
  {
   "cell_type": "markdown",
   "source": [
    "#### MoSQITo\n",
    "\n",
    "MoSQITo is very exciting as it is one of the first completely free and open-source libraries for calculating psychoacoustic features. Let's try out calculating the psychoacoustic loudness.\n",
    "\n",
    "We start by defining many of the same options, but with two new ones. The first is our `func_args` to pass to `MoSQITo`. Since our test recording was collected in a public park, we need to select the correct field type: free or diffuse, and pass that to MoSQITo.\n",
    "\n",
    "The second new argument is `parallel`. This just tells Soundscapy whether to try to calculate the Left and Right channels simultaneously to speed up processing."
   ],
   "metadata": {
    "collapsed": false,
    "pycharm": {
     "name": "#%% md\n"
    }
   }
  },
  {
   "cell_type": "code",
   "execution_count": 10,
   "outputs": [
    {
     "name": "stdout",
     "output_type": "stream",
     "text": [
      " - Calculating MoSQITo metric: loudness_zwtv\n",
      " - Calculating MoSQITo loudness_zwtv: (5, 50, 'avg', 'max')\n",
      " - Calculating MoSQITo loudness_zwtv: (5, 50, 'avg', 'max')\n"
     ]
    },
    {
     "data": {
      "text/plain": "                         N_5       N_50      N_avg      N_max\nRecording Channel                                            \nCT101     Left     28.834482  23.164299  22.669519  36.160815\n          Right    30.834215  23.939352  23.774119  37.762344",
      "text/html": "<div>\n<style scoped>\n    .dataframe tbody tr th:only-of-type {\n        vertical-align: middle;\n    }\n\n    .dataframe tbody tr th {\n        vertical-align: top;\n    }\n\n    .dataframe thead th {\n        text-align: right;\n    }\n</style>\n<table border=\"1\" class=\"dataframe\">\n  <thead>\n    <tr style=\"text-align: right;\">\n      <th></th>\n      <th></th>\n      <th>N_5</th>\n      <th>N_50</th>\n      <th>N_avg</th>\n      <th>N_max</th>\n    </tr>\n    <tr>\n      <th>Recording</th>\n      <th>Channel</th>\n      <th></th>\n      <th></th>\n      <th></th>\n      <th></th>\n    </tr>\n  </thead>\n  <tbody>\n    <tr>\n      <th rowspan=\"2\" valign=\"top\">CT101</th>\n      <th>Left</th>\n      <td>28.834482</td>\n      <td>23.164299</td>\n      <td>22.669519</td>\n      <td>36.160815</td>\n    </tr>\n    <tr>\n      <th>Right</th>\n      <td>30.834215</td>\n      <td>23.939352</td>\n      <td>23.774119</td>\n      <td>37.762344</td>\n    </tr>\n  </tbody>\n</table>\n</div>"
     },
     "execution_count": 10,
     "metadata": {},
     "output_type": "execute_result"
    }
   ],
   "source": [
    "metric = \"loudness_zwtv\"\n",
    "stats = (5, 50, 'avg', 'max')\n",
    "func_args = {\n",
    "    'field_type': 'free'\n",
    "}\n",
    "\n",
    "b.mosqito_metric(metric, stats, as_df=True, parallel=True, verbose=True, func_args=func_args)"
   ],
   "metadata": {
    "collapsed": false,
    "pycharm": {
     "name": "#%%\n"
    }
   }
  },
  {
   "cell_type": "markdown",
   "source": [
    "`sharpness_din_from_loudness` is a bit of a special case to keep in mind. It can drastically speed up the processing time since it calculates the Sharpness values from pre-calculated Loudness results. If you are planning to do both analyses, I highly suggest using it. Soundscapy will handle it behind the scenes to make sure it doesn't accidentally calculate the Loudness values twice if you've asked for both of them. Let's try it out."
   ],
   "metadata": {
    "collapsed": false,
    "pycharm": {
     "name": "#%% md\n"
    }
   }
  },
  {
   "cell_type": "code",
   "execution_count": 11,
   "outputs": [
    {
     "name": "stdout",
     "output_type": "stream",
     "text": [
      " - Calculating MoSQITo metrics: `sharpness_din` from `loudness_zwtv`\n",
      " - Calculating MoSQITo sharpness_din_from_loudness: (5, 50, 'avg', 'max')\n",
      "   -- Calculating MoSqITo: loudness_zwtv for sharpness_din_from_loudness\n",
      " - Calculating MoSQITo sharpness_din_from_loudness: (5, 50, 'avg', 'max')\n",
      "   -- Calculating MoSqITo: loudness_zwtv for sharpness_din_from_loudness\n",
      "   -- Calculating MoSqITo: sharpness_din_from_loudness\n",
      "   -- Calculating MoSqITo: sharpness_din_from_loudness\n"
     ]
    },
    {
     "data": {
      "text/plain": "                         N_5       N_50      N_avg      N_max       S_5  \\\nRecording Channel                                                         \nCT101     Left     28.834482  23.164299  22.669519  36.160815  1.339030   \n          Right    30.834215  23.939352  23.774119  37.762344  1.410216   \n\n                       S_50     S_avg      S_max  \nRecording Channel                                 \nCT101     Left     1.168987  1.181871  19.298406  \n          Right    1.183683  1.202704  18.598348  ",
      "text/html": "<div>\n<style scoped>\n    .dataframe tbody tr th:only-of-type {\n        vertical-align: middle;\n    }\n\n    .dataframe tbody tr th {\n        vertical-align: top;\n    }\n\n    .dataframe thead th {\n        text-align: right;\n    }\n</style>\n<table border=\"1\" class=\"dataframe\">\n  <thead>\n    <tr style=\"text-align: right;\">\n      <th></th>\n      <th></th>\n      <th>N_5</th>\n      <th>N_50</th>\n      <th>N_avg</th>\n      <th>N_max</th>\n      <th>S_5</th>\n      <th>S_50</th>\n      <th>S_avg</th>\n      <th>S_max</th>\n    </tr>\n    <tr>\n      <th>Recording</th>\n      <th>Channel</th>\n      <th></th>\n      <th></th>\n      <th></th>\n      <th></th>\n      <th></th>\n      <th></th>\n      <th></th>\n      <th></th>\n    </tr>\n  </thead>\n  <tbody>\n    <tr>\n      <th rowspan=\"2\" valign=\"top\">CT101</th>\n      <th>Left</th>\n      <td>28.834482</td>\n      <td>23.164299</td>\n      <td>22.669519</td>\n      <td>36.160815</td>\n      <td>1.339030</td>\n      <td>1.168987</td>\n      <td>1.181871</td>\n      <td>19.298406</td>\n    </tr>\n    <tr>\n      <th>Right</th>\n      <td>30.834215</td>\n      <td>23.939352</td>\n      <td>23.774119</td>\n      <td>37.762344</td>\n      <td>1.410216</td>\n      <td>1.183683</td>\n      <td>1.202704</td>\n      <td>18.598348</td>\n    </tr>\n  </tbody>\n</table>\n</div>"
     },
     "execution_count": 11,
     "metadata": {},
     "output_type": "execute_result"
    }
   ],
   "source": [
    "b.mosqito_metric(\"sharpness_din_from_loudness\", stats, as_df=True, parallel=True, verbose=True, func_args=func_args)"
   ],
   "metadata": {
    "collapsed": false,
    "pycharm": {
     "name": "#%%\n"
    }
   }
  },
  {
   "cell_type": "markdown",
   "source": [
    "### Defining Analysis Settings\n",
    "\n",
    "We'll also load in our analysis settings file. We provide a default settings file which can be loaded directly by `AnalysisSettings` with our recommended options."
   ],
   "metadata": {
    "collapsed": false,
    "pycharm": {
     "name": "#%% md\n"
    }
   }
  },
  {
   "cell_type": "code",
   "execution_count": 12,
   "outputs": [],
   "source": [
    "analysis_settings = AnalysisSettings.default()"
   ],
   "metadata": {
    "collapsed": false,
    "pycharm": {
     "name": "#%%\n"
    }
   }
  },
  {
   "cell_type": "markdown",
   "source": [
    "However, in your own analysis you'll probably want to define your own options and load that in. We'll show how this is done using the `example_settings.yaml' file. First, let's take a look at how it's laid out:\n",
    "\n",
    "```\n",
    "# Settings file for batch acoustic analysis.\n",
    "# Split up according to which library performs which analysis.\n",
    "\n",
    "# Python Acoustics\n",
    "# Supported metrics: LAeq, LZeq, LCeq, SEL\n",
    "# Supported stats: avg/mean, max, min, kurt, skew, any integer from 1-99\n",
    "PythonAcoustics:\n",
    "    LAeq:\n",
    "        run: true\n",
    "        main: 'avg'\n",
    "        statistics: [5, 10, 50, 90, 95, 'min', 'max', 'kurt', 'skew']\n",
    "        channel: [\"Left\", \"Right\"]\n",
    "        label: 'LAeq'\n",
    "        func_args:\n",
    "            time: 0.125\n",
    "            method: \"average\"\n",
    "\n",
    "    LZeq:\n",
    "        run: true\n",
    "        main: 'avg'\n",
    "        statistics: [5, 10, 50, 90, 95, 'min', 'max', 'kurt', 'skew']\n",
    "        channel: [\"Left\", \"Right\"]\n",
    "        label: 'LZeq'\n",
    "        func_args:\n",
    "            time: 0.125\n",
    "            method: \"average\"\n",
    "\n",
    "# MoSQITo\n",
    "# supported metrics: loudness_zwtv, sharpness_din_from_loudness, roughness_dw\n",
    "# supported stats: avg/mean, max, min, kurt, skew, any integer from 1-99\n",
    "MoSQITo:\n",
    "    loudness_zwtv:\n",
    "        run: true\n",
    "        main: 5\n",
    "        statistics: [10, 50, 90, 95, 'min', 'max', 'kurt', 'skew', 'avg']\n",
    "        channel: [\"Left\", \"Right\"]\n",
    "        label: \"N\"\n",
    "        parallel: true\n",
    "        func_args:\n",
    "            field_type: \"free\"\n",
    "\n",
    "```"
   ],
   "metadata": {
    "collapsed": false,
    "pycharm": {
     "name": "#%% md\n"
    }
   }
  },
  {
   "cell_type": "markdown",
   "source": [
    "\n",
    "The settings file is broken up according to the three libraries. Within these, we define separate options for each metric to calculate. The name of this metric should correspond exactly with what Soundscapy expects (in the case of PythonAcoustics) or what the underlying library calls its function.\n",
    "\n",
    "Within each function, we then have a collection of settings that Soundscapy uses:\n",
    "    * `run` : This tells Soundscapy whether or not to actually run this metric. This allows you to define and save the options you use for each metric without needing to run it.\n",
    "    * `main` and `statistics` : These are the sub-statistics to calculate (e.g. $L_{5}$, $L_{90}$, etc.). `main` operates just like any of these, except you also have the option to return only the main statistic to simplify your results while still leaving your other preferences intact.\n",
    "    * `label` : What label to assign that metric. For instance, Loudness is typically `'N'`. When calculated, the statistics will be appended like so: N_5, N_10, N_avg, ... N_{`stat`} and this will be the column name for that metric. If you pass nothing here, then Soundscapy will fall back to the labels defined in `sq_metrics.DEFAULT_LABELS`. **Warning**: Some functions share a label (e.g. `sharpness_din_tv` and `sharpness_din_perseg` are both 'S'), if you run both of these and don't define different labels, one will overwrite the other.\n",
    "\n",
    "Finally, there is an opportunity to define arguments to pass to the underlying function itself. This is perhaps the most important part for consistency and reproducibility. This is where you define which standard is being used, what time or frequency weighting, or what spectrogram bins to use. These options are defined by the 3 analysis libraries used and are not documented fully in Soundscapy. When the `AnalysisSettings` is parsed, `func_args` will be returned as a `dict` with an entry for each option you'd like to pass. `func_args` is then passed as `**kwargs` to e.g. the `mosqito.sq_metrics.loudness_zwtv()` function. If `func_args` contains an option the function doesn't recognise it will throw an error, so be careful when defining these arguments.\n",
    "\n",
    "---------------------------------------\n",
    "Let's try loading in the `example_settings.yaml` file and see how `AnalysisSettings` handles it."
   ],
   "metadata": {
    "collapsed": false,
    "pycharm": {
     "name": "#%% md\n"
    }
   }
  },
  {
   "cell_type": "code",
   "execution_count": 13,
   "outputs": [
    {
     "data": {
      "text/plain": "{'PythonAcoustics': {'LAeq': {'run': True,\n   'main': 'avg',\n   'statistics': [5, 10, 50, 90, 95, 'min', 'max', 'kurt', 'skew'],\n   'channel': ['Left', 'Right'],\n   'label': 'LAeq',\n   'func_args': {'time': 0.125, 'method': 'average'}},\n  'LZeq': {'run': True,\n   'main': 'avg',\n   'statistics': [5, 10, 50, 90, 95, 'min', 'max', 'kurt', 'skew'],\n   'channel': ['Left', 'Right'],\n   'label': 'LZeq',\n   'func_args': {'time': 0.125, 'method': 'average'}},\n  'LCeq': {'run': True,\n   'main': 'avg',\n   'statistics': [5, 10, 50, 90, 95, 'min', 'max', 'kurt', 'skew'],\n   'channel': ['Left', 'Right'],\n   'label': 'LCeq',\n   'func_args': {'time': 0.125, 'method': 'average'}},\n  'SEL': {'run': True,\n   'main': [],\n   'statistics': [],\n   'channel': ['Left', 'Right'],\n   'label': 'SEL'}},\n 'MoSQITo': {'loudness_zwtv': {'run': False,\n   'main': 5,\n   'statistics': [10, 50, 90, 95, 'min', 'max', 'kurt', 'skew', 'avg'],\n   'channel': ['Left', 'Right'],\n   'label': 'N',\n   'parallel': True,\n   'func_args': {'field_type': 'free'}},\n  'sharpness_din_from_loudness': {'run': True,\n   'main': 'avg',\n   'statistics': [5, 10, 50, 90, 95, 'min', 'max', 'kurt', 'skew'],\n   'channel': ['Left', 'Right'],\n   'label': 'S_L',\n   'parallel': True,\n   'func_args': {'weighting': 'din', 'skip': 0.5, 'field_type': 'free'}},\n  'sharpness_din_perseg': {'run': False,\n   'main': 'avg',\n   'statistics': [5, 10, 50, 90, 95, 'min', 'max', 'kurt', 'skew'],\n   'channel': ['Left', 'Right'],\n   'label': 'S_perseg',\n   'parallel': False,\n   'func_args': {'weighting': 'din', 'nperseg': 4096, 'field_type': 'free'}},\n  'sharpness_din_tv': {'run': False,\n   'main': 'avg',\n   'statistics': [5, 10, 50, 90, 95, 'min', 'max', 'kurt', 'skew'],\n   'channel': ['Left', 'Right'],\n   'label': 'S_din_tv',\n   'parallel': True,\n   'func_args': {'weighting': 'din', 'field_type': 'free', 'skip': 0.5}},\n  'roughness_dw': {'run': False,\n   'main': 'avg',\n   'statistics': [5, 10, 50, 90, 95, 'min', 'max', 'kurt', 'skew'],\n   'channel': ['Left', 'Right'],\n   'label': 'R',\n   'parallel': True}},\n 'scikit-maad': {'all_temporal_alpha_indices': {'run': True,\n   'channel': ['Left', 'Right']},\n  'all_spectral_alpha_indices': {'run': True, 'channel': ['Left', 'Right']}},\n 'runtime': '2022-08-16 20:07:49'}"
     },
     "execution_count": 13,
     "metadata": {},
     "output_type": "execute_result"
    }
   ],
   "source": [
    "ex_settings = AnalysisSettings.from_yaml(\"example_settings.yaml\")\n",
    "ex_settings"
   ],
   "metadata": {
    "collapsed": false,
    "pycharm": {
     "name": "#%%\n"
    }
   }
  },
  {
   "cell_type": "markdown",
   "source": [
    "`ex_settings` is just a Python `dict` with some class methods added on. One of these is a function to parse the settings object for a specific library:\n"
   ],
   "metadata": {
    "collapsed": false,
    "pycharm": {
     "name": "#%% md\n"
    }
   }
  },
  {
   "cell_type": "code",
   "execution_count": 14,
   "outputs": [
    {
     "data": {
      "text/plain": "(True,\n ['Left', 'Right'],\n [5, 10, 50, 90, 95, 'min', 'max', 'kurt', 'skew', 'avg'],\n 'LAeq',\n {'time': 0.125, 'method': 'average'})"
     },
     "execution_count": 14,
     "metadata": {},
     "output_type": "execute_result"
    }
   ],
   "source": [
    "ex_settings.parse_pyacoustics(metric=\"LAeq\")"
   ],
   "metadata": {
    "collapsed": false,
    "pycharm": {
     "name": "#%%\n"
    }
   }
  },
  {
   "cell_type": "markdown",
   "source": [
    "This returns the value for `run`, `channel`, `statistics`, `label`, and `func_args` which will then be used by the `pyacoustic_metric()` function to calculate the $L_{Aeq}$ and its stats."
   ],
   "metadata": {
    "collapsed": false,
    "pycharm": {
     "name": "#%% md\n"
    }
   }
  },
  {
   "cell_type": "markdown",
   "metadata": {
    "pycharm": {
     "name": "#%% md\n"
    }
   },
   "source": [
    "By default, the metrics will be calculated for both channels. But you may want only a single channel. This can be set with the `channel` option."
   ]
  },
  {
   "cell_type": "code",
   "execution_count": 15,
   "metadata": {
    "pycharm": {
     "name": "#%%\n"
    }
   },
   "outputs": [
    {
     "data": {
      "text/plain": "            LZeq     LZeq_5    LZeq_10    LZeq_50    LZeq_90    LZeq_95  \\\nCT101  79.002814  83.065062  81.694714  77.969857  73.533225  72.283847   \n\n        LZeq_max   LZeq_min  LZeq_kurt  LZeq_skew  \nCT101  86.270916  70.194097  -0.088419  -0.056522  ",
      "text/html": "<div>\n<style scoped>\n    .dataframe tbody tr th:only-of-type {\n        vertical-align: middle;\n    }\n\n    .dataframe tbody tr th {\n        vertical-align: top;\n    }\n\n    .dataframe thead th {\n        text-align: right;\n    }\n</style>\n<table border=\"1\" class=\"dataframe\">\n  <thead>\n    <tr style=\"text-align: right;\">\n      <th></th>\n      <th>LZeq</th>\n      <th>LZeq_5</th>\n      <th>LZeq_10</th>\n      <th>LZeq_50</th>\n      <th>LZeq_90</th>\n      <th>LZeq_95</th>\n      <th>LZeq_max</th>\n      <th>LZeq_min</th>\n      <th>LZeq_kurt</th>\n      <th>LZeq_skew</th>\n    </tr>\n  </thead>\n  <tbody>\n    <tr>\n      <th>CT101</th>\n      <td>79.002814</td>\n      <td>83.065062</td>\n      <td>81.694714</td>\n      <td>77.969857</td>\n      <td>73.533225</td>\n      <td>72.283847</td>\n      <td>86.270916</td>\n      <td>70.194097</td>\n      <td>-0.088419</td>\n      <td>-0.056522</td>\n    </tr>\n  </tbody>\n</table>\n</div>"
     },
     "execution_count": 15,
     "metadata": {},
     "output_type": "execute_result"
    }
   ],
   "source": [
    "b.pyacoustics_metric(\"LZeq\", channel=\"Left\")"
   ]
  },
  {
   "cell_type": "markdown",
   "source": [
    "## Processing all the metrics at once, using predefined analysis settings."
   ],
   "metadata": {
    "collapsed": false,
    "pycharm": {
     "name": "#%% md\n"
    }
   }
  },
  {
   "cell_type": "code",
   "execution_count": 16,
   "metadata": {
    "pycharm": {
     "name": "#%%\n"
    }
   },
   "outputs": [
    {
     "name": "stdout",
     "output_type": "stream",
     "text": [
      "Processing CT101\n",
      " - Calculating Python Acoustics metrics: LAeq\n",
      " - Calculating Python Acoustics metrics: LZeq\n",
      " - Calculating Python Acoustics metrics: LCeq\n",
      " - Calculating Python Acoustics metrics: SEL\n",
      " - Calculating MoSQITo metrics: `sharpness_din` from `loudness_zwtv`\n",
      " - Calculating MoSQITo sharpness_din_from_loudness: [5, 10, 50, 90, 95, 'min', 'max', 'kurt', 'skew', 'avg']\n",
      "   -- Calculating MoSqITo: loudness_zwtv for sharpness_din_from_loudness\n",
      " - Calculating MoSQITo sharpness_din_from_loudness: [5, 10, 50, 90, 95, 'min', 'max', 'kurt', 'skew', 'avg']\n",
      "   -- Calculating MoSqITo: loudness_zwtv for sharpness_din_from_loudness\n",
      "   -- Calculating MoSqITo: sharpness_din_from_loudness\n",
      "   -- Calculating MoSqITo: sharpness_din_from_loudness\n",
      " - Calculating MoSQITo metric: sharpness_din_perseg\n",
      " - Calculating MoSQITo sharpness_din_perseg: [5, 10, 50, 90, 95, 'min', 'max', 'kurt', 'skew', 'avg']\n",
      " - Calculating MoSQITo sharpness_din_perseg: [5, 10, 50, 90, 95, 'min', 'max', 'kurt', 'skew', 'avg']\n",
      " - Calculating scikit-maad all_temporal_alpha_indices\n",
      " - Calculating scikit-maad all_spectral_alpha_indices\n"
     ]
    },
    {
     "data": {
      "text/plain": "                        LAeq     LAeq_5    LAeq_10    LAeq_50    LAeq_90  \\\nRecording Channel                                                          \nCT101     Left     68.875703  72.257301  71.154342  68.113339  63.375091   \n          Right    69.953333  73.623236  72.578152  68.495399  64.533057   \n\n                     LAeq_95   LAeq_min   LAeq_max  LAeq_kurt  LAeq_skew  ...  \\\nRecording Channel                                                         ...   \nCT101     Left     62.366533  60.560166  77.382651   0.272011  -0.013877  ...   \n          Right    63.097659  60.520566  78.708783   0.473515   0.140450  ...   \n\n                       TFSD  H_Havrda   H_Renyi  H_pairedShannon      H_gamma  \\\nRecording Channel                                                               \nCT101     Left     0.196529  0.306220  1.254553         2.981413  1004.342457   \n          Right    0.202233  0.306565  1.260965         3.032816  1054.904505   \n\n                   H_GiniSimpson      RAOQ       AGI  ROItotal  ROIcover  \nRecording Channel                                                         \nCT101     Left          0.767638  0.012133  1.502837        38  3.335626  \n          Right         0.771196  0.014212  1.505844        23  1.761245  \n\n[2 rows x 121 columns]",
      "text/html": "<div>\n<style scoped>\n    .dataframe tbody tr th:only-of-type {\n        vertical-align: middle;\n    }\n\n    .dataframe tbody tr th {\n        vertical-align: top;\n    }\n\n    .dataframe thead th {\n        text-align: right;\n    }\n</style>\n<table border=\"1\" class=\"dataframe\">\n  <thead>\n    <tr style=\"text-align: right;\">\n      <th></th>\n      <th></th>\n      <th>LAeq</th>\n      <th>LAeq_5</th>\n      <th>LAeq_10</th>\n      <th>LAeq_50</th>\n      <th>LAeq_90</th>\n      <th>LAeq_95</th>\n      <th>LAeq_min</th>\n      <th>LAeq_max</th>\n      <th>LAeq_kurt</th>\n      <th>LAeq_skew</th>\n      <th>...</th>\n      <th>TFSD</th>\n      <th>H_Havrda</th>\n      <th>H_Renyi</th>\n      <th>H_pairedShannon</th>\n      <th>H_gamma</th>\n      <th>H_GiniSimpson</th>\n      <th>RAOQ</th>\n      <th>AGI</th>\n      <th>ROItotal</th>\n      <th>ROIcover</th>\n    </tr>\n    <tr>\n      <th>Recording</th>\n      <th>Channel</th>\n      <th></th>\n      <th></th>\n      <th></th>\n      <th></th>\n      <th></th>\n      <th></th>\n      <th></th>\n      <th></th>\n      <th></th>\n      <th></th>\n      <th></th>\n      <th></th>\n      <th></th>\n      <th></th>\n      <th></th>\n      <th></th>\n      <th></th>\n      <th></th>\n      <th></th>\n      <th></th>\n      <th></th>\n    </tr>\n  </thead>\n  <tbody>\n    <tr>\n      <th rowspan=\"2\" valign=\"top\">CT101</th>\n      <th>Left</th>\n      <td>68.875703</td>\n      <td>72.257301</td>\n      <td>71.154342</td>\n      <td>68.113339</td>\n      <td>63.375091</td>\n      <td>62.366533</td>\n      <td>60.560166</td>\n      <td>77.382651</td>\n      <td>0.272011</td>\n      <td>-0.013877</td>\n      <td>...</td>\n      <td>0.196529</td>\n      <td>0.306220</td>\n      <td>1.254553</td>\n      <td>2.981413</td>\n      <td>1004.342457</td>\n      <td>0.767638</td>\n      <td>0.012133</td>\n      <td>1.502837</td>\n      <td>38</td>\n      <td>3.335626</td>\n    </tr>\n    <tr>\n      <th>Right</th>\n      <td>69.953333</td>\n      <td>73.623236</td>\n      <td>72.578152</td>\n      <td>68.495399</td>\n      <td>64.533057</td>\n      <td>63.097659</td>\n      <td>60.520566</td>\n      <td>78.708783</td>\n      <td>0.473515</td>\n      <td>0.140450</td>\n      <td>...</td>\n      <td>0.202233</td>\n      <td>0.306565</td>\n      <td>1.260965</td>\n      <td>3.032816</td>\n      <td>1054.904505</td>\n      <td>0.771196</td>\n      <td>0.014212</td>\n      <td>1.505844</td>\n      <td>23</td>\n      <td>1.761245</td>\n    </tr>\n  </tbody>\n</table>\n<p>2 rows × 121 columns</p>\n</div>"
     },
     "execution_count": 16,
     "metadata": {},
     "output_type": "execute_result"
    }
   ],
   "source": [
    "b.process_all_metrics(analysis_settings, verbose=True)"
   ]
  },
  {
   "cell_type": "markdown",
   "source": [
    "## Batch processing a bunch of recordings.\n",
    "\n",
    "Don't worry about the status updates looking like nonsense - that's what happens with parallel processing."
   ],
   "metadata": {
    "collapsed": false,
    "pycharm": {
     "name": "#%% md\n"
    }
   }
  },
  {
   "cell_type": "code",
   "execution_count": 8,
   "metadata": {
    "pycharm": {
     "name": "#%%\n"
    }
   },
   "outputs": [
    {
     "name": "stdout",
     "output_type": "stream",
     "text": [
      "Processing CT101Processing CT102\n",
      "Processing CT103Processing CT104\n",
      "\n",
      "Processing CT108Processing CT107\n",
      "\n",
      "\n",
      "Processing CT109\n",
      "Processing CT110\n",
      "Time taken: 193.31 seconds\n"
     ]
    }
   ],
   "source": [
    "import time\n",
    "from soundscapy.parallel_processing import parallel_process\n",
    "\n",
    "# Redefine path etc. just for the example\n",
    "wav_folder = Path().cwd().parent.joinpath(\"test\", \"data\")\n",
    "levels = wav_folder.joinpath(\"Levels.json\")\n",
    "\n",
    "with open(levels) as f:\n",
    "    levels = json.load(f)\n",
    "\n",
    "ex_settings = AnalysisSettings.from_yaml(\"example_settings.yaml\")\n",
    "\n",
    "df = prep_multiindex_df(levels, incl_metric=False)\n",
    "\n",
    "start = time.perf_counter() # Start timer\n",
    "\n",
    "df = parallel_process(\n",
    "    wav_folder.glob(\"*.wav\"), df, levels, ex_settings, verbose=False\n",
    ")\n",
    "\n",
    "end = time.perf_counter()\n",
    "print(f\"Time taken: {end-start:.2f} seconds\")\n"
   ]
  },
  {
   "cell_type": "code",
   "execution_count": 9,
   "metadata": {
    "pycharm": {
     "name": "#%%\n"
    }
   },
   "outputs": [
    {
     "data": {
      "text/plain": "                        LAeq     LAeq_5    LAeq_10    LAeq_50    LAeq_90  \\\nRecording Channel                                                          \nCT101     Left     68.875703  72.257301  71.154342  68.113339  63.375091   \n          Right    69.953333  73.623236  72.578152  68.495399  64.533057   \nCT102     Left     70.613447  74.541317  73.322597  69.297264  65.074481   \n          Right    70.491840  75.681356  73.055797  69.131814  64.975452   \nCT103     Left     66.330006  69.010487  68.241612  65.579475  63.680847   \n...                      ...        ...        ...        ...        ...   \nSM518     Right          NaN        NaN        NaN        NaN        NaN   \nSM519     Left           NaN        NaN        NaN        NaN        NaN   \n          Right          NaN        NaN        NaN        NaN        NaN   \nSM520     Left           NaN        NaN        NaN        NaN        NaN   \n          Right          NaN        NaN        NaN        NaN        NaN   \n\n                     LAeq_95   LAeq_min   LAeq_max  LAeq_kurt  LAeq_skew  ...  \\\nRecording Channel                                                         ...   \nCT101     Left     62.366533  60.560166  77.382651   0.272011  -0.013877  ...   \n          Right    63.097659  60.520566  78.708783   0.473515   0.140450  ...   \nCT102     Left     64.561974  63.337182  78.922344   0.270694   0.530142  ...   \n          Right    64.209771  63.114758  81.634943   0.648596   0.601576  ...   \nCT103     Left     63.194765  62.103353  74.234566   2.236365   1.127518  ...   \n...                      ...        ...        ...        ...        ...  ...   \nSM518     Right          NaN        NaN        NaN        NaN        NaN  ...   \nSM519     Left           NaN        NaN        NaN        NaN        NaN  ...   \n          Right          NaN        NaN        NaN        NaN        NaN  ...   \nSM520     Left           NaN        NaN        NaN        NaN        NaN  ...   \n          Right          NaN        NaN        NaN        NaN        NaN  ...   \n\n                       TFSD  H_Havrda   H_Renyi  H_pairedShannon      H_gamma  \\\nRecording Channel                                                               \nCT101     Left     0.196529  0.306220  1.254553         2.981413  1004.342457   \n          Right    0.202233  0.306565  1.260965         3.032816  1054.904505   \nCT102     Left     0.228492  0.315584  1.466408         3.338958  1570.553167   \n          Right    0.203362  0.314666  1.441181         3.266859  1171.085166   \nCT103     Left     0.205715  0.309768  1.324691         3.109321  1062.343059   \n...                     ...       ...       ...              ...          ...   \nSM518     Right         NaN       NaN       NaN              NaN          NaN   \nSM519     Left          NaN       NaN       NaN              NaN          NaN   \n          Right         NaN       NaN       NaN              NaN          NaN   \nSM520     Left          NaN       NaN       NaN              NaN          NaN   \n          Right         NaN       NaN       NaN              NaN          NaN   \n\n                   H_GiniSimpson      RAOQ       AGI  ROItotal  ROIcover  \nRecording Channel                                                         \nCT101     Left          0.767638  0.012133  1.502837      38.0  3.335626  \n          Right         0.771196  0.014212  1.505844      23.0  1.761245  \nCT102     Left          0.817882  0.018555  1.649930       2.0  3.491107  \n          Right         0.813338  0.012127  1.497617      50.0  2.735081  \nCT103     Left          0.785795  0.013687  1.484989     117.0  4.195455  \n...                          ...       ...       ...       ...       ...  \nSM518     Right              NaN       NaN       NaN       NaN       NaN  \nSM519     Left               NaN       NaN       NaN       NaN       NaN  \n          Right              NaN       NaN       NaN       NaN       NaN  \nSM520     Left               NaN       NaN       NaN       NaN       NaN  \n          Right              NaN       NaN       NaN       NaN       NaN  \n\n[2904 rows x 111 columns]",
      "text/html": "<div>\n<style scoped>\n    .dataframe tbody tr th:only-of-type {\n        vertical-align: middle;\n    }\n\n    .dataframe tbody tr th {\n        vertical-align: top;\n    }\n\n    .dataframe thead th {\n        text-align: right;\n    }\n</style>\n<table border=\"1\" class=\"dataframe\">\n  <thead>\n    <tr style=\"text-align: right;\">\n      <th></th>\n      <th></th>\n      <th>LAeq</th>\n      <th>LAeq_5</th>\n      <th>LAeq_10</th>\n      <th>LAeq_50</th>\n      <th>LAeq_90</th>\n      <th>LAeq_95</th>\n      <th>LAeq_min</th>\n      <th>LAeq_max</th>\n      <th>LAeq_kurt</th>\n      <th>LAeq_skew</th>\n      <th>...</th>\n      <th>TFSD</th>\n      <th>H_Havrda</th>\n      <th>H_Renyi</th>\n      <th>H_pairedShannon</th>\n      <th>H_gamma</th>\n      <th>H_GiniSimpson</th>\n      <th>RAOQ</th>\n      <th>AGI</th>\n      <th>ROItotal</th>\n      <th>ROIcover</th>\n    </tr>\n    <tr>\n      <th>Recording</th>\n      <th>Channel</th>\n      <th></th>\n      <th></th>\n      <th></th>\n      <th></th>\n      <th></th>\n      <th></th>\n      <th></th>\n      <th></th>\n      <th></th>\n      <th></th>\n      <th></th>\n      <th></th>\n      <th></th>\n      <th></th>\n      <th></th>\n      <th></th>\n      <th></th>\n      <th></th>\n      <th></th>\n      <th></th>\n      <th></th>\n    </tr>\n  </thead>\n  <tbody>\n    <tr>\n      <th rowspan=\"2\" valign=\"top\">CT101</th>\n      <th>Left</th>\n      <td>68.875703</td>\n      <td>72.257301</td>\n      <td>71.154342</td>\n      <td>68.113339</td>\n      <td>63.375091</td>\n      <td>62.366533</td>\n      <td>60.560166</td>\n      <td>77.382651</td>\n      <td>0.272011</td>\n      <td>-0.013877</td>\n      <td>...</td>\n      <td>0.196529</td>\n      <td>0.306220</td>\n      <td>1.254553</td>\n      <td>2.981413</td>\n      <td>1004.342457</td>\n      <td>0.767638</td>\n      <td>0.012133</td>\n      <td>1.502837</td>\n      <td>38.0</td>\n      <td>3.335626</td>\n    </tr>\n    <tr>\n      <th>Right</th>\n      <td>69.953333</td>\n      <td>73.623236</td>\n      <td>72.578152</td>\n      <td>68.495399</td>\n      <td>64.533057</td>\n      <td>63.097659</td>\n      <td>60.520566</td>\n      <td>78.708783</td>\n      <td>0.473515</td>\n      <td>0.140450</td>\n      <td>...</td>\n      <td>0.202233</td>\n      <td>0.306565</td>\n      <td>1.260965</td>\n      <td>3.032816</td>\n      <td>1054.904505</td>\n      <td>0.771196</td>\n      <td>0.014212</td>\n      <td>1.505844</td>\n      <td>23.0</td>\n      <td>1.761245</td>\n    </tr>\n    <tr>\n      <th rowspan=\"2\" valign=\"top\">CT102</th>\n      <th>Left</th>\n      <td>70.613447</td>\n      <td>74.541317</td>\n      <td>73.322597</td>\n      <td>69.297264</td>\n      <td>65.074481</td>\n      <td>64.561974</td>\n      <td>63.337182</td>\n      <td>78.922344</td>\n      <td>0.270694</td>\n      <td>0.530142</td>\n      <td>...</td>\n      <td>0.228492</td>\n      <td>0.315584</td>\n      <td>1.466408</td>\n      <td>3.338958</td>\n      <td>1570.553167</td>\n      <td>0.817882</td>\n      <td>0.018555</td>\n      <td>1.649930</td>\n      <td>2.0</td>\n      <td>3.491107</td>\n    </tr>\n    <tr>\n      <th>Right</th>\n      <td>70.491840</td>\n      <td>75.681356</td>\n      <td>73.055797</td>\n      <td>69.131814</td>\n      <td>64.975452</td>\n      <td>64.209771</td>\n      <td>63.114758</td>\n      <td>81.634943</td>\n      <td>0.648596</td>\n      <td>0.601576</td>\n      <td>...</td>\n      <td>0.203362</td>\n      <td>0.314666</td>\n      <td>1.441181</td>\n      <td>3.266859</td>\n      <td>1171.085166</td>\n      <td>0.813338</td>\n      <td>0.012127</td>\n      <td>1.497617</td>\n      <td>50.0</td>\n      <td>2.735081</td>\n    </tr>\n    <tr>\n      <th>CT103</th>\n      <th>Left</th>\n      <td>66.330006</td>\n      <td>69.010487</td>\n      <td>68.241612</td>\n      <td>65.579475</td>\n      <td>63.680847</td>\n      <td>63.194765</td>\n      <td>62.103353</td>\n      <td>74.234566</td>\n      <td>2.236365</td>\n      <td>1.127518</td>\n      <td>...</td>\n      <td>0.205715</td>\n      <td>0.309768</td>\n      <td>1.324691</td>\n      <td>3.109321</td>\n      <td>1062.343059</td>\n      <td>0.785795</td>\n      <td>0.013687</td>\n      <td>1.484989</td>\n      <td>117.0</td>\n      <td>4.195455</td>\n    </tr>\n    <tr>\n      <th>...</th>\n      <th>...</th>\n      <td>...</td>\n      <td>...</td>\n      <td>...</td>\n      <td>...</td>\n      <td>...</td>\n      <td>...</td>\n      <td>...</td>\n      <td>...</td>\n      <td>...</td>\n      <td>...</td>\n      <td>...</td>\n      <td>...</td>\n      <td>...</td>\n      <td>...</td>\n      <td>...</td>\n      <td>...</td>\n      <td>...</td>\n      <td>...</td>\n      <td>...</td>\n      <td>...</td>\n      <td>...</td>\n    </tr>\n    <tr>\n      <th>SM518</th>\n      <th>Right</th>\n      <td>NaN</td>\n      <td>NaN</td>\n      <td>NaN</td>\n      <td>NaN</td>\n      <td>NaN</td>\n      <td>NaN</td>\n      <td>NaN</td>\n      <td>NaN</td>\n      <td>NaN</td>\n      <td>NaN</td>\n      <td>...</td>\n      <td>NaN</td>\n      <td>NaN</td>\n      <td>NaN</td>\n      <td>NaN</td>\n      <td>NaN</td>\n      <td>NaN</td>\n      <td>NaN</td>\n      <td>NaN</td>\n      <td>NaN</td>\n      <td>NaN</td>\n    </tr>\n    <tr>\n      <th rowspan=\"2\" valign=\"top\">SM519</th>\n      <th>Left</th>\n      <td>NaN</td>\n      <td>NaN</td>\n      <td>NaN</td>\n      <td>NaN</td>\n      <td>NaN</td>\n      <td>NaN</td>\n      <td>NaN</td>\n      <td>NaN</td>\n      <td>NaN</td>\n      <td>NaN</td>\n      <td>...</td>\n      <td>NaN</td>\n      <td>NaN</td>\n      <td>NaN</td>\n      <td>NaN</td>\n      <td>NaN</td>\n      <td>NaN</td>\n      <td>NaN</td>\n      <td>NaN</td>\n      <td>NaN</td>\n      <td>NaN</td>\n    </tr>\n    <tr>\n      <th>Right</th>\n      <td>NaN</td>\n      <td>NaN</td>\n      <td>NaN</td>\n      <td>NaN</td>\n      <td>NaN</td>\n      <td>NaN</td>\n      <td>NaN</td>\n      <td>NaN</td>\n      <td>NaN</td>\n      <td>NaN</td>\n      <td>...</td>\n      <td>NaN</td>\n      <td>NaN</td>\n      <td>NaN</td>\n      <td>NaN</td>\n      <td>NaN</td>\n      <td>NaN</td>\n      <td>NaN</td>\n      <td>NaN</td>\n      <td>NaN</td>\n      <td>NaN</td>\n    </tr>\n    <tr>\n      <th rowspan=\"2\" valign=\"top\">SM520</th>\n      <th>Left</th>\n      <td>NaN</td>\n      <td>NaN</td>\n      <td>NaN</td>\n      <td>NaN</td>\n      <td>NaN</td>\n      <td>NaN</td>\n      <td>NaN</td>\n      <td>NaN</td>\n      <td>NaN</td>\n      <td>NaN</td>\n      <td>...</td>\n      <td>NaN</td>\n      <td>NaN</td>\n      <td>NaN</td>\n      <td>NaN</td>\n      <td>NaN</td>\n      <td>NaN</td>\n      <td>NaN</td>\n      <td>NaN</td>\n      <td>NaN</td>\n      <td>NaN</td>\n    </tr>\n    <tr>\n      <th>Right</th>\n      <td>NaN</td>\n      <td>NaN</td>\n      <td>NaN</td>\n      <td>NaN</td>\n      <td>NaN</td>\n      <td>NaN</td>\n      <td>NaN</td>\n      <td>NaN</td>\n      <td>NaN</td>\n      <td>NaN</td>\n      <td>...</td>\n      <td>NaN</td>\n      <td>NaN</td>\n      <td>NaN</td>\n      <td>NaN</td>\n      <td>NaN</td>\n      <td>NaN</td>\n      <td>NaN</td>\n      <td>NaN</td>\n      <td>NaN</td>\n      <td>NaN</td>\n    </tr>\n  </tbody>\n</table>\n<p>2904 rows × 111 columns</p>\n</div>"
     },
     "execution_count": 9,
     "metadata": {},
     "output_type": "execute_result"
    }
   ],
   "source": [
    "df"
   ]
  },
  {
   "cell_type": "markdown",
   "source": [
    "Then save it if you want to."
   ],
   "metadata": {
    "collapsed": false,
    "pycharm": {
     "name": "#%% md\n"
    }
   }
  },
  {
   "cell_type": "code",
   "execution_count": 10,
   "metadata": {
    "pycharm": {
     "name": "#%%\n"
    }
   },
   "outputs": [],
   "source": [
    "# from datetime import datetime\n",
    "# df.to_excel(wav_folder.joinpath(\"test\", f\"ParallelTest_{datetime.today().strftime('%Y-%m-%d')}.xlsx\"))"
   ]
  },
  {
   "cell_type": "code",
   "execution_count": null,
   "metadata": {
    "pycharm": {
     "name": "#%%\n"
    }
   },
   "outputs": [],
   "source": [
    "\n"
   ]
  }
 ],
 "metadata": {
  "kernelspec": {
   "display_name": "Python 3.8.13 ('soundscapy-dev')",
   "language": "python",
   "name": "python3"
  },
  "language_info": {
   "codemirror_mode": {
    "name": "ipython",
    "version": 3
   },
   "file_extension": ".py",
   "mimetype": "text/x-python",
   "name": "python",
   "nbconvert_exporter": "python",
   "pygments_lexer": "ipython3",
   "version": "3.10.5"
  },
  "orig_nbformat": 4,
  "vscode": {
   "interpreter": {
    "hash": "d2df2a74643178217b63bd7a45d056c01c7115e1d7e34071559acceb0094d44a"
   }
  }
 },
 "nbformat": 4,
 "nbformat_minor": 2
}