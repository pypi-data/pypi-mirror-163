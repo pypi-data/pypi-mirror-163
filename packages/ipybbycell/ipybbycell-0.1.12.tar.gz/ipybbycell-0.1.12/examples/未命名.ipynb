{
 "cells": [
  {
   "cell_type": "code",
   "execution_count": null,
   "id": "308d937c",
   "metadata": {
    "bxyCellId": "id_u2rwbag"
   },
   "outputs": [],
   "source": []
  },
  {
   "cell_type": "markdown",
   "id": "f8d084cd",
   "metadata": {
    "bxyCellId": "id_re3cg5p"
   },
   "source": [
    "<details>\n",
    "\n",
    "<summary>标题</summary>\n",
    "\n",
    "内容\n",
    "\n",
    "</details>\n",
    "  "
   ]
  },
  {
   "cell_type": "markdown",
   "id": "317f0224",
   "metadata": {
    "bxyCellId": "id_jjm9pt2"
   },
   "source": [
    "<!-- ------请勿修改此处内容------ -->\n",
    "\n",
    "<!--图片播放器 Begin -->\n",
    "\n",
    "<div class=\"image-wrapper\">\n",
    "<div class=\"image-viewer\">\n",
    "\n",
    "<!-- ------请勿修改此处内容------ -->\n",
    "  "
   ]
  },
  {
   "cell_type": "markdown",
   "id": "4bd1393e",
   "metadata": {
    "bxyCellId": "id_lvn0axh"
   },
   "source": [
    "\n",
    "<!-- 添加图片资源 -->\n",
    "<img src=\"【在此处粘贴替换图片地址】\" />\n",
    "<img src=\"【在此处粘贴替换图片地址】\" />\n",
    "<img src=\"【在此处粘贴替换图片地址】\" />\n",
    "<!-- 添加图片资源 -->\n",
    "  "
   ]
  },
  {
   "cell_type": "markdown",
   "id": "c3a8df59",
   "metadata": {
    "bxyCellId": "id_euv5ufd"
   },
   "source": [
    "<!-- ------请勿修改此处内容------ -->\n",
    "\n",
    "</div>\n",
    "<div class=\"button-wrapper\">\n",
    "<button class=\"last\"></button>\n",
    "<div>\n",
    "<span id=\"current\">1</span>\n",
    "<span>/</span>\n",
    "<span id=\"total\">3</span>\n",
    "</div>\n",
    "<button class=\"next\"></button>\n",
    "</div>\n",
    "\n",
    "<!--图片播放器 End -->\n",
    "\n",
    "<!-- ------请勿修改此处内容------ -->\n",
    "  "
   ]
  }
 ],
 "metadata": {
  "bxyId": "id_sbn2d6w",
  "kernelspec": {
   "display_name": "Python 3",
   "language": "python",
   "name": "python3"
  },
  "language_info": {
   "codemirror_mode": {
    "name": "ipython",
    "version": 3
   },
   "file_extension": ".py",
   "mimetype": "text/x-python",
   "name": "python",
   "nbconvert_exporter": "python",
   "pygments_lexer": "ipython3",
   "version": "3.6.8"
  }
 },
 "nbformat": 4,
 "nbformat_minor": 5
}
