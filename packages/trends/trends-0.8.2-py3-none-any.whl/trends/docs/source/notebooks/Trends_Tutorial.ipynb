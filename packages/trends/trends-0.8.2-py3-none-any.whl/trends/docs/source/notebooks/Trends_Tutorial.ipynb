{
 "cells": [
  {
   "cell_type": "markdown",
   "id": "83c9bac2",
   "metadata": {},
   "source": [
    "# A Trends Tutorial"
   ]
  },
  {
   "cell_type": "markdown",
   "id": "1e9e57eb",
   "metadata": {},
   "source": [
    "## Monotonic Sequences"
   ]
  },
  {
   "cell_type": "markdown",
   "id": "1092e1f8",
   "metadata": {},
   "source": [
    "In a *monotonically increasing* sequence, each element is greater than the last.\n",
    "For example, the sequence of primes, 2, 3, 5, 7, 11, 13, ... is monotonically increasing.\n",
    "Its doppelganger, a *monotonically decreasing* sequence, has every element less than its predecessor.\n",
    "Examples include 1/2, 1/3, 1/5, 1/7, 1/11, 1/13, ...\n",
    "-2, -3, -5, -7, -11, -13, ...\n",
    "and lots more that you could make up yourself.\n",
    "\n",
    "This function asks whether a list is monotonically increasing:"
   ]
  },
  {
   "cell_type": "code",
   "execution_count": null,
   "id": "11a01067",
   "metadata": {},
   "outputs": [],
   "source": [
    "def is_mono_inc(s):\n",
    "   return all([s[i] > s[i-1] for i in range(1, len(s)-1)])"
   ]
  },
  {
   "cell_type": "markdown",
   "id": "18ac32e3",
   "metadata": {},
   "source": [
    "Define your own list below and then use `mono_inc()` to ask whether it's monotonically increasing."
   ]
  },
  {
   "cell_type": "code",
   "execution_count": null,
   "id": "c4f7650b",
   "metadata": {},
   "outputs": [],
   "source": []
  },
  {
   "cell_type": "markdown",
   "id": "d90d6b54",
   "metadata": {},
   "source": [
    "Next, define (and try) the function `mono_dec()` to test whether a sequence is monotonically decreasing."
   ]
  },
  {
   "cell_type": "code",
   "execution_count": null,
   "id": "3f215f4f",
   "metadata": {},
   "outputs": [],
   "source": []
  },
  {
   "cell_type": "markdown",
   "id": "c6d7d1df",
   "metadata": {},
   "source": [
    "If a sequence is either monotonically increasing or decreasing, we just say it's *monotonic*.\n",
    "Define the function `mono()` to see whether a list is monotonic.\n",
    "\n",
    "It is probably obvious at this point that, for a numeric sequence, \"monotonic\" and \"sorted\" are nearly synonyms."
   ]
  },
  {
   "cell_type": "markdown",
   "id": "76e10c25",
   "metadata": {},
   "source": [
    "### Edge Cases"
   ]
  },
  {
   "cell_type": "markdown",
   "id": "1b19149c",
   "metadata": {},
   "source": [
    "If two or more numbers in the sequence are equal, we have an edge-case. Such a list could be sorted, but not monotonic. Consder the list l = [0,1,1,1,1,1,50].  This is obviously sorted but neither monotonically increasing, nor decreasing. \n",
    "\n",
    "There are at least two easy outs: one is to call such a list \"monotonically non-decreasing.\" A second, often more useful, is to stick to sequences where that will never happen. For example, if you confine yourself to sequences of random reals, the probability of duplicates in that sequence is zero.\n",
    "\n",
    "While we can't generate reals in Python, floats suffice: the odds of duplicates in even very long list of random floats isn't zero, but it's so small that you can test for them and throw exceptions when they occur.\n",
    "\n",
    "Neither can we actually generate random floats, but pseudo-random-number generators are good enough in practice.\n",
    "\n",
    "From here on out, when we say \"sequence,\" we'll mean a sequence of reals, and our Python programs will manipulate lists of (pseudo-)random floats."
   ]
  },
  {
   "cell_type": "markdown",
   "id": "de2f88e7",
   "metadata": {},
   "source": [
    "## From Monotonic to Trends"
   ]
  },
  {
   "cell_type": "markdown",
   "id": "752a6c56",
   "metadata": {},
   "source": [
    "Monotonicity is interesting, but rare. In a sequence of length N, only 1 of the N! permutations will be increasing, and another, decreasing. The `math.factorial(*N*)` caculates `N!`.  If you generate one random real every morning, at the end of the week, the probability that your sequence will be monotonic is"
   ]
  },
  {
   "cell_type": "code",
   "execution_count": null,
   "id": "6417edf6",
   "metadata": {},
   "outputs": [],
   "source": [
    "import math\n",
    "math.factorial(7)"
   ]
  },
  {
   "cell_type": "markdown",
   "id": "03ae2fc2",
   "metadata": {},
   "source": [
    "What if you do it every day for a year?"
   ]
  },
  {
   "cell_type": "code",
   "execution_count": null,
   "id": "5be1b019",
   "metadata": {},
   "outputs": [],
   "source": [
    "math.factorial(365)"
   ]
  },
  {
   "cell_type": "markdown",
   "id": "c81867b0",
   "metadata": {},
   "source": [
    "Being monotonic is rare. Let's lower our expectations.\n",
    "\n",
    "To do that, begin with this different, yet equivalent, definition of monotonic:\n",
    "\n",
    "Put your finger between two, successive terms of your sequence.\n",
    "Suppose you discover every number to the left of your finger is less than every number to its right.\n",
    "If that's true *no matter where you put your finger*, the sequence is monotonically increasing."
   ]
  },
  {
   "cell_type": "code",
   "execution_count": null,
   "id": "a0cc2308",
   "metadata": {},
   "outputs": [],
   "source": [
    "def is_mono_inc2(s):\n",
    "\n",
    "    "
   ]
  },
  {
   "cell_type": "markdown",
   "id": "258a9b45",
   "metadata": {},
   "source": [
    "Try this function on the sequences you defined earlier to verify you get the same answer."
   ]
  },
  {
   "cell_type": "code",
   "execution_count": null,
   "id": "82d819c5",
   "metadata": {},
   "outputs": [],
   "source": []
  },
  {
   "cell_type": "markdown",
   "id": "ff187473",
   "metadata": {},
   "source": [
    "## From Monotonic Sequences to Trends"
   ]
  },
  {
   "cell_type": "markdown",
   "id": "3b8b0096",
   "metadata": {},
   "source": [
    "Suppose that you buy a stock whose value changes every day.\n",
    "If its value increased monotonically over the year, you'd be delighted.\n",
    "\n",
    "If, however, its value dipped slightly on the next-to-last day, but then went back up on New-Year's Eve, you'd still be happy.\n",
    "\n",
    "Even more general: suppose that the stock price bounces up and down, but when you write them all down, you discover that the sequence of daily prices has an interesting feature:\n",
    "wherever you put your finger, the *average* of all the stock prices to its left is less than the *average* of all those to its right. The price isn't rising uniformly, but it's rising on average.  Each day, at close-of-market, the days ahead are going to be better, on average, than the days gone by.\n",
    "\n",
    "We'll call this sort of sequence a *trend*."
   ]
  },
  {
   "cell_type": "code",
   "execution_count": null,
   "id": "299bc2c3",
   "metadata": {},
   "outputs": [],
   "source": [
    "import statistics\n",
    "\n",
    "def is_trend(s):\n",
    "    n = len(s)\n",
    "    for i in range(1,n):\n",
    "        if statistics.mean(s[:i]) > statistics.mean(s[i:]):\n",
    "            return False\n",
    "    return True"
   ]
  },
  {
   "cell_type": "markdown",
   "id": "b3757606",
   "metadata": {},
   "source": [
    "Make some sequences, then use the function above to test whether they're trends."
   ]
  },
  {
   "cell_type": "markdown",
   "id": "557b31e4",
   "metadata": {},
   "source": [
    "## Looking for Trends (in all the wrong places)"
   ]
  },
  {
   "cell_type": "markdown",
   "id": "df6b7e83",
   "metadata": {},
   "source": [
    "You have already noticed that you can trivially turn any random sequence\n",
    "into a monotonic sequence, like this:"
   ]
  },
  {
   "cell_type": "code",
   "execution_count": null,
   "id": "e6d330f3",
   "metadata": {},
   "outputs": [],
   "source": [
    "from random import random\n",
    "rand_10 = [random(elem) for elm in range(10)]  # a sequence of 10, random reals in [0,1)\n",
    "mono_10 = sorted(rand_10)  # a monotonically increasing arrangement of the same numbers"
   ]
  },
  {
   "cell_type": "markdown",
   "id": "01021a5c",
   "metadata": {},
   "source": [
    "Can you turn the same sequence into a trend?\n",
    "\n",
    "Sure. A monotonically increasing sequence is also a trend. Just call `sorted()`.\n",
    "\n",
    "But there's a more interesting way. First, start at the left end and move to the right for as long as the elements are still in a trend."
   ]
  },
  {
   "cell_type": "markdown",
   "id": "0edd3edf",
   "metadata": {},
   "source": [
    "## The Trends Package"
   ]
  },
  {
   "cell_type": "code",
   "execution_count": null,
   "id": "ea5a498f",
   "metadata": {},
   "outputs": [],
   "source": []
  },
  {
   "cell_type": "markdown",
   "id": "19d0365b",
   "metadata": {},
   "source": []
  },
  {
   "cell_type": "markdown",
   "id": "8aa1a739",
   "metadata": {},
   "source": [
    "The package `trends.py` lets you define and manipulate trends, and is available on PyPI.\n",
    "To use the Trends package in your Python code, begin by importing it:"
   ]
  },
  {
   "cell_type": "code",
   "execution_count": 2,
   "id": "c14fd9b6",
   "metadata": {},
   "outputs": [],
   "source": [
    "import trends"
   ]
  }
 ],
 "metadata": {
  "kernelspec": {
   "display_name": "Python 3 (ipykernel)",
   "language": "python",
   "name": "python3"
  },
  "language_info": {
   "codemirror_mode": {
    "name": "ipython",
    "version": 3
   },
   "file_extension": ".py",
   "mimetype": "text/x-python",
   "name": "python",
   "nbconvert_exporter": "python",
   "pygments_lexer": "ipython3",
   "version": "3.7.3"
  }
 },
 "nbformat": 4,
 "nbformat_minor": 5
}
