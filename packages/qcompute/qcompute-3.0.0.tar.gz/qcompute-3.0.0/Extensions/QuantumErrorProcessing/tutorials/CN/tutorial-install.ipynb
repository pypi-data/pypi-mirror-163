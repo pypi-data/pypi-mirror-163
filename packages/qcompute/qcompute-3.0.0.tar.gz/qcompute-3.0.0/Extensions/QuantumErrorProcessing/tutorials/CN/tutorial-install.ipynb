{
 "cells": [
  {
   "cell_type": "markdown",
   "metadata": {
    "pycharm": {
     "name": "#%% md\n"
    }
   },
   "source": [
    "# 安装说明\n",
    "\n",
    "*版权所有 (c) 2022 百度量子计算研究所，保留所有权利。*\n",
    "\n",
    "\n",
    "## 安装 Anaconda \n",
    "\n",
    "我们强烈建议您使用 [Anaconda](https://www.anaconda.com/products/individual) 作为研发环境。Anaconda 是一个强大的 Python 包和环境管理器，支持 Windows、Linux 和 MacOS 等操作系统，提供 Scipy、Numpy、Matplotlib 等科学计算和作图包，最主要的是其自带 Python 开发环境的管理器 conda，可以用来安装和更新主流 Python 包。Anaconda 安装成功后，您可以启动 Anaconda Prompt 命令行窗口（Windows 用户）或终端（Linux 和 MacOS 用户）来使用 conda 创建和管理环境。以下以 MacOS 用户为例介绍创建和管理环境流程。\n",
    "\n",
    "1. 请打开终命令行窗口并输入：\n",
    "\n",
    "```bash\n",
    "conda create --name qep python=3.8\n",
    "```\n",
    "\n",
    "  来构建一个 Python 版本为 3.8 的环境 `qep`，然后通过以下命令来激活这个新环境：\n",
    "\n",
    "```bash\n",
    "conda activate qep\n",
    "```\n",
    "\n",
    "2. 为了能顺利查看项目中的 Jupyter Notebook Tutorials，我们还需要用以下命令安装 `jupyter notebook`：\n",
    "\n",
    "```bash\n",
    "conda install jupyter notebook\n",
    "```\n",
    "\n",
    "安装完成之后，如果你想开启 Jupyter Notebook 只需要在 Terminal 内进入正确的环境后输入\n",
    "\n",
    "```bash\n",
    "jupyter notebook\n",
    "```\n",
    "\n",
    "关于 conda 更详细的介绍请参考[官方教程](https://docs.conda.io/projects/conda/en/latest/user-guide/getting-started.html)。此外，你也可以通过使用 [Anaconda Navigator](https://docs.anaconda.com/anaconda/navigator/) 启动 Jupyter Notebook。\n",
    "\n",
    "3. 更新所需的依赖项。QEP 包依赖以下项目，为了更好的用户体验，我们建议在使用 QEP 前更新依赖项。比如，如果想更新 `matplotlib` 模块，可以在终端命令行窗口运行\n",
    "\n",
    "```bash\n",
    "pip install --upgrade matplotlib\n",
    "```\n",
    "\n",
    "## 安装 QCompute\n",
    "\n",
    "[QCompute](https://quantum-hub.baidu.com/opensource) 是百度量子计算研究所基于 Python 开发的云原生量子计算平台开源 SDK。它为专业开发者提供全栈式量子编程体验，包含混合量子编程语言特性和高性能模拟器等功能。QEP 项目是基于 QCompute 开发的量子噪声处理工具。当用户安装 QEP 时会自动下载安装这个关键依赖包。更全面的安装信息请参考 [QCompute](https://quantum-hub.baidu.com/opensource) 安装配置页面。\n",
    "\n",
    "## 安装 QEP\n",
    "\n",
    "### 通过 pip 安装 \n",
    "\n",
    "QEP 支持 64-bit Python 3.8 和 3.9，兼容 Linux，MacOS (10.14+) 以及 Windows 系统。我们推荐通过 `pip` 完成安装过程。在激活 conda 环境之后，输入\n",
    "\n",
    "```bash\n",
    "pip install qcompute-qep\n",
    "```\n",
    "\n",
    "将会自动完成 QEP 的安装。安装好 QEP 之后，您可前往 [GitHub](https://github.com/baidu/QCompute/Extensions/QuantumErrorProcessing/) 下载 QEP 源代码并运行其中的示例程序来验证 QEP 是否已成功安装：\n",
    "\n",
    "```bash\n",
    "python example-qcompute-qep.py\n",
    "```\n",
    "\n",
    "### 升级 QEP\n",
    "\n",
    "我们强烈推荐您使用最新版本的 QEP，使用最新功能。如果您已安装 QEP，可通过以下命令进行升级\n",
    "\n",
    "```bash\n",
    "pip install --upgrade qcompute-qep\n",
    "```"
   ]
  }
 ],
 "metadata": {
  "kernelspec": {
   "display_name": "Python 3",
   "language": "python",
   "name": "python3"
  },
  "language_info": {
   "codemirror_mode": {
    "name": "ipython",
    "version": 3
   },
   "file_extension": ".py",
   "mimetype": "text/x-python",
   "name": "python",
   "nbconvert_exporter": "python",
   "pygments_lexer": "ipython3",
   "version": "3.8.5"
  }
 },
 "nbformat": 4,
 "nbformat_minor": 4
}
