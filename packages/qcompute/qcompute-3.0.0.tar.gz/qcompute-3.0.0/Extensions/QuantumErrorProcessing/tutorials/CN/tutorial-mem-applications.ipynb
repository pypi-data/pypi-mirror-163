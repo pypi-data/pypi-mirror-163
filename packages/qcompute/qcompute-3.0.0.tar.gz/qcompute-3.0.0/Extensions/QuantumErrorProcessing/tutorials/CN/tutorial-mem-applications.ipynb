{
 "cells": [
  {
   "cell_type": "markdown",
   "metadata": {
    "pycharm": {
     "name": "#%% md\n"
    }
   },
   "source": [
    "# 量子测量噪声缓释的应用\n",
    "\n",
    "*版权所有 (c) 2022 百度量子计算研究所，保留所有权利。*"
   ]
  },
  {
   "cell_type": "markdown",
   "metadata": {},
   "source": [
    "## 内容概要\n",
    "\n",
    "本教程针对 QEP 模块已有的 $2$ 种校准方法以及 $4$ 种缓释方法，在[百度量子平台](https://quantum.baidu.com/)上，给出在不同的案例中，测量噪声缓释的效果。"
   ]
  },
  {
   "cell_type": "markdown",
   "metadata": {
    "pycharm": {
     "name": "#%% md\n"
    }
   },
   "source": [
    "## 案例分析\n",
    "\n",
    "一类经典的量子算法框架是：制备初始态，量子电路演化，测量并得到测量结果，计算期望值。以下的案例都将基于该量子算法框架。\n",
    "\n",
    "### GHZ\n",
    "\n",
    "GHZ 态是 Greenberger-Horne-Zeilinger 态的简称，是一种至少包含 $3$ 个子系统的纠缠量子态[1]，一个 $3$ 比特的 GHZ 态表示为:\n",
    "\n",
    "$$\n",
    "\\begin{equation}\n",
    "\\vert GHZ\\rangle = \\frac{\\vert000\\rangle+\\vert111\\rangle}{\\sqrt{2}}.\n",
    "\\end{equation}\n",
    "$$\n",
    "\n",
    "初始化电路后，通过 H 门和 CX 门的演化，可以轻松构建出 GHZ 态，并在 Z 基下进行测量得到测量结果，我们将计算观测算符 $O = \\vert 0\\cdots 0\\rangle\\langle 0\\cdots 0\\vert + \\vert 1\\cdots 1\\rangle\\langle 1\\cdots 1\\vert$ 的期望值。\n",
    "\n",
    "![GHZ](figures/mem-application-ghz-circuit.png \"图 1：3 量子比特 GHZ 态电路图\")\n",
    "#### 理论\n",
    "下面给出该例子的 $3$ 量子比特的理论推导。\n",
    "\n",
    "由初态 $\\vert 000\\rangle$，在第 $0$ 个量子比特上作用 H 门，得到叠加态 $\\frac{\\vert 0\\rangle + \\vert 1\\rangle}{\\sqrt{2}}\\otimes\\vert 00\\rangle$，再依次作用 CX 门，最后得到 $\\frac{\\vert 000\\rangle+\\vert 111\\rangle}{\\sqrt{2}}$ 的　GHZ　态。\n",
    "\n",
    "为了方便分析，我们从状态向量语言转换到密度算子语言上，在测量之前，GHZ 态是一个纯态，对应的数学表达是\n",
    "\n",
    "$$\n",
    "\\begin{align}\n",
    "\\rho &= \\vert GHZ \\rangle \\langle GHZ \\vert \\\\\n",
    "&= \\frac{1}{2} \\left(\\vert000\\rangle\\langle000\\vert+\\vert000\\rangle\\langle111\\vert+\\vert111\\rangle\\langle000\\vert+\\vert111\\rangle\\langle111\\vert\\right). \n",
    "\\end{align}\n",
    "$$\n",
    "\n",
    "我们的观测算符为 $O = Z^{\\otimes3}$，其对应的期望值可以表示为 $E = \\textrm{Tr}\\left[O\\rho\\right]$，于是我们有\n",
    "\n",
    "$$\n",
    "\\begin{align}\n",
    "    \\textrm{Tr}\\left[O\\rho\\right] &=\\textrm{Tr}\\left[Z^{\\otimes^3}\\frac{\\vert000\\rangle\\langle000\\vert+\\vert000\\rangle\\langle111\\vert+\\vert111\\rangle\\langle000\\vert+\\vert111\\rangle\\langle111\\vert}{2}\\right] \\\\\n",
    "    &=\\frac{1}{2}\\textrm{Tr}\\left[\\vert000\\rangle\\langle000\\vert+\\vert000\\rangle\\langle111\\vert+\\vert111\\rangle\\langle000\\vert+\\vert111\\rangle\\langle111\\vert\\right] \\\\\n",
    "    &=1.\n",
    "\\end{align}\n",
    "$$\n",
    "\n",
    "所以理论上，如果没有任何噪声的引入，我们得到的期望值为 $1$。"
   ]
  },
  {
   "cell_type": "markdown",
   "metadata": {},
   "source": [
    "### GHZ-MQC\n",
    "\n",
    "在 GHZ 这个特殊的纠缠态上，还有一个很重要的问题是 GHZ 的验证问题，即，GHZ 态是一个纠缠态，但在实验过程中，我们通过测量观测得到的是统计结果，我们并不知道它是否包含了纠缠信息，也许在 GHZ 态的制备过程中，量子比特就已经退相干了，最后我们得到的 $50\\%\\vert000\\rangle$ 和 $50\\%\\vert111\\rangle$ 只是 $\\vert000\\rangle$ 与 $\\vert111\\rangle$ 两个态的统计意义上的叠加，并非纠缠态，看似相同的测量结果却对应着完全不同的两种情况，故 GHZ 态的验证是一个非常重要的问题。\n",
    "\n",
    "IBM 提出了一种利用多量子相干（Multiple Quantum Coherences，简称 MQC）[2] 的方法可以比较高效地在生成 GHZ 态的过程中验证 GHZ 态，其核心思想是由基态出发，生成 GHZ 态，再通过旋转门，给所有的量子比特加一个相位 $\\phi$，即给 GHZ 态增加了一个 $n\\phi$ 的相位（$n$ 为量子比特数），然后再将 GHZ 态退纠缠，此时测量该量子系统退回到基态的概率，便可以得到包含了相位信息的期望值，根据理论推导的期望值和实验的对比，就能知道 GHZ 态有没有退相干了。\n",
    "\n",
    "![GHZ-MQC](figures/mem-application-ghz-mqc-circuit.png \"图 2：3 量子比特 GHZ-MQC 电路图\")\n",
    "#### 理论\n",
    "\n",
    "在生成 GHZ 态后，给每个量子比特增加相位 $\\phi$，得到 $\\vert GHZ_{\\phi} \\rangle = \\frac{1}{\\sqrt{2}}\\left(\\vert000\\rangle+e^{-i 3\\phi}\\vert111\\rangle\\right)$，然后将 GHZ 退纠缠得到 $\\frac{1}{\\sqrt{2}}\\left(\\vert000\\rangle+e^{-i 3\\phi}\\vert100\\rangle\\right)$，再在第 $0$ 个量子比特上作用一个 H 门，最后得到的量子态为 $\\vert \\psi \\rangle= \\frac{1}{2} \\left[\\left(1+e^{-i 3\\phi}\\right)\\vert000\\rangle + \\left(1-e^{-i 3\\phi}\\right)\\vert100\\rangle\\right]$，表示成密度矩阵则是\n",
    "\n",
    "$$\n",
    "\\begin{align}\n",
    "\\rho &= \\vert\\psi\\rangle \\langle\\psi\\vert \\\\\n",
    "&= \\frac{1}{4} \\left[\\left(2+2\\cos{3\\phi}\\right)\\vert 000\\rangle\\langle000\\vert \\right. \\nonumber\\\\\n",
    "&\\qquad + \\left(-2i\\sin{3\\phi}\\right)\\vert000\\rangle\\langle100\\vert\\nonumber \\\\\n",
    "&\\qquad + \\left(2i\\sin{3\\phi}\\right)\\vert100\\rangle\\langle000\\vert \\nonumber\\\\\n",
    "&\\qquad + \\left. \\left(2-2\\cos{3\\phi}\\right)\\vert100\\rangle\\langle100\\vert\\right]\n",
    "\\end{align}\n",
    "$$\n",
    "\n",
    "这里我们关心系统退回到基态的概率，于是构造观测算符 $O = \\vert000\\rangle\\langle000\\vert$ 并求期望值\n",
    "\n",
    "$$\n",
    "\\begin{align}\n",
    "    \\textrm{Tr}\\left[O\\rho\\right] &=\\textrm{Tr}\\left[\\vert000\\rangle\\langle000\\vert\\rho\\right] =\\textrm{Tr}\\left[\\langle000\\vert\\rho\\vert000\\rangle\\right] =\\frac{1+\\cos{3\\phi}}{2}.\n",
    "\\end{align}\n",
    "$$"
   ]
  },
  {
   "cell_type": "markdown",
   "metadata": {},
   "source": [
    "### GHZ-PO\n",
    "\n",
    "除了 MQC 的方法，还有一种利用奇偶振荡（Parity Oscillation）[3] 的方法来验证 GHZ 态，其核心思想是由基态出发，生成 GHZ 态，然后给所有量子比特作用 $U_{\\phi}= e^{\\mathrm{i}\\frac{\\pi}{4}\\sigma_{\\phi}}$ 旋转操作，其中 $\\sigma_{\\phi}^{\\left(j\\right)} = \\sigma_x^{\\left(j\\right)}\\cos{\\phi} +\\sigma_y^{\\left(j\\right)}\\sin{\\phi} $，表示的是作用在第 $j$ 个量子比特的泡利算符，最后再在 Z 基下进行测量，通过改变 $\\phi$ 的值，我们将可以观察到奇偶振荡。\n",
    "\n",
    "![GHZ-PO](figures/mem-application-ghz-po-circuit.png \"图 3：3 量子比特 GHZ-PO 电路图\")\n",
    "#### 理论\n",
    "将 $U\\left(\\phi\\right)$ 展开得到\n",
    "\n",
    "$$\n",
    "U\\left(\\phi\\right) := \\mathrm{e}^{i\\frac{\\pi}{4}\\left(\\cos\\phi\\sigma_x + \\sin\\phi\\sigma_y\\right)}=\\frac{1}{\\sqrt{2}}\\left[\\operatorname{I}+\\mathrm{i}\\left(\\sigma_x\\cos{\\phi}+\\sigma_y\\sin{\\phi}\\right)\\right],\n",
    "$$\n",
    "\n",
    "于是\n",
    "\n",
    "$$\n",
    "\\begin{align}\n",
    "U_{\\phi}^\\dagger\\sigma_zU_{\\phi}\n",
    "=\\frac{1}{2}\\begin{bmatrix}1 & -\\mathrm{ie^{-i\\phi}}\\\\ -\\mathrm{ie^{i\\phi}} &1\\end{bmatrix} \\begin{bmatrix} 1 & 0\\\\ 0 & -1 \\end{bmatrix} \\begin{bmatrix}1 & \\mathrm{ie^{-i\\phi}}\\\\ \\mathrm{ie^{i\\phi}} &1\\end{bmatrix}\n",
    "=\\begin{bmatrix}0 & \\mathrm{ie^{-i\\phi}}\\\\ -\\mathrm{ie^{i\\phi}} &0\\end{bmatrix}.\n",
    "\\end{align}\n",
    "$$\n",
    "\n",
    "考虑量子比特数为 $n$ 的情况，可以计算期望值 \n",
    "\n",
    "$$\n",
    "\\begin{align}\n",
    "    \\textrm{Tr}\\left[O\\rho\\right] &=\\langle GHZ \\vert U_{\\phi}^\\dagger\\sigma_zU_{\\phi} \\vert GHZ\\rangle, \\\\\n",
    "    &=\\frac{1}{2}\\left[\\left(ie^{-i\\phi}\\right)^n+\\left(-ie^{i\\phi}\\right)^n\\right], \\\\\n",
    "    &=\\frac{1}{2}\\left[i^n e^{-in\\phi}+\\left(-i\\right)^n e^{in\\phi}\\right], \\\\\n",
    "    &=\\left\\{\n",
    "    \\begin{array}{ll}\n",
    "    \\cos\\left(n\\phi\\right),  & n=4k \\\\\n",
    "    \\sin\\left(n\\phi\\right),   & n=4k+1 \\\\\n",
    "    -\\cos\\left(n\\phi\\right),  & n=4k+2 \\\\\n",
    "    -\\sin\\left(n\\phi\\right),   & n=4k+3\n",
    "    \\end{array}\n",
    "    \\right.\n",
    "\\end{align}\n",
    "$$\n"
   ]
  },
  {
   "cell_type": "markdown",
   "metadata": {},
   "source": [
    "### Graph state\n",
    "除了 GHZ 态外，图态（Graph state）也具有我们感兴趣的纠缠性质。图态就是根据一张图构建出来的量子态，而图的组成成分包括顶点（vertex）和边（edge），每个顶点都是一个处于 $\\vert 0 \\rangle$ 态的量子比特作用上 $\\operatorname{H}$ 门，即每个顶点都是 $\\vert+\\rangle$，而图上每条边都是 $\\operatorname{CZ}$ 门，即相邻的量子比特之间作用 $\\operatorname{CZ}$ 门，按照这样的规则构建出来的态就是图态。用 $G\\left(V, E\\right)$ 表示一个有 $V$ 个顶点和 $E$ 条边的图，每一个点 $u\\in V$，且 $\\vert V\\vert=n$，$n$ 为量子比特数，由此构建出来的图态数学表示为\n",
    "\n",
    "$$\n",
    "\\begin{equation}\n",
    "  \\vert G\\rangle := \\prod_{\\left(u,v\\right)\\in E} \\operatorname{CZ}_{u,v} \\vert{+}\\rangle^{\\otimes n}.\n",
    "\\end{equation}\n",
    "$$\n",
    "\n",
    "前面提到过，对于纠缠态，我们不仅关心如何制作纠缠态，还关心如何验证得到的态是纠缠态，实验上经常用保真度（fidelity）来衡量两个量子态之间的距离，所以我们用保真度来验证我们得到的态是否为纠缠态。\n",
    "\n",
    "下面是一个图态以及其对应的电路图：\n",
    "\n",
    "![图态](figures/mem-application-graph-state-graph.png \"图 4：图态\")\n",
    "\n",
    "![图态电路图](figures/mem-application-graph-state-circuit.png \"图 5：图态对应的电路图\")\n",
    "#### 理论\n",
    "我们定义两个态 $\\rho$ 与 $\\sigma$ 的保真度为：\n",
    "\n",
    "$$\n",
    "\\begin{align}\n",
    "    F\\left(\\rho, \\sigma\\right) = \\left(\\textrm{Tr}\\left[\\sqrt{\\rho^{\\frac{1}{2}}\\sigma\\rho^{\\frac{1}{2}}}\\right]\\right)^2 = \\left(\\sqrt{\\sum_i \\rho_i \\sigma_i} \\right)^2 = \\textrm{Tr}\\left[\\rho\\sigma\\right].\n",
    "\\end{align}\n",
    "$$\n",
    "\n",
    "当 $\\rho=\\sigma$ 时，保真度 $F\\left(\\rho, \\sigma\\right)=1$。\n",
    "\n",
    "上面保真度的式子还能进一步展开：\n",
    "\n",
    "$$\n",
    "\\begin{align}\n",
    "    F\\left(\\rho, \\sigma\\right) = \\textrm{Tr}\\left[\\rho\\sigma\\right] = \\sum_i\\frac{\\rho_i\\sigma_i}{2^n} = \\sum_i\\frac{\\rho_i^2}{2^n}\\frac{\\sigma_i}{\\rho_i},\n",
    "\\end{align}\n",
    "$$\n",
    "\n",
    "其中 $\\rho_i=\\textrm{Tr}\\left[P_i\\rho\\right]$，$\\sigma_i=\\textrm{Tr}\\left[P_i\\sigma\\right]$，$P_i$ 是 $n$ 维空间下的泡利基，$P_i\\in P_n$，\n",
    "\n",
    "$$\n",
    "\\begin{align}\n",
    "P_n := \\left\\{I, X, Y, Z\\right\\}^{\\otimes n}.\n",
    "\\end{align}\n",
    "$$\n",
    "\n",
    "不难看出 $i\\in\\left\\{1, \\cdots, 4^n\\right\\}$。这其实就是在对实验生成的量子态做态层析（state tomography），态层析以资源为代价（$4^n$ 数量级）给出量子态的所有信息。\n",
    "\n",
    "由于噪声影响，实验上得到的 $\\rho$ 并不是我们想要的理想 $\\sigma$ 态，由此得到的保真度也包含误差，于是我们需要对测量噪声进行缓释。"
   ]
  },
  {
   "cell_type": "markdown",
   "metadata": {},
   "source": [
    "## 实验结果与总结\n",
    "\n",
    "下面，我们根据上述介绍的 $4$ 个例子，给出相应的实验结果。对于 GHZ、GHZ-MQC、GHZ-PO，我们设置量子比特数 $n=4$，对于 graph state，我们按照图 $4$ 进行设置。其中，GHZ-MQC 和 GHZ-PO 的旋转门 $U\\left(\\phi\\right)$ 的角度 $\\phi$ 从 $0$ 取到 $\\frac{2\\pi}{n}$，取样个数为 $100$ 个。按照如上所述设置好电路后，在 IBM 的 FakeSantiago 含噪量子计算模拟器中分别运行这 $4$ 个例子，得到并记录含噪数据后，使用我们提供的 $2$ 种校准方法和 $4$ 种缓释方法对含噪数据中的测量误差进行缓释，并计算缓释后的值与理论值的距离。上述的实验过程重复 $10$ 次，计算每一个例子缓释后的值与理论值的平均距离以及标准差，结果汇总如下表所示：\n",
    "\n",
    "| _**无结构模型**_ | GHZ | GHZ-MQC | GHZ-PO | Graph State |\n",
    "|:---:|:---:|:---:|:---:|:---:|\n",
    "|缓释前| 0.073$\\pm$0.002 | 0.439$\\pm$0.003 | 1.063$\\pm$0.007 | 0.230$\\pm$0.006 |\n",
    "|矩阵求逆法| 0.012$\\pm$0.004 | 0.211$\\pm$0.006 | 0.278$\\pm$0.012 | 0.142$\\pm$0.005 |\n",
    "|最小二乘法| 0.012$\\pm$0.007 | 0.215$\\pm$0.009 | 0.283$\\pm$0.009 | 0.139$\\pm$0.006 |\n",
    "|IBU| 0.015$\\pm$0.003 | 0.218$\\pm$0.005 | 0.281$\\pm$0.008 | 0.138$\\pm$0.006 |\n",
    "|Neumann 展开| 0.010$\\pm$0.006 | 0.211$\\pm$0.006 | 0.280$\\pm$0.009 | 0.141$\\pm$0.009 |\n",
    "\n",
    "\n",
    "| _**张量积模型**_ | GHZ | GHZ-MQC | GHZ-PO | Graph State |\n",
    "|:---:|:---:|:---:|:---:|:---:|\n",
    "|缓释前| 0.073$\\pm$0.003 | 0.438$\\pm$0.004 | 1.062$\\pm$0.006 | 0.232$\\pm$0.007 |\n",
    "|矩阵求逆法| 0.015$\\pm$0.006 | 0.208$\\pm$0.007 | 0.277$\\pm$0.010 | 0.143$\\pm$0.007 |\n",
    "|最小二乘法| 0.016$\\pm$0.004 | 0.209$\\pm$0.003 | 0.279$\\pm$0.006 | 0.143$\\pm$0.008 |\n",
    "|IBU| 0.021$\\pm$0.003 | 0.210$\\pm$0.006 | 0.281$\\pm$0.011 | 0.143$\\pm$0.006 |\n",
    "|Neumann 展开| 0.014$\\pm$0.004 | 0.210$\\pm$0.005 | 0.271$\\pm$0.010 | 0.143$\\pm$0.007 |\n",
    "\n",
    "从表中，我们可以看到，在模拟器中，矩阵求逆法相比其他方法具有不错的精度和稳定性，这给我们的一个启发就是尽管矩阵求逆法相对比较简单，没有其他方法那么精细巧妙，但在求解一般问题时能取得简单与准确的平衡。同时我们也能看到，除了 GHZ，每一种缓释方法都只能将误差维持在 $0.1 \\sim 0.2$ 的范围，这背后的原因在于我们的误差缓释只针对测量过程中的误差，在态制备的过程中其实也会不可避免地引入误差，比如门噪声。"
   ]
  },
  {
   "cell_type": "markdown",
   "metadata": {
    "pycharm": {
     "name": "#%% md\n"
    }
   },
   "source": [
    "## 参考资料\n",
    "[1] Wikipedia contributors. \"Greenberger–Horne–Zeilinger state.\" [Wikipedia](https://en.wikipedia.org/w/index.php?title=Greenberger%E2%80%93Horne%E2%80%93Zeilinger_state&oldid=1050006591), The Free Encyclopedia, 15 Oct. 2022. Web. 2 Nov. 2022.\n",
    "\n",
    "[2] Wei, Ken X., et al. \"Verifying multipartite entangled Greenberger-Horne-Zeilinger states via multiple quantum coherences.\" [Physical Review A](https://journals.aps.org/pra/abstract/10.1103/PhysRevA.101.032343) 101.3 (2020): 032343.\n",
    "\n",
    "[3] Monz, Thomas, et al. \"14-qubit entanglement: Creation and coherence.\" [Physical Review Letters](https://journals.aps.org/prl/abstract/10.1103/PhysRevLett.106.130506) 106.13 (2011): 130506."
   ]
  }
 ],
 "metadata": {
  "kernelspec": {
   "display_name": "Python 3",
   "language": "python",
   "name": "python3"
  },
  "language_info": {
   "codemirror_mode": {
    "name": "ipython",
    "version": 3
   },
   "file_extension": ".py",
   "mimetype": "text/x-python",
   "name": "python",
   "nbconvert_exporter": "python",
   "pygments_lexer": "ipython3",
   "version": "3.8.8"
  },
  "pycharm": {
   "stem_cell": {
    "cell_type": "raw",
    "metadata": {
     "collapsed": false
    },
    "source": []
   }
  }
 },
 "nbformat": 4,
 "nbformat_minor": 4
}
