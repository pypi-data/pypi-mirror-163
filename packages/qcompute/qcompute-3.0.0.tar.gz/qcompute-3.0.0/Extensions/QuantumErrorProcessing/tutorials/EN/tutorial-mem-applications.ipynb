{
 "cells": [
  {
   "cell_type": "markdown",
   "metadata": {
    "pycharm": {
     "name": "#%% md\n"
    }
   },
   "source": [
    "# Applications of Measurement Error Mitigation\n",
    "\n",
    "*Copyright (c) 2022 Institute for Quantum Computing, Baidu Inc. All Rights Reserved.*"
   ]
  },
  {
   "cell_type": "markdown",
   "metadata": {
    "pycharm": {
     "name": "#%% md\n"
    }
   },
   "source": [
    "## Outline\n",
    "\n",
    "Based on the existing $2$ calibration methods and $4$ mitigation methods of QEP module, this tutorial gives the effect of measurement error mitigation in different cases on [Baidu Quantum Platform](https://quantum.baidu.com/)."
   ]
  },
  {
   "cell_type": "markdown",
   "metadata": {
    "pycharm": {
     "name": "#%% md\n"
    }
   },
   "source": [
    "## Applications\n",
    "\n",
    "A classical quantum algorithm framework is to prepare the initial state, evolve the quantum circuit, measure and obtain the measurement results, and calculate the expected value. The following cases will be based on the quantum algorithm framework.\n",
    "\n",
    "### GHZ\n",
    "\n",
    "GHZ state is the abbreviation of Greenberger-Horne-Zeilinger state. It is an entangled quantum state containing at least $3$ subsystems[1]. A $3$-qubit GHZ state is expressed as\n",
    "\n",
    "$$\n",
    "\\begin{equation}\n",
    "\\vert GHZ\\rangle = \\frac{\\vert000\\rangle+\\vert111\\rangle}{\\sqrt{2}}.\n",
    "\\end{equation}\n",
    "$$\n",
    "\n",
    "After initializing the circuit, the GHZ state can be easily constructed through the evolution of H gate and CX gate, and the measurement results can be obtained under Z-basis. We will calculate the expected value of the observation operator $O=\\vert 0 \\cdots 0 \\rangle \\langle 0 \\cdots 0 \\vert + \\vert 1 \\cdots 1 \\rangle \\langle 1 \\cdots 1 \\vert$.\n",
    "\n",
    "![GHZ](figures/mem-application-ghz-circuit.png \"Figure 1: circuit of 3 qubits GHZ state\")\n",
    "#### Theory\n",
    "The theoretical derivation of the $3$ qubit of this example is given below.\n",
    "\n",
    "From the initial state $\\vert 000 \\rangle$, the H gate is acted on the qubit $0$ to obtain the superposition state $\\frac{\\vert 0 \\rangle + \\vert 1 \\rangle}{\\sqrt{2}} \\otimes \\vert 00 \\rangle$, then the CX gate is acted in sequence, and finally the GHZ state of $\\frac{\\vert 000 \\rangle + \\vert 111 \\rangle}{\\sqrt{2}}$ is obtained.\n",
    "\n",
    "For the convenience of analysis, we convert from state vector language to density operator language. Before measurement, GHZ state is a pure state, and the corresponding mathematical expression is\n",
    "\n",
    "$$\n",
    "\\begin{align}\n",
    "\\rho = \\vert GHZ \\rangle \\langle GHZ \\vert\n",
    "= \\frac{1}{2} \\left(\\vert000\\rangle\\langle000\\vert+\\vert000\\rangle\\langle111\\vert+\\vert111\\rangle\\langle000\\vert+\\vert111\\rangle\\langle111\\vert\\right) .\n",
    "\\end{align}\n",
    "$$\n",
    "\n",
    "Our observation operator is $O = Z^{\\otimes3}$, and its corresponding expected value can be expressed as $E=\\mathrm{tr}\\left[O \\rho\\right]$, so we have\n",
    "\n",
    "$$\n",
    "\\begin{align}\n",
    "    \\textrm{Tr}\\left[O\\rho\\right] &=\\textrm{Tr}\\left[Z^{\\otimes^3}\\frac{\\vert000\\rangle\\langle000\\vert+\\vert000\\rangle\\langle111\\vert+\\vert111\\rangle\\langle000\\vert+\\vert111\\rangle\\langle111\\vert}{2}\\right] \\\\\n",
    "    &=\\frac{1}{2}\\textrm{Tr}\\left[\\vert000\\rangle\\langle000\\vert+\\vert000\\rangle\\langle111\\vert+\\vert111\\rangle\\langle000\\vert+\\vert111\\rangle\\langle111\\vert\\right] \\\\\n",
    "    &=1.\n",
    "\\end{align}\n",
    "$$\n",
    "\n",
    "Therefore, theoretically, if there is no noise, we get the expected value of $1$.\n"
   ]
  },
  {
   "cell_type": "markdown",
   "metadata": {
    "pycharm": {
     "name": "#%% md\n"
    }
   },
   "source": [
    "### GHZ-MQC\n",
    "\n",
    "On the special entangled state of GHZ, another important problem is the verification of GHZ, that is, the GHZ state is an entangled state, but in the experimental process, we get the statistical results through measurement and observation. We don't know whether it contains entanglement information. Maybe the qubits have been decoherent in the preparation of GHZ state. Finally, the $50\\% \\vert000 \\rangle$ and $50\\% \\vert111 \\rangle$ we obtained are just the statistical superposition of $\\vert000 \\rangle$ and $\\vert111 \\rangle$ states, not entangled states. The seemingly same measurement results correspond to two completely different cases, so the verification of the GHZ state is a very important problem.\n",
    "\n",
    "IBM has proposed a method using *Multiple Quantum Coherence* (MQC)[2] to efficiently verify GHZ states in the process of generating GHZ states. Its core idea is to generate GHZ states from the ground state, and then add a phase $\\phi$ to all qubits through the rotation gate, that is, add a phase of $n \\phi$ to the GHZ state ($n$ is the number of qubits), and then disentangle the GHZ state. At this time, the expectation containing the phase information can be obtained by measuring the probability of the quantum system returning to the ground state. According to the comparison between the theoretically derived expectation and the experiment, we can know whether the GHZ state is disentangled or not.\n",
    "\n",
    "![GHZ-MQC](figures/mem-application-ghz-mqc-circuit.png \"Figure 2: circuit of 3 qubits GHZ-MQC\")\n",
    "#### Theory\n",
    "\n",
    "After generating GHZ state, add phase $\\phi$ to each qubit to obtain $\\vert GHZ_{\\phi} \\rangle = \\frac{1}{\\sqrt{2}}\\left(\\vert000\\rangle+e^{-i 3\\phi}\\vert111\\rangle\\right)$, then disentangle the GHZ to obtain $\\frac{1}{\\sqrt{2}}\\left(\\vert000\\rangle+e^{-i 3\\phi}\\vert100\\rangle\\right)$, and then perform an H gate on the $0$ qubit. The final quantum state is $\\vert \\psi \\rangle = \\frac{1}{2}\\left[\\left(1 + e^{-i 3 \\phi}\\right)\\vert000 \\rangle+ \\left(1 - e^{-i 3 \\phi}\\right) \\vert100\\rangle\\right]$, expressed as density matrix is\n",
    "\n",
    "$$\n",
    "\\begin{align}\n",
    "\\rho &= \\vert\\psi\\rangle \\langle\\psi\\vert \\\\\n",
    "&= \\frac{1}{4} \\left[\\left(2+2\\cos{3\\phi}\\right)\\vert 000\\rangle\\langle000\\vert \\right. \\nonumber\\\\\n",
    "&\\qquad + \\left(-2i\\sin{3\\phi}\\right)\\vert000\\rangle\\langle100\\vert\\nonumber \\\\\n",
    "&\\qquad + \\left(2i\\sin{3\\phi}\\right)\\vert100\\rangle\\langle000\\vert \\nonumber\\\\\n",
    "&\\qquad + \\left. \\left(2-2\\cos{3\\phi}\\right)\\vert100\\rangle\\langle100\\vert\\right].\n",
    "\\end{align}\n",
    "$$\n",
    "\n",
    "Here, we are concerned about the probability of the system returning to the ground state, so we construct the observation operator $O = \\vert000 \\rangle \\langle 000 \\vert $ and find the expected value\n",
    "\n",
    "$$\n",
    "\\begin{align}\n",
    "    \\textrm{Tr}\\left[O\\rho\\right] &=\\textrm{Tr}\\left[\\vert000\\rangle\\langle000\\vert\\rho\\right] =\\textrm{Tr}\\left[\\langle000\\vert\\rho\\vert000\\rangle\\right] =\\frac{1+\\cos{3\\phi}}{2}.\n",
    "\\end{align}\n",
    "$$\n"
   ]
  },
  {
   "cell_type": "markdown",
   "metadata": {
    "pycharm": {
     "name": "#%% md\n"
    }
   },
   "source": [
    "### GHZ-PO\n",
    "\n",
    "In addition to the MQC method, there is another method to verify GHZ states by using *Parity Oscillation* (PO)[3]. Its core idea is to generate GHZ states from the ground state, and then apply rotation operation $U_{\\phi}=e^{\\mathrm{i}\\frac{\\pi}{4}\\sigma_{\\phi}}$ to all qubits , where $\\sigma_{\\phi}^{\\left(j\\right)} = \\sigma_x^{\\left(j\\right)}\\cos{\\phi} +\\sigma_y^{\\left(j\\right)}\\sin{\\phi} $, which represents the Pauli operator acting on the $j$ qubit, and finally measured under the Z-basis. By changing the value of $\\phi$, we can observe *Parity Oscillation*.\n",
    "\n",
    "![GHZ-PO](figures/mem-application-ghz-po-circuit.png \"Figure 3: circuit of 3 qubits GHZ-PO\")\n",
    "\n",
    "#### Theory\n",
    "\n",
    "Expand $U\\left(\\phi\\right)$ we get\n",
    "\n",
    "$$\n",
    "\\begin{align}\n",
    "U\\left(\\phi\\right) := \\mathrm{e}^{i\\frac{\\pi}{4}\\left(\\cos\\phi\\sigma_x + \\sin\\phi\\sigma_y\\right)}=\\frac{1}{\\sqrt{2}}\\left[\\operatorname{I}+\\mathrm{i}\\left(\\sigma_x\\cos{\\phi}+\\sigma_y\\sin{\\phi}\\right)\\right],\n",
    "\\end{align}\n",
    "$$\n",
    "\n",
    "Therefore,\n",
    "\n",
    "$$\n",
    "\\begin{align}\n",
    "U_{\\phi}^\\dagger\\sigma_zU_{\\phi}\n",
    "=\\frac{1}{2}\\begin{bmatrix}1 & -\\mathrm{ie^{-i\\phi}}\\\\ -\\mathrm{ie^{i\\phi}} &1\\end{bmatrix} \\begin{bmatrix} 1 & 0\\\\ 0 & -1 \\end{bmatrix} \\begin{bmatrix}1 & \\mathrm{ie^{-i\\phi}}\\\\ \\mathrm{ie^{i\\phi}} &1\\end{bmatrix}\n",
    "=\\begin{bmatrix}0 & \\mathrm{ie^{-i\\phi}}\\\\ -\\mathrm{ie^{i\\phi}} &0\\end{bmatrix}.\n",
    "\\end{align}\n",
    "$$\n",
    "\n",
    "Consider there are $n$ qubits, we can calculate the expectation value as follow:\n",
    "\n",
    "$$\n",
    "\\begin{align}\n",
    "    \\textrm{Tr}\\left[O\\rho\\right] &=\\langle GHZ \\vert U_{\\phi}^\\dagger\\sigma_zU_{\\phi} \\vert GHZ_{\\phi}\\rangle, \\\\\n",
    "    &=\\frac{1}{2}\\left[\\left(ie^{-i\\phi}\\right)^n+\\left(-ie^{i\\phi}\\right)^n\\right], \\\\\n",
    "    &=\\frac{1}{2}\\left[i^n e^{-in\\phi}+\\left(-i\\right)^n e^{in\\phi}\\right], \\\\\n",
    "    &=\\left\\{\n",
    "    \\begin{array}{ll}\n",
    "    \\cos\\left(n\\phi\\right),  & n=4k \\\\\n",
    "    \\sin\\left(n\\phi\\right),   & n=4k+1 \\\\\n",
    "    -\\cos\\left(n\\phi\\right),  & n=4k+2 \\\\\n",
    "    -\\sin\\left(n\\phi\\right),   & n=4k+3\n",
    "    \\end{array}\n",
    "    \\right.\n",
    "\\end{align}\n",
    "$$\n"
   ]
  },
  {
   "cell_type": "markdown",
   "metadata": {
    "pycharm": {
     "name": "#%% md\n"
    }
   },
   "source": [
    "### Graph state\n",
    "In addition to GHZ States, graph states also have entanglement properties of interest to us. A graph state is a quantum state constructed from a graph, and the components of the graph include vertices and edges. Each vertex is a $\\operatorname{H} $ gate acted by qubits in the $\\vert0\\rangle$ state, that is, each vertex is $\\vert+\\rangle$, and each edge on the graph is a $\\operatorname{CZ}$ gate, that is, the $\\operatorname{CZ}$ gate acts between adjacent qubits. The state constructed according to this rule is a graph state. Use $G\\left(V, E\\right)$ to represent a graph with $V$ vertices and $E$ edges. Each point is $u \\in V$, and $\\vert V\\vert = n $, $n$ is the number of qubits. The graph state constructed from this is mathematically expressed as\n",
    "\n",
    "$$\n",
    "\\begin{equation}\n",
    "  \\vert G\\rangle := \\prod_{\\left(u,v\\right)\\in E} \\operatorname{CZ}_{u,v} \\vert{+}\\rangle^{\\otimes n}.\n",
    "\\end{equation}\n",
    "$$\n",
    "\n",
    "As mentioned earlier, for entangled states, we are not only concerned about how to generate entangled states, but also about how to verify that the obtained states are entangled states. Fidelity is often used to measure the distance between two quantum states in experiments, so we use fidelity to verify whether the obtained states are entangled states.\n",
    "\n",
    "Below is a graph state and its circuit,\n",
    "![graph state](figures/mem-application-graph-state-graph.png \"Figure 4: Graph state\")\n",
    "\n",
    "![circuit corresponds to graph state](figures/mem-application-graph-state-circuit.png \"Figure 5: quantum circuit corresponds to graph state of figure 4\")\n",
    "#### Theory\n",
    "We define the fidelity of two states $\\rho$ and $\\sigma$ as follow:\n",
    "\n",
    "$$\n",
    "\\begin{align}\n",
    "    F\\left(\\rho, \\sigma\\right) = \\left(\\textrm{Tr}\\left[\\sqrt{\\rho^{\\frac{1}{2}}\\sigma\\rho^{\\frac{1}{2}}}\\right]\\right)^2.\n",
    "\\end{align}\n",
    "$$\n",
    "\n",
    "Notice that when $\\rho$ or $\\sigma$ is pure, the fidelity can be further expanded:\n",
    "\n",
    "$$\n",
    "\\begin{align}\n",
    "    F\\left(\\rho, \\sigma\\right) = \\textrm{Tr}\\left[\\rho\\sigma\\right] = \\sum_i\\frac{\\rho_i\\sigma_i}{2^n} = \\sum_i\\frac{\\rho_i^2}{2^n}\\frac{\\sigma_i}{\\rho_i},\n",
    "\\end{align}\n",
    "$$\n",
    "\n",
    "where $\\rho_i=\\textrm{Tr}\\left[P_i\\rho\\right]$, $\\sigma_i=\\textrm{Tr}\\left[P_i\\sigma\\right]$, $P_i\\in P_n$, and $P_n$ is $n$ dimension Pauli basis defined as\n",
    "\n",
    "$$\n",
    "\\begin{align}\n",
    "P_n := \\left\\{I, X, Y, Z\\right\\}^{\\otimes n}.\n",
    "\\end{align}\n",
    "$$\n",
    "\n",
    "It is easy to see that $i \\in \\left\\{1,\\cdots,4^n\\right\\}$. This is actually doing state tomography on the quantum state generated by the experiment. State tomography gives all the information of the quantum state at the cost of resources ($4^n$ order of magnitude).\n",
    "\n",
    "Due to the influence of noise, the $\\rho$ obtained in the experiment is not the ideal $\\sigma$ state we want, and the fidelity obtained also contains errors, so we need to mitigate the measurement noise."
   ]
  },
  {
   "cell_type": "markdown",
   "metadata": {
    "pycharm": {
     "name": "#%% md\n"
    }
   },
   "source": [
    "## Experiment results and summary\n",
    "Next, we give the corresponding experimental results according to the $4$ examples introduced above. For GHZ, GHZ-MQC and GHZ-PO, we set the number of qubits $n=4$. For graph state, we generate it according to figure $4$. Among them, the angle $\\phi$ of the rotation gate $U\\left(\\phi\\right)$ of GHZ-MQC and GHZ-PO is taken from $0$ to $\\frac{2\\pi}{n}$, and the number of samples is $100$. After setting the circuit as described above, run these $4$ examples in IBM FakeSantiago noisy quantum computing simulator respectively. After obtaining and recording the noisy data, use $2$ calibration methods and $4$ mitigation methods provided by us to mitigate the measurement errors in the noisy data, and calculate the distance between the mitigated values and the theoretical values. The above experimental process is repeated $10$ times, and the average distance and standard deviation between the mitigated value and the theoretical value of each example are calculated. The results are summarized in the following table:\n",
    "\n",
    "| _**Complete model**_ | GHZ | GHZ-MQC | GHZ-PO | Graph State |\n",
    "|:---:|:---:|:---:|:---:|:---:|\n",
    "|Before mitigation| 0.073$\\pm$0.002 | 0.439$\\pm$0.003 | 1.063$\\pm$0.007 | 0.230$\\pm$0.006 |\n",
    "|Matrix Inversion| 0.012$\\pm$0.004 | 0.211$\\pm$0.006 | 0.278$\\pm$0.012 | 0.142$\\pm$0.005 |\n",
    "|Least Square| 0.012$\\pm$0.007 | 0.215$\\pm$0.009 | 0.283$\\pm$0.009 | 0.139$\\pm$0.006 |\n",
    "|IBU| 0.015$\\pm$0.003 | 0.218$\\pm$0.005 | 0.281$\\pm$0.008 | 0.138$\\pm$0.006 |\n",
    "|Neumann Series| 0.010$\\pm$0.006 | 0.211$\\pm$0.006 | 0.280$\\pm$0.009 | 0.141$\\pm$0.009 |\n",
    "\n",
    "\n",
    "| _**Tensor product model**_ | GHZ | GHZ-MQC | GHZ-PO | Graph State |\n",
    "|:---:|:---:|:---:|:---:|:---:|\n",
    "|Before mitigation| 0.073$\\pm$0.003 | 0.438$\\pm$0.004 | 1.062$\\pm$0.006 | 0.232$\\pm$0.007 |\n",
    "|Matrix Inversion| 0.015$\\pm$0.006 | 0.208$\\pm$0.007 | 0.277$\\pm$0.010 | 0.143$\\pm$0.007 |\n",
    "|Least Square| 0.016$\\pm$0.004 | 0.209$\\pm$0.003 | 0.279$\\pm$0.006 | 0.143$\\pm$0.008 |\n",
    "|IBU| 0.021$\\pm$0.003 | 0.210$\\pm$0.006 | 0.281$\\pm$0.011 | 0.143$\\pm$0.006 |\n",
    "|Neumann Series| 0.014$\\pm$0.004 | 0.210$\\pm$0.005 | 0.271$\\pm$0.010 | 0.143$\\pm$0.007 |\n",
    "\n",
    "From the table, we can see that in the simulator, the matrix inversion method has good accuracy and stability compared with other methods, which gives us an inspiration that although the matrix inversion method is relatively simple and less subtle than other methods, it can achieve a simple and accurate balance in solving general problems. At the same time, we can also see that in addition to GHZ, each error mitigation method can only maintain the error in the range of $0.1 \\sim 0.2$. The reason behind this is that our error mitigation is only aimed at the errors in the measurement process, and errors will inevitably be introduced in the process of state preparation, such as gate noise."
   ]
  },
  {
   "cell_type": "markdown",
   "metadata": {
    "pycharm": {
     "name": "#%% md\n"
    }
   },
   "source": [
    "## References\n",
    "[1] Wikipedia contributors. \"Greenberger–Horne–Zeilinger state.\" Wikipedia, The Free Encyclopedia, 15 Oct. 2022. Web. 2 Nov. 2022. [Wikipedia](https://en.wikipedia.org/w/index.php?title=Greenberger%E2%80%93Horne%E2%80%93Zeilinger_state&oldid=1050006591).\n",
    "\n",
    "[2] Wei, Ken X., et al. \"Verifying multipartite entangled Greenberger-Horne-Zeilinger states via multiple quantum coherences.\" [Physical Review A](https://journals.aps.org/pra/abstract/10.1103/PhysRevA.101.032343) 101.3 (2020): 032343.\n",
    "\n",
    "[3] Monz, Thomas, et al. \"14-qubit entanglement: Creation and coherence.\" [Physical Review Letters](https://journals.aps.org/prl/abstract/10.1103/PhysRevLett.106.130506) 106.13 (2011): 130506."
   ]
  }
 ],
 "metadata": {
  "kernelspec": {
   "display_name": "Python 3",
   "language": "python",
   "name": "python3"
  },
  "language_info": {
   "codemirror_mode": {
    "name": "ipython",
    "version": 3
   },
   "file_extension": ".py",
   "mimetype": "text/x-python",
   "name": "python",
   "nbconvert_exporter": "python",
   "pygments_lexer": "ipython3",
   "version": "3.8.8"
  },
  "pycharm": {
   "stem_cell": {
    "cell_type": "raw",
    "metadata": {
     "collapsed": false
    },
    "source": []
   }
  }
 },
 "nbformat": 4,
 "nbformat_minor": 4
}