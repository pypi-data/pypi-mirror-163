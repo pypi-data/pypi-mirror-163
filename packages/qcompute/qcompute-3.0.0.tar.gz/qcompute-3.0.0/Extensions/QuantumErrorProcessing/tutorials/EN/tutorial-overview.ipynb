{
 "cells": [
  {
   "cell_type": "markdown",
   "metadata": {
    "pycharm": {
     "name": "#%% md\n"
    }
   },
   "source": [
    "# Overview\n",
    "\n",
    "_Copyright (c) 2022 Institute for Quantum Computing, Baidu Inc. All Rights Reserved._\n",
    "\n",
    "## About QEP\n",
    "\n",
    "**QEP** is a **Q**uantum **E**rror **P**rocessing toolkit developed by the [Institute for Quantum Computing](https://quantum.baidu.com/) at [Baidu Research](http://research.baidu.com/). QEP aims to deal with quantum errors inherent in quantum devices using software solutions. Currently, it offers three powerful quantum error processing tools: randomized benchmarking, quantum error characterization, and quantum error mitigation.\n",
    "\n",
    "- **Randomized benchmarking** is used for assessing the capabilities and extendibilities of quantum computing hardware platforms, through estimating the average error rates that are measured with long sequences of random quantum circuits. It provides standard randomized benchmarking, interleaved randomized benchmarking, cross-entropy benchmarking, and unitarity randomized benchmarking.\n",
    "\n",
    "- **Quantum error characterization** is used for reconstructing the comprehensive information in quantum computing hardware platforms, through many partial and limited experimental results. It provides quantum state tomography, quantum process tomography, quantum detector tomography, quantum gateset tomography, and spectral quantum tomography.\n",
    "\n",
    "- **Quantum error mitigation** is used for improving the accuracy of quantum computational results, through post-processing the experiment data obtained by varying noisy experiments, extending the computational reach of a noisy quantum processor. It provides zero-noise extrapolation technique to mitigate quantum gate noise, and a collection of methods--inverse, least-square, iterative Bayesian unfolding, and Neumann series--to mitigate quantum measurement noise.\n"
   ]
  },
  {
   "cell_type": "markdown",
   "metadata": {
    "pycharm": {
     "name": "#%% md\n"
    }
   },
   "source": [
    "\n",
    "![architecture](figures/qep-architecture-en.png \"QEP Architecture\")\n",
    "\n",
    "## Tutorials\n",
    "\n",
    "QEP provides detailed and comprehensive tutorials for randomized benchmarking, quantum error characterization, and quantum error mitigation, from theoretical analysis to practical applications. We recommend the interested researchers and deverlopers to download the Jupyter Notebooks and try it. The tutorials are listed as follows:\n",
    "\n",
    "+ **Randomized Benchmarking**\n",
    "  + [Standard Randomized Benchmarking](https://quantum-hub.baidu.com/qep/tutorial-standardrb)\n",
    "  + [Interleaved Randomized Benchmarking](https://quantum-hub.baidu.com/qep/tutorial-interleavedrb)\n",
    "  + [Cross-Entropy Benchmarking](https://quantum-hub.baidu.com/qep/tutorial-xeb)\n",
    "  + [Unitarity Randomized Benchmarking](https://quantum-hub.baidu.com/qep/tutorial-unitarityrb)\n",
    "+ **Quantum Error Characterization**\n",
    "  + [Quantum State Tomography](https://quantum-hub.baidu.com/qep/tutorial-qst)\n",
    "  + [Quantum Process Tomography](https://quantum-hub.baidu.com/qep/tutorial-qpt)\n",
    "  + [Quantum Detector Tomography](https://quantum-hub.baidu.com/qep/tutorial-qdt)\n",
    "  + [Quantum Gateset Tomography](https://quantum-hub.baidu.com/qep/tutorial-gst)\n",
    "  + [Spectral Quantum Tomography](https://quantum-hub.baidu.com/qep/tutorial-sqt)\n",
    "+ **Quantum Error Mitigation**\n",
    "  + [Zero-Noise Extrapolation](https://quantum-hub.baidu.com/qep/tutorial-zne)\n",
    "  + [Measurement Error Mitigation](https://quantum-hub.baidu.com/qep/tutorial-mem)\n",
    "  + [Applications of Measurement Error Mitigation](https://quantum-hub.baidu.com/qep/tutorial-mem-applications)\n",
    "\n",
    "## Frequently Asked Questions\n",
    "\n",
    "**Q: What are the required packages to use QEP?**\n",
    "\n",
    "**A:** QEP is developed based on the open-source SDK [QComptue](https://quantum-hub.baidu.com/opensource), so you must install QCompute before using QEP. When you install QEP, it will download and install QCompute automatically. Other required packages are:\n",
    "\n",
    "```bash\n",
    "matplotlib==3.5.2\n",
    "networkx==2.8.3\n",
    "numpy==1.21.3\n",
    "pandas==1.4.3\n",
    "qiskit==0.37.0\n",
    "qiskit_ibmq_provider==0.19.2\n",
    "scipy==1.7.1\n",
    "seaborn==0.11.2\n",
    "tqdm==4.64.0\n",
    "qutip==4.7.0\n",
    "```\n",
    "\n",
    "For best experience, we suggest updating these required packages to the latest version before playing with QEP.\n",
    "\n",
    "**Q: What should I do when running out of my credit points?**  \n",
    "\n",
    "**A:** Please contact us via [Quantum Hub](https://quantum-hub.baidu.com). First, you should log into [Quantum Hub](https://quantum-hub.baidu.com), then enter the \"Feedback\" page, choose \"Get Credit Point\", and record the necessary information. Submit your feedback and wait for our reply. We will reach you as soon as possible.\n",
    "\n",
    "**Q: How should I cite QEP in my research?**  \n",
    "\n",
    "**A:** We encourage the researchers and developers to use QEP for research & development on quantum error processing. Please cite us by including the following BibTeX item:\n",
    "\n",
    "```bibtex\n",
    "@misc{QEP, \n",
    "  title = {{Quantum Error Processing in Baidu Quantum Platform}}, \n",
    "  year = {2022}, \n",
    "  url = {https://quantum-hub.baidu.com/qep/}, \n",
    "}\n",
    "```\n",
    "\n",
    "## Copyright and License\n",
    "\n",
    "QEP uses [Apache-2.0 license](https://www.apache.org/licenses/LICENSE-2.0)."
   ]
  }
 ],
 "metadata": {
  "kernelspec": {
   "display_name": "Python 3",
   "language": "python",
   "name": "python3"
  },
  "language_info": {
   "codemirror_mode": {
    "name": "ipython",
    "version": 3
   },
   "file_extension": ".py",
   "mimetype": "text/x-python",
   "name": "python",
   "nbconvert_exporter": "python",
   "pygments_lexer": "ipython3",
   "version": "3.8.5"
  }
 },
 "nbformat": 4,
 "nbformat_minor": 4
}