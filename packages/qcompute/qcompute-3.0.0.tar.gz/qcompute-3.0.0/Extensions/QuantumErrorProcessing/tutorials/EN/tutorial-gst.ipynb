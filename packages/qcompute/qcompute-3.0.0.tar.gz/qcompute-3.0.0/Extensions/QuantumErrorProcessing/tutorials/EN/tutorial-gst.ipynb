{
 "cells": [
  {
   "cell_type": "markdown",
   "metadata": {
    "collapsed": true,
    "pycharm": {
     "name": "#%% md\n"
    }
   },
   "source": [
    "# Gate Set Tomography\n",
    "\n",
    "*Copyright (c) 2022 Institute for Quantum Computing, Baidu Inc. All Rights Reserved.*\n",
    "\n",
    "## Outline\n",
    "\n",
    "Recall Quantum State Tomography (QST) and Quantum Process Tomography (QPT), they assume the initial states and final measurements are known. These states and measurements must be prepared using quantum gates which themselves may be faulty. Thus, QST and QPT have a self-consistency problem. To completely characterize an unknown set of gates and states, we can use Gate Set Tomography (GST).\n",
    "\n",
    "This tutorial introduces Gate Set Tomography (GST), covering its theory and implementation on [Baidu Quantum Platform](https://quantum.baidu.com/)."
   ]
  },
  {
   "cell_type": "markdown",
   "source": [
    "## Theory\n",
    "\n"
   ],
   "metadata": {
    "collapsed": false,
    "pycharm": {
     "name": "#%% md\n"
    }
   }
  },
  {
   "cell_type": "markdown",
   "source": [
    " ### Gate set\n",
    "\n",
    "Firstly, we define a gate set as\n",
    "\n",
    "$$\n",
    "    \\mathcal{G} := \\left\\{ |\\rho\\rangle\\rangle, \\langle\\langle E|, \\mathsf{G}_0, \\cdots, \\mathsf{G}_K\\right\\},\n",
    "$$\n",
    "\n",
    "where $|\\rho\\rangle\\rangle$ is the PTM of initial state $\\rho$, $\\langle\\langle E|$ is the PTM of a $2$-outcome POVM, and each $\\mathsf{G}_k$ is the PTM of gate $G_k$. This means we pack all the information we are interested in. Sometimes we would like to focus only on the gates and not the states and measurements, and we write the gate set as\n",
    "\n",
    "$$\n",
    "    \\mathcal{G} := \\left\\{\\mathsf{G}_0, \\cdots, \\mathsf{G}_K\\right\\}.\n",
    "$$\n",
    "\n",
    "The distinction should be clear from the context.\n",
    "\n",
    "As in QPT, the information needed to reconstruct each gate $G_k$ is contained in measurements of $\\langle\\langle E_i|\\mathsf{G}_k|\\rho_j\\rangle\\rangle$, the gate of interest sandwiched between a complete set of states and POVMs. The experimental requirements for GST are similar to QPT, but for self-consistency, we must treat these state preparation and measurement (SPAM) gates on the same footing as the original gates $\\left\\{\\mathsf{G}_k\\right\\}$.\n",
    "\n",
    "Since, we define SPAM gates as\n",
    "\n",
    "$$\n",
    "    \\mathcal{F} := \\left\\{ \\mathsf{F}_1, \\cdots, \\mathsf{F}_N \\right\\},\n",
    "$$\n",
    "\n",
    "where $\\mathsf{F}_i$ is composed of gates in gates $\\left\\{\\mathsf{G}_k\\right\\}$, i.e.,\n",
    "\n",
    "$$\n",
    "    \\mathsf{F}_i = \\mathsf{G}_{i_1} \\circ \\mathsf{G}_{i_2} \\circ \\cdots \\circ \\mathsf{G}_{i_{L_i}},\n",
    "$$\n",
    "\n",
    "where $L_i$ is the length of the $i$-th SPAM gate.\n"
   ],
   "metadata": {
    "collapsed": false,
    "pycharm": {
     "name": "#%% md\n"
    }
   }
  },
  {
   "cell_type": "markdown",
   "source": [
    "### Linear inversion method\n",
    "\n",
    "Then, we will introduce a simple algorithm for obtaining self-consistent gate estimates, named Linear-inversion GST.\n",
    "\n",
    "For an $n$-qubit system, we begin by identifying a set of SPAM gate strings $\\mathcal{F} = \\left\\{\\mathsf{F}_1, \\cdots, \\mathsf{F}_{4^n}\\right\\}$ that, when applied to our unknown fixed state $|\\rho\\rangle\\rangle$ and measurement $\\langle\\langle E|$, produce a complete set of initial state $|\\rho_j\\rangle\\rangle=\\mathsf{F}_j|\\rho\\rangle\\rangle$, and final states $\\langle\\langle E_i| = \\langle\\langle E|\\mathsf{F}_i$."
   ],
   "metadata": {
    "collapsed": false,
    "pycharm": {
     "name": "#%% md\n"
    }
   }
  },
  {
   "cell_type": "markdown",
   "source": [
    "#### Example gate set\n",
    "\n",
    "It is useful to have concrete examples of gate sets. Here we consider the simplest example, and we will implement it on [Baidu Quantum Platform](https://quantum.baidu.com/) latter.\n",
    "\n",
    "* $\\mathcal{G} = \\left\\{\\left\\{\\right\\}, X_{\\pi/2}, Y_{\\pi/2}\\right\\} = \\left\\{\\mathsf{G}_0, \\mathsf{G}_1, \\mathsf{G}_2\\right\\}$\n",
    "* $\\mathcal{F} = \\left\\{\\left\\{\\right\\}, X_{\\pi/2}, Y_{\\pi/2}, X_{\\pi/2} \\circ X_{\\pi/2}\\right\\} = \\left\\{\\left\\{\\right\\}, \\mathsf{G}_1, \\mathsf{G}_2, \\mathsf{G}_1 \\circ \\mathsf{G}_1\\right\\}$\n",
    "\n",
    "where $X_{\\pi/2}$ is a $\\pi/2$ rotation about the $X$-axis of the Bloch sphere, and the symbol $\\{\\}$ denotes the \"null\" gate - do nothing for no time. (We will always choose $G_0$ to be the \"null\" gate for reason will be clear later.) It is easy to see that the set of states $\\mathsf{F}_j|\\rho\\rangle\\rangle$ (measurements $\\langle\\langle E|\\mathsf{F}_i$) spans the Bloch sphere."
   ],
   "metadata": {
    "collapsed": false,
    "pycharm": {
     "name": "#%% md\n"
    }
   }
  },
  {
   "cell_type": "markdown",
   "source": [
    "#### Data collection\n",
    "\n",
    "In GST, we work with expectation values,\n",
    "\n",
    "$$\n",
    "    p_{ikj} = \\langle\\langle E|\\mathsf{F}_i\\mathsf{G}_k\\mathsf{F}_j|\\rho\\rangle\\rangle,\n",
    "$$\n",
    "\n",
    "where $\\mathsf{F}_i,\\mathsf{F}_j\\in\\mathcal{F}$ and $\\mathsf{G}_k\\in\\mathcal{G}$. The corresponding circuit is shown as follows.\n",
    "\n",
    "![GST](./figures/gst-general-circuit.png \"Figure 1: We construct such circuits to estimate expectation values. \")\n",
    "\n",
    "Inserting the complete set of Pauli basis, we have\n",
    "\n",
    "$$\n",
    "\\begin{align}\n",
    "    p_{ikj}\n",
    "&=  \\sum_{rs} \\langle\\langle E | \\mathsf{F}_i | r \\rangle\\rangle\\langle\\langle r | \\mathsf{G}_k | s \\rangle\\rangle\\langle\\langle s |\\mathsf{F}_j | \\rho \\rangle\\rangle \\\\\n",
    "&=  \\sum_{rs} A_{ir} \\left( \\mathsf{G}_k\\right)_{rs} B_{sj}.\n",
    "\\end{align}\n",
    "$$\n",
    "\n",
    "We can write the above equation in the form of the matrix as follows,\n",
    "\n",
    "$$\n",
    "    \\widetilde{\\mathsf{G}}_k = A \\mathsf{G}_k B,\n",
    "$$\n",
    "\n",
    "where $A = \\sum_i | i \\rangle\\rangle\\langle\\langle E | \\mathsf{F}_i $, $B = \\sum_j \\mathsf{F}_j | \\rho \\rangle\\rangle\\langle\\langle j |$, and $\\left(\\widetilde{\\mathsf{G}}_k\\right)_{ij} = p_{ikj}$. Since the question becomes how to estimate $\\mathsf{G}_k$ with experimental data $\\widetilde{\\mathsf{G}}_k$.\n",
    "\n",
    "Note that we have defined $\\mathsf{G}_0 = \\left\\{\\right\\}$ before, then we define a matrix $g$, named *Gram matrix*,\n",
    "\n",
    "$$\n",
    "  g := \\widetilde{\\mathsf{G}}_0 = A B.\n",
    "$$\n",
    "\n",
    "We observe that\n",
    "\n",
    "$$\n",
    "  g^{-1}\\widetilde{\\mathsf{G}}_k = B^{-1} A^{-1} A \\mathsf{G}_k B = B^{-1} \\mathsf{G}_k B.\n",
    "$$\n",
    "\n",
    "Then we have,\n",
    "\n",
    "$$\n",
    "  \\hat{\\mathsf{G}}_k = g^{-1} \\widetilde{\\mathsf{G}}_k,\n",
    "$$\n",
    "\n",
    "is an estimation of the gate set, up to similarity transformation by the unobservable matrix $B$. And the question becomes how to get this unobservable matrix $B$.\n"
   ],
   "metadata": {
    "collapsed": false,
    "pycharm": {
     "name": "#%% md\n"
    }
   }
  },
  {
   "cell_type": "markdown",
   "source": [
    "#### Gauge optimization\n",
    "\n",
    "Now consider the vectors\n",
    "\n",
    "$$\n",
    "\\begin{align}\n",
    "    | \\widetilde{\\rho} \\rangle\\rangle := A | \\rho \\rangle\\rangle\n",
    "&=  \\sum_i | i\\rangle\\rangle \\langle\\langle E | \\mathsf{F}_i | \\rho \\rangle\\rangle, \\\\\n",
    "    \\langle\\langle \\widetilde{E} | := \\langle\\langle E | B\n",
    "&=  \\sum_j \\langle\\langle E | \\mathsf{F}_j | \\rho \\rangle\\rangle \\langle\\langle j |.\n",
    "\\end{align}\n",
    "$$\n",
    "\n",
    "Note that both $| \\widetilde{\\rho} \\rangle\\rangle$ and $\\langle\\langle \\widetilde{E} |$ are measurable, and $\\langle\\langle i|\\widetilde{\\rho}\\rangle\\rangle = \\langle\\langle\\widetilde{E}|i\\rangle\\rangle = \\langle\\langle E|\\mathsf{F}_i|\\rho\\rangle\\rangle$, the corresponding circuits are as follows.\n",
    "\n",
    "![GST](./figures/gst-circuit-new-gateset.png \"Figure 2: We construct such circuits to get new gate set.\")\n",
    "\n",
    "And then, we construct a new gate set,\n",
    "\n",
    "$$\n",
    "\\begin{align}\n",
    "  &\\hat{\\mathcal{G}} := \\left\\{|\\hat{\\rho}\\rangle\\rangle, \\langle\\langle\\hat{E}|, \\left\\{ \\hat{G}_k\\right\\}\\right\\} =\n",
    "  \\left\\{B^{-1}| \\rho \\rangle\\rangle, \\langle\\langle E | B, \\left\\{ B^{-1} G_k B\\right\\}\\right\\}, \\\\\n",
    "  &| \\hat{\\rho} \\rangle\\rangle := g^{-1} | \\widetilde{\\rho} \\rangle\\rangle = B^{-1} |\\rho\\rangle\\rangle, \\;\n",
    "  \\langle\\langle \\hat{E} | := \\langle\\langle \\widetilde{E} | = \\langle\\langle E | B, \\;\n",
    "  \\hat{G}_k = B^{-1} G_k B.\n",
    "\\end{align}\n",
    "$$\n",
    "\n",
    "For this new gate set, we can estimate $|\\hat{\\rho}\\rangle\\rangle$ and $\\langle\\langle\\hat{E}|$ with above circuit.\n",
    "\n",
    "Then, we will show that how to estimate matrix $B$ with this new gate set. **Based on high quality quantum device**, we know a priori that the measured gates will differ from an ideal (target) set of gates by some very small error. Since given a target set of gates $\\mathcal{G}^t = \\left\\{ | \\rho^t \\rangle\\rangle, \\langle\\langle E^t |, \\left\\{ G_k^t\\right\\} \\right\\}$ and our *Linear inversion GST* estimate $\\hat{\\mathcal{G}} = \\left\\{|\\hat{\\rho}\\rangle\\rangle, \\langle\\langle\\hat{E}|, \\left\\{ \\hat{G}_k\\right\\}\\right\\}$, we find the matrix $B^e$, which is our estimation of $B$,\n",
    "\n",
    "$$\n",
    "  B^e = \\textrm{argmin}_{B} \\sum_{k=0}^{K+1} \\textrm{Tr} \\left\\{ \\left( \\hat{\\mathsf{G}}_k - B^{-1} \\mathsf{G}_k^t B \\right)^T \\left( \\hat{\\mathsf{G}}_k - B^{-1} \\mathsf{G}_k^t B \\right)\\right\\},\n",
    "$$\n",
    "\n",
    "where we define $\\mathsf{G}_{K+1} = | \\rho \\rangle\\rangle \\langle\\langle E |$. Since we can get the estimation of original gate set with following equations,\n",
    "\n",
    "$$\n",
    "\\begin{align}\n",
    "  &| \\rho^e \\rangle\\rangle = B^e|\\hat{\\rho}\\rangle\\rangle, \\\\\n",
    "  &\\langle\\langle E^e | = \\langle\\langle \\hat{E} | \\left(B^e\\right)^{-1}, \\\\\n",
    "  &\\mathsf{G}^e_k = B^e \\hat{\\mathsf{G}}_k \\left(B^e\\right)^{-1}.\n",
    "\\end{align}\n",
    "$$"
   ],
   "metadata": {
    "collapsed": false,
    "pycharm": {
     "name": "#%% md\n"
    }
   }
  },
  {
   "cell_type": "markdown",
   "source": [
    "## Practice\n",
    "\n",
    "We demonstrate GST on the single qubit case.\n",
    "\n",
    "First, we import the necessary libraries."
   ],
   "metadata": {
    "collapsed": false,
    "pycharm": {
     "name": "#%% md\n"
    }
   }
  },
  {
   "cell_type": "markdown",
   "source": [],
   "metadata": {
    "collapsed": false,
    "pycharm": {
     "name": "#%% md\n"
    }
   }
  },
  {
   "cell_type": "code",
   "execution_count": 5,
   "outputs": [],
   "source": [
    "import QCompute\n",
    "import numpy as np\n",
    "from qcompute_qep.tomography import GateSetTomography, GateSet\n",
    "import qcompute_qep.tomography as tomography\n",
    "from QCompute.QPlatform.QOperation import CircuitLine"
   ],
   "metadata": {
    "collapsed": false,
    "pycharm": {
     "name": "#%%\n"
    }
   }
  },
  {
   "cell_type": "markdown",
   "source": [
    "Then we set up the Gate Set we are interested in.\n",
    "\n",
    "* $\\mathcal{G} = \\left\\{\\left\\{\\right\\}, X_{\\pi/2}, Y_{\\pi/2}\\right\\} = \\left\\{\\mathsf{G}_0, \\mathsf{G}_1, \\mathsf{G}_2\\right\\}$\n",
    "* $\\mathcal{F} = \\left\\{\\left\\{\\right\\}, X_{\\pi/2}, Y_{\\pi/2}, X_{\\pi/2} \\circ X_{\\pi/2}\\right\\} = \\left\\{\\left\\{\\right\\}, \\mathsf{G}_1, \\mathsf{G}_2, \\mathsf{G}_1 \\circ \\mathsf{G}_1\\right\\}$"
   ],
   "metadata": {
    "collapsed": false,
    "pycharm": {
     "name": "#%% md\n"
    }
   }
  },
  {
   "cell_type": "code",
   "execution_count": 6,
   "outputs": [],
   "source": [
    "prep_circuit = []\n",
    "meas_circuit = []\n",
    "\n",
    "rx_90 = CircuitLine(QCompute.RX(np.pi / 2), [0])\n",
    "ry_90 = CircuitLine(QCompute.RY(np.pi / 2), [0])\n",
    "\n",
    "\n",
    "gate_set = GateSet(prep_circuit, meas_circuit, gates={'rx_90': rx_90, 'ry_90': ry_90},\n",
    "                   prep_gates=[['rx_90'], ['ry_90'], ['rx_90', 'rx_90']],\n",
    "                   meas_gates=[['rx_90'], ['ry_90'], ['rx_90', 'rx_90']])"
   ],
   "metadata": {
    "collapsed": false,
    "pycharm": {
     "name": "#%%\n"
    }
   }
  },
  {
   "cell_type": "markdown",
   "source": [
    "Then we set the quantum computer (instance of QComputer). The QuantumComputer can be a simulator or a hardware interface. The rest is simple, we initialize a GateSetTomography instance, call the tomography procedure and obtain the noisy gate set. Here, we set `qubits=[1]` that means we are interested in second qubit of quantum computer."
   ],
   "metadata": {
    "collapsed": false,
    "pycharm": {
     "name": "#%% md\n"
    }
   }
  },
  {
   "cell_type": "markdown",
   "source": [],
   "metadata": {
    "collapsed": false,
    "pycharm": {
     "name": "#%% md\n"
    }
   }
  },
  {
   "cell_type": "code",
   "execution_count": 7,
   "outputs": [
    {
     "name": "stderr",
     "output_type": "stream",
     "text": [
      "\u001B[34mSuccessfully finished GST!: 100%|\u001B[34m███████████\u001B[34m| 100.0/100 [00:02<00:00, 45.66it/s]\u001B[0m\n"
     ]
    }
   ],
   "source": [
    "# Please login the \"Quantum Leaf\" platform (https://quantum-hub.baidu.com/) to get Token\n",
    "QCompute.Define.hubToken = \"Token\"\n",
    "\n",
    "# qc = QCompute.BackendName.CloudBaiduQPUQian\n",
    "qc = QCompute.BackendName.LocalBaiduSim2\n",
    "\n",
    "tomo = GateSetTomography()\n",
    "\n",
    "gate_set = tomo.fit(qc, gate_set=gate_set, qubits=[1])"
   ],
   "metadata": {
    "collapsed": false,
    "pycharm": {
     "name": "#%%\n"
    }
   }
  },
  {
   "cell_type": "markdown",
   "source": [
    "Finally, we can analyze the experimental data and visualize these PTMs to see the effect of GST."
   ],
   "metadata": {
    "collapsed": false,
    "pycharm": {
     "name": "#%% md\n"
    }
   }
  },
  {
   "cell_type": "code",
   "execution_count": 8,
   "outputs": [
    {
     "name": "stdout",
     "output_type": "stream",
     "text": [
      "rx_90\n",
      "The average gate fidelity between these two PTMs are: 1.0032814481981147\n",
      "**************************\n",
      "ry_90\n",
      "The average gate fidelity between these two PTMs are: 1.003774062117967\n",
      "**************************\n",
      "The state fidelity is: 1.0075878686910356\n",
      "***************\n",
      "The measurement fidelityis: 0.9923411588448733\n"
     ]
    }
   ],
   "source": [
    "\n",
    "for i, key in enumerate(gate_set.noisy_gate.keys()):\n",
    "    print(key)\n",
    "    # print(gate_set.noisy_gate[key])\n",
    "    ideal = tomo.result['ideal gateset'][i]\n",
    "    noisy = gate_set.noisy_gate[key]\n",
    "    tomography.compare_process_ptm(ptms=[ideal, noisy, ideal - noisy])\n",
    "    print(\"The average gate fidelity between these two PTMs is: {}\".format(gate_set.fidelity(key)))\n",
    "    print(\"**************************\")\n",
    "\n",
    "print(\"The state fidelity is: {}\".format(gate_set.fidelity('rho')))\n",
    "print(\"***************\")\n",
    "print(\"The measurement fidelityis: {}\".format(gate_set.fidelity('meas')))"
   ],
   "metadata": {
    "collapsed": false,
    "pycharm": {
     "name": "#%%\n"
    }
   }
  },
  {
   "cell_type": "markdown",
   "source": [
    "## References\n",
    "[1] Greenbaum, Daniel. \"Introduction to quantum gate set tomography.\" [arXiv](https://arxiv.org/abs/1509.02921) preprint arXiv:1509.02921 (2015)."
   ],
   "metadata": {
    "collapsed": false,
    "pycharm": {
     "name": "#%% md\n"
    }
   }
  }
 ],
 "metadata": {
  "kernelspec": {
   "display_name": "Python 3",
   "language": "python",
   "name": "python3"
  },
  "language_info": {
   "codemirror_mode": {
    "name": "ipython",
    "version": 2
   },
   "file_extension": ".py",
   "mimetype": "text/x-python",
   "name": "python",
   "nbconvert_exporter": "python",
   "pygments_lexer": "ipython2",
   "version": "2.7.6"
  }
 },
 "nbformat": 4,
 "nbformat_minor": 0
}