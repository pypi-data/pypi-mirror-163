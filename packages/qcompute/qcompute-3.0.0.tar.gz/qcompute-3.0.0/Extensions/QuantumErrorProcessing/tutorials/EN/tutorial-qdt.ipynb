{
 "cells": [
  {
   "cell_type": "markdown",
   "metadata": {
    "collapsed": true,
    "pycharm": {
     "name": "#%% md\n"
    }
   },
   "source": [
    "# Quantum Detector Tomography\n",
    "\n",
    "*Copyright (c) 2022 Institute for Quantum Computing, Baidu Inc. All Rights Reserved.*\n",
    "\n",
    "## Outline\n",
    "\n",
    "A central challenge on the path towards large-scale quantum computing is the fidelity of the quantum measurement. A method that can accurately and reliably characterize unknown quantum measurement is desirable.\n",
    "Quantum detector tomography (QDT) is a method that can be used to accurately describe the specific expression of quantum measurement.\n",
    "\n",
    "This tutorial introduces Quantum Detector Tomography (QDT), covering its theory and implementation on [Baidu Quantum Platform](https://quantum.baidu.com/)."
   ]
  },
  {
   "cell_type": "markdown",
   "metadata": {
    "pycharm": {
     "name": "#%% md\n"
    }
   },
   "source": [
    "## Theory\n",
    "The basic principle of quantum detector tomography is to measure a group of precisely known quantum states, and reconstruct the specific expression of the measurement operator from the measurement results."
   ]
  },
  {
   "cell_type": "markdown",
   "metadata": {
    "pycharm": {
     "name": "#%% md\n"
    }
   },
   "source": [
    "### Detector tomography method\n",
    "Quantum measurement can be described by a set of POVM $\\left\\{E_{m}\\right\\}_{m=1}^{M}$, where $M=d^2$, $d = 2^n$, $n$ represents the number of quantum bits. Select a set of quantum states $\\left\\{\\rho_{n}\\right\\}_{n=1}^{N}$, where $N\\geq d^2$, this set of quantum states is expanded into a Hilbert-Schmidt space. Then, we measure the quantum state and get $MN$ measurement results\n",
    "\n",
    "$$\n",
    "\\begin{align}\n",
    "\\forall n \\in \\left[N\\right], \\;\\forall m \\in \\left[M\\right],\\; p_{mn}:=\\langle\\langle E_m \\vert \\rho_n \\rangle\\rangle = \\textrm{Tr}\\left[E_m\\rho_n\\right].\\label{PTM-1}\n",
    "\\end{align}\n",
    "$$\n",
    "\n",
    "$p_{mn}$ represents the probability that the measurement result of $\\rho_n$ is $m$, which can be obtained experimentally.\n",
    "\n",
    "Inserting the complete set of Pauli basis, we have\n",
    "\n",
    "$$\n",
    "\\begin{align}\n",
    "p_{mn}=\\langle\\langle E_m \\vert \\rho_n \\rangle\\rangle = \\sum_{k=1}^{d^2}\\langle\\langle E_m\\vert k\\rangle\\rangle\\langle\\langle k\\vert \\rho_n\\rangle\\rangle.\\label{PTM-2}\n",
    "\\end{align}\n",
    "$$\n",
    "\n",
    "$p_{mn}$ can be obtained experimentally by the following methods: the frequency of statistical input state $\\rho_n$ and output result $m$ is recorded as $f_{mn}$, then through the theorem of large numbers, we can have $p_{mn} = f_{mn}/F_{\\rm shots}$. $f_{mn}$ meets the normalization condition\n",
    "\n",
    "$$\n",
    "\\begin{align}\n",
    "\\forall n \\in \\left[N\\right], \\sum_{m=1}^M f_{mn} = F_{\\rm shots}.\n",
    "\\end{align}\n",
    "$$\n",
    "\n",
    "Since $\\left\\{\\rho_{n}\\right\\}_{n=1}^{N}$ is selected before the experiment, we can define a matrix $\\mathfrak{P}$, whose expression is\n",
    "\n",
    "$$\n",
    "\\begin{align}\n",
    "  \\mathfrak{P} = \\begin{bmatrix}\n",
    "    \\langle\\langle \\rho_1 | 1 \\rangle\\rangle\n",
    "    & \\langle\\langle \\rho_1 |  2 \\rangle\\rangle & \\cdots\n",
    "    & \\langle\\langle \\rho_1 | d^2 \\rangle\\rangle \\\\\n",
    "    \\langle\\langle \\rho_2 | 1 \\rangle\\rangle\n",
    "    & \\langle\\langle \\rho_2 | 2 \\rangle\\rangle & \\cdots\n",
    "    & \\langle\\langle \\rho_2 | d^2 \\rangle\\rangle \\\\\n",
    "    \\vdots & \\vdots & \\ddots & \\vdots \\\\\n",
    "    \\langle\\langle \\rho_N | 1 \\rangle\\rangle\n",
    "    & \\langle\\langle \\rho_N | 2 \\rangle\\rangle & \\cdots\n",
    "    & \\langle\\langle \\rho_N | d^2 \\rangle\\rangle\n",
    "  \\end{bmatrix}.\n",
    "\\end{align}\n",
    "$$\n",
    "\n",
    "Similarly, we can also define an unknown POVM as a matrix $\\mathfrak{M}$, whose expression is\n",
    "\n",
    "$$\n",
    "\\begin{align}\n",
    "  \\mathfrak{M} = \\begin{bmatrix}\n",
    "    \\langle\\langle E_1 | 1 \\rangle\\rangle\n",
    "    & \\langle\\langle E_1 |  2 \\rangle\\rangle & \\cdots\n",
    "    & \\langle\\langle E_1 | d^2 \\rangle\\rangle \\\\\n",
    "    \\langle\\langle E_2 | 1 \\rangle\\rangle\n",
    "    & \\langle\\langle E_2 | 2 \\rangle\\rangle & \\cdots\n",
    "    & \\langle\\langle E_2 | d^2 \\rangle\\rangle \\\\\n",
    "    \\vdots & \\vdots & \\ddots & \\vdots \\\\\n",
    "    \\langle\\langle E_M | 1 \\rangle\\rangle\n",
    "    & \\langle\\langle E_M | 2 \\rangle\\rangle & \\cdots\n",
    "    & \\langle\\langle E_M | d^2 \\rangle\\rangle\n",
    "  \\end{bmatrix}.\n",
    "\\end{align}\n",
    "$$\n",
    "\n",
    "All QDT has to do is find out every element of $\\mathfrak{M}$.\n",
    "\n",
    "The probabilities obtained from our experiments can also be written in the form of matrices\n",
    "\n",
    "$$\n",
    "\\begin{align}\n",
    "  P = \\begin{bmatrix}\n",
    "    p_{11}\n",
    "    & p_{12} & \\cdots\n",
    "    & p_{1N} \\\\\n",
    "    p_{21}\n",
    "    & p_{22} & \\cdots\n",
    "    & p_{2N} \\\\\n",
    "    \\vdots & \\vdots & \\ddots & \\vdots \\\\\n",
    "    p_{M1}\n",
    "    & p_{M2} & \\cdots\n",
    "    & p_{MN}\n",
    "  \\end{bmatrix}.\n",
    "\\end{align}\n",
    "$$\n",
    "\n",
    "The probabilities obtained from our experiments can also be written in the form of matrices\n",
    "\n",
    "$$\n",
    "\\begin{align}\n",
    "P = \\mathfrak{M}\\mathfrak{P}^\\mathrm{T}.\n",
    "\\end{align}\n",
    "$$\n",
    "\n",
    "This is a linear regression model. Given $P$ and $\\mathfrak{P}$, solve $\\mathfrak{M}$. There are many ways we can deal with it.\n",
    "\n",
    "#### Linear inversion estimation\n",
    "\n",
    "If the set of quantum states $\\left\\{\\rho_n\\right\\}_n$ are carefully chosen\n",
    "so that $\\mathfrak{P}$ is invertible (in which case it must hold that $N=d^2$), the solution is intuitive\n",
    "\n",
    "$$\n",
    "\\begin{align}\n",
    "\\mathfrak{M} = P\\left(\\mathfrak{P}^\\mathrm{T}\\right)^{-1}.\n",
    "\\end{align}\n",
    "$$\n",
    "\n",
    "#### Ordinary least squares\n",
    "\n",
    "However, this linear inversion estimation cannot deal with the overcomplete sets of quantum states where $N > d^2$, which can theoretically improve the estimation accuracy. In this case, $\\mathfrak{P}$ has more rows than columns and cannot be inverted. In this case, we can use the\n",
    "the ordinary least-squares estimate as\n",
    "\n",
    "$$\n",
    "\\begin{align}\n",
    "\\mathfrak{M}^\\ast := \\operatorname*{argmin}_{\\mathfrak{M}} \\left\\|{P-\\mathfrak{M}\\mathfrak{P}^\\mathrm{T}}\\right\\|_2^2.\n",
    "\\end{align}\n",
    "$$\n",
    "\n",
    "where $\\left\\|\\cdot\\right\\|_2$ is the Euclidean norm. Actually, the optimization problem can be analytically resolved provided that the columns of the matrices $\\mathfrak{P}$ and $P$ are linearly independent:\n",
    "\n",
    "$$\n",
    "\\begin{align}\n",
    "&\\quad    \\mathfrak{M}\\mathfrak{P}^T = P \\\\\n",
    "\\Rightarrow&\\quad \\mathfrak{M}\\left(\\mathfrak{P}^T\\mathfrak{P}^*\\right) = P\\mathfrak{P}^* \\\\\n",
    "\\Rightarrow&\\quad \\mathfrak{M} = P\\mathfrak{P}^* \\left(\\mathfrak{P}^T\\mathfrak{P}^*\\right)^{-1}.\n",
    "\\end{align}\n",
    "$$\n",
    "\n",
    "where $\\mathfrak{P}^\\ast$ is the complex conjugate of $\\mathfrak{P}$ and $\\mathfrak{P}\\mathfrak{P}^\\dagger$ is known as the Gram matrix and is always invertible.\n",
    "\n",
    "\n",
    "#### Maximal likelihood estimation\n",
    "\n",
    "There is a severe problem with the previous two methods---linear inversion estimation\n",
    "and ordinary least squares---it is very possible that detector tomography will return an illegal POVM. In this section we summarize the maximum likelihood estimation (MLE) analysis for quantum detector tomography\n",
    "\n",
    "The log likelihood function is defined as\n",
    "\n",
    "$$\n",
    "\\begin{align}\n",
    "    \\log\\mathcal{L} := \\sum_m\\sum_n f_{mn}\\log\\textrm{Tr}\\left[E_m\\rho_n\\right].\n",
    "\\end{align}\n",
    "$$\n",
    "\n",
    "The sum over index $n$ contains an informationally complete set of detective states.\n",
    "The normalization constraint $\\sum_m E_m=I$ is implemented by Lagrange multipliers.\n",
    "In this MLE problem, $\\left\\{E_m\\right\\}$ is the parameters to be estimated.\n",
    "Each event $\\left(m,n\\right)$ ---input state $\\rho_n$ and observe the outcome $m$ ---corresponds\n",
    "to an individual likelihood function, which is given by\n",
    "\n",
    "$$\n",
    "\\begin{align}\n",
    "    \\mathcal{L}\\left(\\left\\{E_m\\right\\}\\vert \\left(m,n\\right)\\right) = P\\left(\\left(m,n\\right)\\vert\\left\\{E_m\\right\\}\\right) = \\textrm{Tr}\\left[E_m\\rho_n\\right].\n",
    "\\end{align}\n",
    "$$\n",
    "\n",
    "We have a total number $F_{\\rm shots}\\times N$ of events $\\left\\{\\left(m_k,n_k\\right)\\right\\}_{k=1}^{F_{\\rm shots}\\times N}$. Correspondingly, the global likelihood function for the observed dataset $\\left\\{\\left(m_k,n_k\\right)\\right\\}$ is defined as\n",
    "\n",
    "$$\n",
    "\\begin{align}\n",
    "  \\mathcal{L}\\left(\\left\\{E_m\\right\\}\\vert\\left\\{\\left(m_k,n_k\\right)\\right\\}\\right)\n",
    "= \\prod_{\\left(m_k,n_k\\right)}\\mathcal{L}\\left(\\{E_m\\}\\vert \\left(m_k,n_k\\right)\\right)\n",
    "= \\prod_{m,n}\\textrm{Tr}\\left[E_m\\rho_n\\right]^{f_{mn}}.\n",
    "\\end{align}\n",
    "$$\n",
    "\n",
    "maximization with the constraint leads to the equation\n",
    "\n",
    "$$\n",
    "\\begin{align}\\tag{1}\\label{qdt}\n",
    "    E_m = R_n E_m R_n^\\dagger,\n",
    "\\end{align}\n",
    "$$\n",
    "\n",
    "where\n",
    "\n",
    "$$\n",
    "\\begin{align}\\tag{2}\\label{qdt-2}\n",
    "  R_m\n",
    "= \\left(\\sum_{m'}\\sum_{n,n'}\\frac{f_{m'n}f_{m'n'}}{\\hat{p}_{m'n}\\hat{p}_{m'n'}}\\rho_nE_{m'}\\rho_{n'}\\right)^{-\\frac{1}{2}}\n",
    "\t\\left(\\sum_n\\frac{f_{mn}}{\\hat{p}_{mn}}\\rho_n\\right),\n",
    "\\end{align}\n",
    "$$\n",
    "\n",
    "where $\\hat{p}_{mn} = \\textrm{Tr}\\left[E_m\\rho_n\\right]$ is the **theoretical** probability of measuring the state $\\rho_n$ and obtaining outcome $m$.\n",
    "\n",
    "Eq.\\eqref{qdt} yields an iterative process to estimate the optimal POVM. Each iteration starts with updating $E_m$ according to Eq.\\eqref{qdt}, and ends with calculating $R_m$ from Eq~\\eqref{qdt-2} for the next iteration. The termination condition is set as\n",
    "\n",
    "$$\n",
    "\\begin{align}\n",
    "    \\max_{m} \\left\\|{E_m^{\\left(k\\right)} - E_m^{\\left(k+1\\right)}}\\right\\|_2 \\leq \\varepsilon,\n",
    "\\end{align}\n",
    "$$\n",
    "\n",
    "where the subscript denotes the $k$-th and the $\\left(k+1\\right)$-th iterations,\n",
    "the norm is taken to be the Euclidean norm.\n",
    "Positivity and normalization are preserved as long as the initial values of\n",
    "$\\left\\{E^{\\left(0\\right)}_m\\right\\}$ form a POVM. A common choice is $\\left\\{E_{m}^{\\left(0\\right)}\\right\\} = \\frac{I}{d}$, the maximally mixed operator.\n",
    "It is worth mentioning that $\\varepsilon$ should be small enough so that the numerical error introduced by the cutoff is less than the uncertainty of the estimated parameters caused by statistical fluctuations.\n",
    "\n",
    "Finally, the flow chart is as follows.\n",
    " \n",
    "![QST](./figures/qdt-chart.png \"Figure 1: Flow chart of QDT\")"
   ]
  },
  {
   "cell_type": "markdown",
   "metadata": {
    "pycharm": {
     "name": "#%% md\n"
    }
   },
   "source": [
    "## Practice\n",
    "\n",
    "We demonstrate quantum detector tomography on the measurement device.\n",
    "\n",
    "First, we import the necessary libraries."
   ]
  },
  {
   "cell_type": "code",
   "execution_count": 1,
   "metadata": {
    "pycharm": {
     "name": "#%%\n"
    }
   },
   "outputs": [],
   "source": [
    "from qcompute_qep.tomography.detector_tomography import DetectorTomography, visualization\n",
    "from QCompute import *"
   ]
  },
  {
   "cell_type": "markdown",
   "metadata": {
    "pycharm": {
     "name": "#%% md\n"
    }
   },
   "source": [
    "Detector tomography is a method to accurately describe measurement equipment, so we first need to create a quantum circuit containing measurement, taking a two bit quantum system as an example,"
   ]
  },
  {
   "cell_type": "code",
   "execution_count": 2,
   "metadata": {
    "pycharm": {
     "name": "#%%\n"
    }
   },
   "outputs": [
    {
     "data": {
      "text/plain": "[<QCompute.QPlatform.QRegPool.QRegStorage at 0x7f98c7c6b760>,\n <QCompute.QPlatform.QRegPool.QRegStorage at 0x7f98c7ce0430>]"
     },
     "execution_count": 2,
     "metadata": {},
     "output_type": "execute_result"
    }
   ],
   "source": [
    "n = 2\n",
    "qp = QEnv()\n",
    "qp.Q.createList(n)"
   ]
  },
  {
   "cell_type": "markdown",
   "metadata": {
    "pycharm": {
     "name": "#%% md\n"
    }
   },
   "source": [
    "Then we set the quantum computer (instance of QComputer). The QuantumComputer can be a simulator or a hardware interface. The rest is simple, we initialize a DetectorTomography instance, call the tomography procedure and obtain the calculated POVM, we set the method as 'inverse' means that we choose the Linear inversion estimation method mentioned above. In addition to the inversion method, the Least square method and Maximum likelihood estimation method mentioned above are also implemented in our Detectortomography module."
   ]
  },
  {
   "cell_type": "code",
   "execution_count": 3,
   "metadata": {
    "pycharm": {
     "name": "#%%\n"
    }
   },
   "outputs": [
    {
     "name": "stderr",
     "output_type": "stream",
     "text": [
      "Step 1/3 : Constructing quantum circuits...: 100%|█| 100.0/100 [00:00<00:00, 264\n",
      "Step 2/3 : Collecting experiment results...: 100%|█| 100.0/100 [00:00<00:00, 319\n"
     ]
    },
    {
     "name": "stdout",
     "output_type": "stream",
     "text": [
      "Step 3/3 : Working on INVERSE method...\n",
      "POVM [array([[ 1.00000000e+00+0.00000000e+00j, -2.56347656e-03+7.81250000e-03j,\n",
      "        -6.22558594e-03+9.39941406e-03j, -1.83105469e-04-1.52587891e-03j],\n",
      "       [-2.56347656e-03-7.81250000e-03j, -5.55111512e-17+0.00000000e+00j,\n",
      "         5.06591797e-03-1.64794922e-03j, -4.96130914e-16+4.44089210e-16j],\n",
      "       [-6.22558594e-03-9.39941406e-03j,  5.06591797e-03+1.64794922e-03j,\n",
      "        -4.44089210e-16+0.00000000e+00j, -2.97721917e-16+2.14238349e-16j],\n",
      "       [-1.83105469e-04+1.52587891e-03j, -4.96130914e-16-4.44089210e-16j,\n",
      "        -2.97721917e-16-2.14238349e-16j,  1.66533454e-16+0.00000000e+00j]]), array([[-5.82867088e-16+0.00000000e+00j,  2.56347656e-03-7.81250000e-03j,\n",
      "        -8.30498864e-17+1.06685494e-16j, -2.44140625e-03+7.81250000e-03j],\n",
      "       [ 2.56347656e-03+7.81250000e-03j,  1.00000000e+00+0.00000000e+00j,\n",
      "        -1.22070313e-02+5.73730469e-03j,  3.05175781e-03-1.53808594e-02j],\n",
      "       [-8.30498864e-17-1.06685494e-16j, -1.22070313e-02-5.73730469e-03j,\n",
      "        -5.55111512e-17+0.00000000e+00j, -4.98732999e-18-7.93635990e-17j],\n",
      "       [-2.44140625e-03-7.81250000e-03j,  3.05175781e-03+1.53808594e-02j,\n",
      "        -4.98732999e-18+7.93635990e-17j, -8.32667268e-16+0.00000000e+00j]]), array([[-5.55111512e-17+0.00000000e+00j, -1.84531210e-16+2.75604192e-16j,\n",
      "         6.22558594e-03-9.39941406e-03j, -4.76074219e-03+7.56835937e-03j],\n",
      "       [-1.84531210e-16-2.75604192e-16j, -1.66533454e-16+0.00000000e+00j,\n",
      "        -5.61523437e-03+8.91113281e-03j, -7.84962373e-17+3.31332184e-16j],\n",
      "       [ 6.22558594e-03+9.39941406e-03j, -5.61523437e-03-8.91113281e-03j,\n",
      "         1.00000000e+00+0.00000000e+00j,  3.90625000e-03+3.66210938e-03j],\n",
      "       [-4.76074219e-03-7.56835937e-03j, -7.84962373e-17-3.31332184e-16j,\n",
      "         3.90625000e-03-3.66210938e-03j, -5.55111512e-17+0.00000000e+00j]]), array([[ 5.55111512e-17+0.00000000e+00j, -4.42354486e-16+5.01768765e-16j,\n",
      "        -4.13514709e-16+3.80771803e-16j,  7.38525391e-03-1.38549805e-02j],\n",
      "       [-4.42354486e-16-5.01768765e-16j, -1.66533454e-16+0.00000000e+00j,\n",
      "         1.27563477e-02-1.30004883e-02j, -3.05175781e-03+1.53808594e-02j],\n",
      "       [-4.13514709e-16-3.80771803e-16j,  1.27563477e-02+1.30004883e-02j,\n",
      "        -5.27355937e-16+0.00000000e+00j, -3.90625000e-03-3.66210938e-03j],\n",
      "       [ 7.38525391e-03+1.38549805e-02j, -3.05175781e-03-1.53808594e-02j,\n",
      "        -3.90625000e-03+3.66210938e-03j,  1.00000000e+00+0.00000000e+00j]])]\n"
     ]
    }
   ],
   "source": [
    "# Please login the \"Quantum Leaf\" platform (https://quantum-hub.baidu.com/) to get Token\n",
    "Define.hubToken = \"Token\"\n",
    "\n",
    "qc = BackendName.CloudBaiduQPUQian\n",
    "# Initialize a DetectorTomography instance\n",
    "detec = DetectorTomography()\n",
    "\n",
    "# Call the tomography procedure and obtain the POVM.\n",
    "# Other supported methods are 'lstsq', 'mle'.\n",
    "meas = detec.fit(qp=qp, qc=qc, method='inverse', shots=8192)\n",
    "print('POVM', meas)"
   ]
  },
  {
   "cell_type": "markdown",
   "source": [
    "It is worth mentioning that our module can easily tomograph the measurement operators of the specified qubits, just add the **qubits** variable, and the calling method is as follows"
   ],
   "metadata": {
    "collapsed": false,
    "pycharm": {
     "name": "#%% md\n"
    }
   }
  },
  {
   "cell_type": "code",
   "execution_count": null,
   "outputs": [],
   "source": [
    "# meas = detec.fit(qp=qp, qc=qc, method='inverse', shots=8192, qubits=[1])"
   ],
   "metadata": {
    "collapsed": false,
    "pycharm": {
     "name": "#%%\n"
    }
   }
  },
  {
   "cell_type": "markdown",
   "metadata": {
    "pycharm": {
     "name": "#%% md\n"
    }
   },
   "source": [
    "Next, we calculate the measurement fidelity, which is defined as\n",
    "\n",
    "$$\n",
    "\\begin{align}\n",
    "    f\\left(\\mathcal{M}\\right) := \\frac{1}{2^n}\\sum_{\\mathbf{x}\\in\\left\\{0,1\\right\\}^n}\\langle \\mathbf{x}\\vert\\Pi_{\\mathbf{x}}\\vert\\mathbf{x}\\rangle.\n",
    "\\end{align}\n",
    "$$\n",
    "\n",
    "It should be pointed out that the measurement fidelity with respect to the ideal standard measurement basis."
   ]
  },
  {
   "cell_type": "code",
   "execution_count": 4,
   "metadata": {
    "pycharm": {
     "name": "#%%\n"
    }
   },
   "outputs": [
    {
     "name": "stdout",
     "output_type": "stream",
     "text": [
      "Fidelity of the POVM: F = 1.00000\n"
     ]
    }
   ],
   "source": [
    "fid = detec.fidelity\n",
    "print('Fidelity of the POVM: F = {:.5f}'.format(fid))"
   ]
  },
  {
   "cell_type": "markdown",
   "metadata": {
    "pycharm": {
     "name": "#%% md\n"
    }
   },
   "source": [
    "The tomography results can also be visualized. Here, the POVM $E_{00}$ for visualization"
   ]
  },
  {
   "cell_type": "code",
   "execution_count": 5,
   "metadata": {
    "pycharm": {
     "name": "#%%\n"
    }
   },
   "outputs": [
    {
     "data": {
      "text/plain": "<Figure size 432x432 with 3 Axes>",
      "image/png": "[encoded data removed]"
     },
     "metadata": {
      "needs_background": "light"
     },
     "output_type": "display_data"
    }
   ],
   "source": [
    "visualization(meas[0])"
   ]
  },
  {
   "cell_type": "markdown",
   "metadata": {
    "pycharm": {
     "name": "#%% md\n"
    }
   },
   "source": [
    "## Summary\n",
    "\n",
    "This tutorial describes how to use Quantum Detector Tomography method to reconstruct the unknown quantum state on [Baidu Quantum Platform](https://quantum.baidu.com/)."
   ]
  },
  {
   "cell_type": "markdown",
   "metadata": {
    "pycharm": {
     "name": "#%% md\n"
    }
   },
   "source": [
    "## 参考资料\n",
    "[1] Greenbaum, Daniel. \"Introduction to quantum gate set tomography.\" [arXiv](https://arxiv.org/abs/1509.02921) preprint arXiv:1509.02921 (2015).\n",
    "\n",
    "[2] Fiurášek, Jaromír. \"Maximum-likelihood estimation of quantum measurement.\" [Physical Review A](https://journals.aps.org/pra/abstract/10.1103/PhysRevA.64.024102) 64.2 (2001): 024102.\n",
    "\n",
    "[3] Chen, SY Yanzhu, Maziar Farahzad, and T. C. Wei. \"Detector tomography on ibm 5-qubit quantum computers and mitigation of imperfect measurement, arXiv (2019).\" [arXiv](https://arxiv.org/abs/1904.11935) preprint arXiv:1904.11935."
   ]
  }
 ],
 "metadata": {
  "kernelspec": {
   "display_name": "Python 3",
   "language": "python",
   "name": "python3"
  },
  "language_info": {
   "codemirror_mode": {
    "name": "ipython",
    "version": 3
   },
   "file_extension": ".py",
   "mimetype": "text/x-python",
   "name": "python",
   "nbconvert_exporter": "python",
   "pygments_lexer": "ipython3",
   "version": "3.8.8"
  },
  "pycharm": {
   "stem_cell": {
    "cell_type": "raw",
    "metadata": {
     "collapsed": false
    },
    "source": []
   }
  }
 },
 "nbformat": 4,
 "nbformat_minor": 1
}