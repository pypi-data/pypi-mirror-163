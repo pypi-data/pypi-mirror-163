{
 "cells": [
  {
   "cell_type": "markdown",
   "metadata": {
    "pycharm": {
     "name": "#%% md\n"
    }
   },
   "source": [
    "# Installation\n",
    "\n",
    "*Copyright (c) 2022 Institute for Quantum Computing, Baidu Inc. All Rights Reserved.*\n",
    "\n",
    "\n",
    "## Install Anaconda \n",
    "\n",
    "We highly recommend installing [Anaconda](https://www.anaconda.com/products/individual) as the package manager. Anaconda is a powerful Python package management and deployment toolkit that supports Windows, Linux and MacOS. It provides Scipy, Numpy, Matplotlib, and many other scientific computing and drawing packages. It also provides `conda`, a powerful virtual environment manager that can be used to install and update Python packages. After successfully installing Anaconda, you can launch the Anaconda Prompt (Windows users) or the Terminal (Linux and Mac users) to use `conda`. Now demonstrate how to use `conda` to create a new environment in MacOS.\n",
    "\n",
    "1. Open the Terminal and enter\n",
    "\n",
    "```bash\n",
    "conda create --name qep python=3.8\n",
    "```\n",
    "\n",
    "to create a Python 3.8 environment named `qep`. We then activate this new environment using the following command\n",
    "\n",
    "```bash\n",
    "conda activate qep\n",
    "```\n",
    "\n",
    "2. To read the Jupyter Notebook tutorials correctly, we need to install the `jupyter notebook` package\n",
    "\n",
    "```bash\n",
    "conda install jupyter notebook\n",
    "```\n",
    "\n",
    "After installation, you can start a Jupyter Notebook by activating the corresponding environment in the Terminal\n",
    "\n",
    "```bash\n",
    "jupyter notebook\n",
    "```\n",
    "\n",
    "For more detailed instructions on `conda`, please refer to the [Official Tutorial](https://docs.conda.io/projects/conda/en/latest/user-guide/getting-started.html). What's more, the users can also open the Jupyter Notebook using [Anaconda Navigator](https://docs.anaconda.com/anaconda/navigator/).\n",
    "\n",
    "3. Update the packages. The QEP package relies on the following open-source packages. For better user experience, we suggest the users to upgrade the dependencies before using QEP. For example, to update the module `matplotlib`, simply run the following command in the Terminal\n",
    "\n",
    "```bash\n",
    "pip install --upgrade matplotlib \n",
    "```\n",
    "\n",
    "## Install QCompute\n",
    "\n",
    "[QCompute](https://quantum-hub.baidu.com/opensource) is a Python-based open-source quantum computing platform SDK developed by the [Institute for Quantum Computing](https://quantum.baidu.com/) at Baidu Research. It provides a full-stack quantum programming experience for senior users via hybrid quantum programming language features and high-performance simulators. QEP is developed based on QCompute and aims to deal with quantum errors inherent in quantum devices. When you install QEP, the dependency QCompute will be automatically installed. Please refer to [QCompute](https://quantum-hub.baidu.com/opensource)'s official installation and configuration page for more details.\n",
    "\n",
    "## Install QEP\n",
    "\n",
    "### Install QEP via pip\n",
    "\n",
    "QEP is compatible with 64-bit Python 3.8 and 3.9, on Linux, MacOS (10.14 or later) and Windows.\n",
    "We highly recommend the uses to install QEP via `pip`. Activate the conda environment and enter\n",
    "\n",
    "```bash\n",
    "pip install qcompute-qep\n",
    "```\n",
    "\n",
    "This will install the QEP binaries as well as the QEP package. After installing QEP, you can download the source file of QEP from [GitHub](https://github.com/baidu/QCompute/Extensions/QuantumErrorProcessing/) and run the example within the `examples` folder to check out whether the installation was successful\n",
    "\n",
    "```bash\n",
    "python example-qcompute-qep.py\n",
    "```\n",
    "\n",
    "## Upgrade QEP\n",
    "\n",
    "We encourage the users to use the latest version of QEP for better experience. If you have already installed QEP, you can upgrade it via\n",
    "\n",
    "```bash\n",
    "pip install --upgrade qcompute-qep\n",
    "```"
   ]
  }
 ],
 "metadata": {
  "kernelspec": {
   "display_name": "Python 3",
   "language": "python",
   "name": "python3"
  },
  "language_info": {
   "codemirror_mode": {
    "name": "ipython",
    "version": 3
   },
   "file_extension": ".py",
   "mimetype": "text/x-python",
   "name": "python",
   "nbconvert_exporter": "python",
   "pygments_lexer": "ipython3",
   "version": "3.8.5"
  }
 },
 "nbformat": 4,
 "nbformat_minor": 4
}