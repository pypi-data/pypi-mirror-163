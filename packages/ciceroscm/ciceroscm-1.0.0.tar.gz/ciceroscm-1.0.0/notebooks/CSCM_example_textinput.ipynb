{
 "cells": [
  {
   "cell_type": "markdown",
   "id": "12bc2f58",
   "metadata": {},
   "source": [
    "# CICERO SCM - model reading of input datafiles"
   ]
  },
  {
   "cell_type": "markdown",
   "id": "72ab0c8d",
   "metadata": {},
   "source": [
    "Import some stuff"
   ]
  },
  {
   "cell_type": "code",
   "execution_count": 1,
   "id": "c722d7d9",
   "metadata": {},
   "outputs": [],
   "source": [
    "import sys\n",
    "import re\n",
    "import os\n",
    "import numpy as np\n",
    "import shutil\n",
    "import matplotlib.pyplot as plt\n",
    "import pandas as pd\n",
    "import pandas.testing as pdt\n",
    "import warnings\n",
    "from pandas.core.common import SettingWithCopyWarning\n",
    "warnings.simplefilter(action=\"ignore\", category=SettingWithCopyWarning)"
   ]
  },
  {
   "cell_type": "markdown",
   "id": "90503e7a",
   "metadata": {},
   "source": [
    "Import the model"
   ]
  },
  {
   "cell_type": "code",
   "execution_count": 2,
   "id": "3476370e",
   "metadata": {},
   "outputs": [],
   "source": [
    "sys.path.insert(0,os.path.join(os.getcwd(), '../', 'src'))\n",
    "\n",
    "from ciceroscm import CICEROSCM"
   ]
  },
  {
   "cell_type": "markdown",
   "id": "742035a6",
   "metadata": {},
   "source": [
    "set up input directories"
   ]
  },
  {
   "cell_type": "code",
   "execution_count": 3,
   "id": "741ed638",
   "metadata": {},
   "outputs": [],
   "source": [
    "test_data_dir = os.path.join(os.getcwd(), '../', 'tests', 'test-data')"
   ]
  },
  {
   "cell_type": "markdown",
   "id": "3722e0cc",
   "metadata": {},
   "source": [
    "Run the model"
   ]
  },
  {
   "cell_type": "code",
   "execution_count": 4,
   "id": "18332105",
   "metadata": {},
   "outputs": [],
   "source": [
    "# NBVAL_IGNORE_OUTPUT\n",
    "scen = 'test'\n",
    "cscm=CICEROSCM({\n",
    "            \"gaspam_file\": os.path.join(test_data_dir, \"gases_v1RCMIP.txt\"),\n",
    "            \"emstart\": 1850,   \n",
    "            \"nystart\": 1750,\n",
    "            \"nyend\": 2100,\n",
    "            \"concentrations_file\": os.path.join(test_data_dir, \"ssp245_conc_RCMIP.txt\"),\n",
    "            \"emissions_file\": os.path.join(test_data_dir, \"ssp245_em_RCMIP.txt\"),\n",
    "            \"nat_ch4_file\": os.path.join(test_data_dir, \"natemis_ch4.txt\"),\n",
    "            \"nat_n2o_file\": os.path.join(test_data_dir, \"natemis_n2o.txt\"),\n",
    "            \"idtm\":24,\n",
    "        })"
   ]
  },
  {
   "cell_type": "code",
   "execution_count": 5,
   "id": "64dad752",
   "metadata": {
    "scrolled": true
   },
   "outputs": [],
   "source": [
    "# NBVAL_IGNORE_OUTPUT\n",
    "\n",
    "cscm._run({\n",
    "            \"results_as_dict\":True\n",
    "        },\n",
    "    pamset_udm={\"threstemp\": 7.0, #scales vertical velocity as a function of mixed layer temperature\n",
    "                    \"rlamdo\":16.0,#air-sea heat exchange coefficient (wm^-2K^-1)\n",
    "                    \"akapa\":0.634, #vertical heat diffusivity\n",
    "                    \"cpi\":0.4, #temperature change ratio: polar to nonpolar region\n",
    "                    \"W\":4, #vertical velocity (m/yr)\n",
    "                    \"beto\":3.5, #ocean interhemispheric heat exchange coeff (Wm^-2K^-1)\n",
    "                    \"lambda\":0.54,\n",
    "                    \"mixed\":60.0,  #mixed layer depth\n",
    "                    \"foan\":0.61, #fraction of northern hemisphere covered by ocean\n",
    "                    \"foas\":0.81, #fraction of northern hemisphere covered by ocean\n",
    "                    \"ebbeta\":0.0,#atmospheric interhemispheric heat exchange \n",
    "                    \"fnso\":0.7531, #ocean area ratio, northern to southern hemisphere\n",
    "                    \"lm\":40, #number of vertical layers\n",
    "                    \"ldtime\":12,\n",
    "                   },\n",
    "    pamset_emiconc={\"lamb\": 0.8,\n",
    "                    \"qbmb\":0.03,\n",
    "                    \"qo3\":0.4,\n",
    "                    \"qdirso2\":-.457,\n",
    "                    \"qindso2\":-.514,\n",
    "                    \"qbc\":.2,\n",
    "                    \"qh2o_ch4\":.171,\n",
    "                    \"qoc\":-.103,\n",
    "                    \"ref_yr\":2010,\n",
    "                    \"idtm\":24},\n",
    "    )"
   ]
  },
  {
   "cell_type": "markdown",
   "id": "a6ed7684",
   "metadata": {},
   "source": [
    "# Read model output into Pandas dataframes"
   ]
  },
  {
   "cell_type": "markdown",
   "id": "0a808a12",
   "metadata": {},
   "source": [
    "What output do we have?"
   ]
  },
  {
   "cell_type": "code",
   "execution_count": 6,
   "id": "27ad13bf",
   "metadata": {},
   "outputs": [
    {
     "data": {
      "text/plain": [
       "dict_keys(['OHC700', 'OHCTOT', 'RIB_glob', 'RIB_N', 'RIB_S', 'dT_glob', 'dT_NH', 'dT_SH', 'dT_glob_air', 'dT_NH_air', 'dT_SH_air', 'dT_glob_sea', 'dT_NH_sea', 'dT_SHsea', 'Total_forcing', 'Solar_forcing', 'Volcanic_forcing_NH', 'Volcanic_forcing_SH', 'emissions', 'concentrations', 'forcing'])"
      ]
     },
     "execution_count": 6,
     "metadata": {},
     "output_type": "execute_result"
    }
   ],
   "source": [
    "cscm.results.keys()"
   ]
  },
  {
   "cell_type": "markdown",
   "id": "fe6d1106",
   "metadata": {},
   "source": [
    "Convert the results into a dataframe"
   ]
  },
  {
   "cell_type": "code",
   "execution_count": 7,
   "id": "e45bd473",
   "metadata": {},
   "outputs": [],
   "source": [
    "def to_df(cscm):\n",
    "    out=pd.concat([pd.DataFrame(v) for k, v in cscm.results.items()], axis = 1, keys = list(cscm.results.keys()))\n",
    "    return out"
   ]
  },
  {
   "cell_type": "code",
   "execution_count": 8,
   "id": "f129535e",
   "metadata": {},
   "outputs": [],
   "source": [
    "\n",
    "df_temp = to_df(cscm)\n"
   ]
  },
  {
   "cell_type": "code",
   "execution_count": 9,
   "id": "f9f3e622",
   "metadata": {},
   "outputs": [
    {
     "data": {
      "text/html": [
       "<div>\n",
       "<style scoped>\n",
       "    .dataframe tbody tr th:only-of-type {\n",
       "        vertical-align: middle;\n",
       "    }\n",
       "\n",
       "    .dataframe tbody tr th {\n",
       "        vertical-align: top;\n",
       "    }\n",
       "\n",
       "    .dataframe thead tr th {\n",
       "        text-align: left;\n",
       "    }\n",
       "</style>\n",
       "<table border=\"1\" class=\"dataframe\">\n",
       "  <thead>\n",
       "    <tr>\n",
       "      <th></th>\n",
       "      <th>OHC700</th>\n",
       "      <th>OHCTOT</th>\n",
       "      <th>RIB_glob</th>\n",
       "      <th>RIB_N</th>\n",
       "      <th>RIB_S</th>\n",
       "      <th>dT_glob</th>\n",
       "      <th>dT_NH</th>\n",
       "      <th>dT_SH</th>\n",
       "      <th>dT_glob_air</th>\n",
       "      <th>dT_NH_air</th>\n",
       "      <th>...</th>\n",
       "      <th colspan=\"10\" halign=\"left\">forcing</th>\n",
       "    </tr>\n",
       "    <tr>\n",
       "      <th></th>\n",
       "      <th>0</th>\n",
       "      <th>0</th>\n",
       "      <th>0</th>\n",
       "      <th>0</th>\n",
       "      <th>0</th>\n",
       "      <th>0</th>\n",
       "      <th>0</th>\n",
       "      <th>0</th>\n",
       "      <th>0</th>\n",
       "      <th>0</th>\n",
       "      <th>...</th>\n",
       "      <th>STRAT_O3</th>\n",
       "      <th>STRAT_H2O</th>\n",
       "      <th>BMB_AEROS_BC</th>\n",
       "      <th>BMB_AEROS_OC</th>\n",
       "      <th>BMB_AEROS</th>\n",
       "      <th>LANDUSE</th>\n",
       "      <th>BC</th>\n",
       "      <th>OC</th>\n",
       "      <th>OTHER</th>\n",
       "      <th>Total_forcing</th>\n",
       "    </tr>\n",
       "  </thead>\n",
       "  <tbody>\n",
       "    <tr>\n",
       "      <th>0</th>\n",
       "      <td>-0.011394</td>\n",
       "      <td>-0.011476</td>\n",
       "      <td>-0.015863</td>\n",
       "      <td>-0.027079</td>\n",
       "      <td>-0.004648</td>\n",
       "      <td>-0.000733</td>\n",
       "      <td>-0.001276</td>\n",
       "      <td>-0.000189</td>\n",
       "      <td>-0.001179</td>\n",
       "      <td>-0.002037</td>\n",
       "      <td>...</td>\n",
       "      <td>NaN</td>\n",
       "      <td>NaN</td>\n",
       "      <td>NaN</td>\n",
       "      <td>NaN</td>\n",
       "      <td>NaN</td>\n",
       "      <td>NaN</td>\n",
       "      <td>NaN</td>\n",
       "      <td>NaN</td>\n",
       "      <td>NaN</td>\n",
       "      <td>NaN</td>\n",
       "    </tr>\n",
       "    <tr>\n",
       "      <th>1</th>\n",
       "      <td>-0.028858</td>\n",
       "      <td>-0.029331</td>\n",
       "      <td>-0.011925</td>\n",
       "      <td>-0.021323</td>\n",
       "      <td>-0.002526</td>\n",
       "      <td>-0.002298</td>\n",
       "      <td>-0.003737</td>\n",
       "      <td>-0.000859</td>\n",
       "      <td>-0.002992</td>\n",
       "      <td>-0.004962</td>\n",
       "      <td>...</td>\n",
       "      <td>NaN</td>\n",
       "      <td>NaN</td>\n",
       "      <td>NaN</td>\n",
       "      <td>NaN</td>\n",
       "      <td>NaN</td>\n",
       "      <td>NaN</td>\n",
       "      <td>NaN</td>\n",
       "      <td>NaN</td>\n",
       "      <td>NaN</td>\n",
       "      <td>NaN</td>\n",
       "    </tr>\n",
       "    <tr>\n",
       "      <th>2</th>\n",
       "      <td>-0.042386</td>\n",
       "      <td>-0.043448</td>\n",
       "      <td>-0.009171</td>\n",
       "      <td>-0.018151</td>\n",
       "      <td>-0.000192</td>\n",
       "      <td>-0.003038</td>\n",
       "      <td>-0.004673</td>\n",
       "      <td>-0.001403</td>\n",
       "      <td>-0.003587</td>\n",
       "      <td>-0.005726</td>\n",
       "      <td>...</td>\n",
       "      <td>NaN</td>\n",
       "      <td>NaN</td>\n",
       "      <td>NaN</td>\n",
       "      <td>NaN</td>\n",
       "      <td>NaN</td>\n",
       "      <td>NaN</td>\n",
       "      <td>NaN</td>\n",
       "      <td>NaN</td>\n",
       "      <td>NaN</td>\n",
       "      <td>NaN</td>\n",
       "    </tr>\n",
       "    <tr>\n",
       "      <th>3</th>\n",
       "      <td>-0.053212</td>\n",
       "      <td>-0.054959</td>\n",
       "      <td>-0.007541</td>\n",
       "      <td>-0.016528</td>\n",
       "      <td>0.001447</td>\n",
       "      <td>-0.003383</td>\n",
       "      <td>-0.005050</td>\n",
       "      <td>-0.001716</td>\n",
       "      <td>-0.003831</td>\n",
       "      <td>-0.006000</td>\n",
       "      <td>...</td>\n",
       "      <td>NaN</td>\n",
       "      <td>NaN</td>\n",
       "      <td>NaN</td>\n",
       "      <td>NaN</td>\n",
       "      <td>NaN</td>\n",
       "      <td>NaN</td>\n",
       "      <td>NaN</td>\n",
       "      <td>NaN</td>\n",
       "      <td>NaN</td>\n",
       "      <td>NaN</td>\n",
       "    </tr>\n",
       "    <tr>\n",
       "      <th>4</th>\n",
       "      <td>-0.062366</td>\n",
       "      <td>-0.064853</td>\n",
       "      <td>-0.006616</td>\n",
       "      <td>-0.015838</td>\n",
       "      <td>0.002607</td>\n",
       "      <td>-0.003581</td>\n",
       "      <td>-0.005260</td>\n",
       "      <td>-0.001902</td>\n",
       "      <td>-0.003966</td>\n",
       "      <td>-0.006155</td>\n",
       "      <td>...</td>\n",
       "      <td>NaN</td>\n",
       "      <td>NaN</td>\n",
       "      <td>NaN</td>\n",
       "      <td>NaN</td>\n",
       "      <td>NaN</td>\n",
       "      <td>NaN</td>\n",
       "      <td>NaN</td>\n",
       "      <td>NaN</td>\n",
       "      <td>NaN</td>\n",
       "      <td>NaN</td>\n",
       "    </tr>\n",
       "  </tbody>\n",
       "</table>\n",
       "<p>5 rows × 150 columns</p>\n",
       "</div>"
      ],
      "text/plain": [
       "     OHC700    OHCTOT  RIB_glob     RIB_N     RIB_S   dT_glob     dT_NH  \\\n",
       "          0         0         0         0         0         0         0   \n",
       "0 -0.011394 -0.011476 -0.015863 -0.027079 -0.004648 -0.000733 -0.001276   \n",
       "1 -0.028858 -0.029331 -0.011925 -0.021323 -0.002526 -0.002298 -0.003737   \n",
       "2 -0.042386 -0.043448 -0.009171 -0.018151 -0.000192 -0.003038 -0.004673   \n",
       "3 -0.053212 -0.054959 -0.007541 -0.016528  0.001447 -0.003383 -0.005050   \n",
       "4 -0.062366 -0.064853 -0.006616 -0.015838  0.002607 -0.003581 -0.005260   \n",
       "\n",
       "      dT_SH dT_glob_air dT_NH_air  ...  forcing                         \\\n",
       "          0           0         0  ... STRAT_O3 STRAT_H2O BMB_AEROS_BC   \n",
       "0 -0.000189   -0.001179 -0.002037  ...      NaN       NaN          NaN   \n",
       "1 -0.000859   -0.002992 -0.004962  ...      NaN       NaN          NaN   \n",
       "2 -0.001403   -0.003587 -0.005726  ...      NaN       NaN          NaN   \n",
       "3 -0.001716   -0.003831 -0.006000  ...      NaN       NaN          NaN   \n",
       "4 -0.001902   -0.003966 -0.006155  ...      NaN       NaN          NaN   \n",
       "\n",
       "                                                              \n",
       "  BMB_AEROS_OC BMB_AEROS LANDUSE  BC  OC OTHER Total_forcing  \n",
       "0          NaN       NaN     NaN NaN NaN   NaN           NaN  \n",
       "1          NaN       NaN     NaN NaN NaN   NaN           NaN  \n",
       "2          NaN       NaN     NaN NaN NaN   NaN           NaN  \n",
       "3          NaN       NaN     NaN NaN NaN   NaN           NaN  \n",
       "4          NaN       NaN     NaN NaN NaN   NaN           NaN  \n",
       "\n",
       "[5 rows x 150 columns]"
      ]
     },
     "execution_count": 9,
     "metadata": {},
     "output_type": "execute_result"
    }
   ],
   "source": [
    "# NBVAL_IGNORE_OUTPUT\n",
    "df_temp.head()"
   ]
  },
  {
   "cell_type": "markdown",
   "id": "f7741847",
   "metadata": {},
   "source": [
    "Plot some example fields"
   ]
  },
  {
   "cell_type": "code",
   "execution_count": 10,
   "id": "f6cd7869",
   "metadata": {},
   "outputs": [
    {
     "data": {
      "text/plain": [
       "<matplotlib.legend.Legend at 0x7fed48cca280>"
      ]
     },
     "execution_count": 10,
     "metadata": {},
     "output_type": "execute_result"
    },
    {
     "data": {
      "image/png": "[encoded data removed]",
      "text/plain": [
       "<Figure size 1080x720 with 4 Axes>"
      ]
     },
     "metadata": {
      "needs_background": "light"
     },
     "output_type": "display_data"
    }
   ],
   "source": [
    "# NBVAL_IGNORE_OUTPUT\n",
    "fig, axs = plt.subplots(nrows=2, ncols=2,figsize=(15,10))\n",
    "axs=axs.flatten()\n",
    "fig.suptitle('CICERO SCM simulation')\n",
    "\n",
    "df_temp['dT_glob'].plot(ylabel='(K)',ax=axs[0])\n",
    "df_temp['dT_NH'].plot(ylabel='(K)',ax=axs[0],linestyle=':')\n",
    "df_temp['dT_SH'].plot(ylabel='(K)',ax=axs[0],linestyle=':')\n",
    "axs[0].legend(['Global mean temperature','NH temperature','SH temperature'])\n",
    "\n",
    "df_temp['concentrations']['CO2'].plot(ylabel='(ppm)',ax=axs[1])\n",
    "axs[1].legend([r'CO$_2$ concentration'])\n",
    "\n",
    "df_temp['emissions']['CO2'].plot(ylabel='(GtC)',ax=axs[2])\n",
    "axs[2].legend([r'CO$_2$ emission'])\n",
    "\n",
    "df_temp['forcing']['Total_forcing'].plot(ylabel='(Wm$^{-2}$)',ax=axs[3])\n",
    "\n",
    "axs[3].legend([r'Total','CO$_2$','CH$_4$','Land Use'])"
   ]
  }
 ],
 "metadata": {
  "kernelspec": {
   "display_name": "Python 3 (ipykernel)",
   "language": "python",
   "name": "python3"
  },
  "language_info": {
   "codemirror_mode": {
    "name": "ipython",
    "version": 3
   },
   "file_extension": ".py",
   "mimetype": "text/x-python",
   "name": "python",
   "nbconvert_exporter": "python",
   "pygments_lexer": "ipython3",
   "version": "3.9.12"
  }
 },
 "nbformat": 4,
 "nbformat_minor": 5
}
