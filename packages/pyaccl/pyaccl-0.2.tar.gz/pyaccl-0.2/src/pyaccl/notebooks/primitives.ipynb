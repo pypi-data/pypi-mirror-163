{
 "cells": [
  {
   "cell_type": "markdown",
   "metadata": {},
   "source": [
    "# ACCL Primitives\n",
    "ACCL primitives are a set of simple operations that an ACCL instance can execute and assemble into larger operations such as collectives. The primitives are:\n",
    "* Copy - a simple DMA operation from a local source buffer to a local destination buffer\n",
    "* Combine - applying a binary elementwise operator to two source buffers and placing the result in the destination buffer\n",
    "* Send - send data from a local buffer to a remote ACCL instance (equivalent to MPI Send)\n",
    "* Receive - receive data from a remote ACCL instance into a local buffer (equivalent to MPI Recv)"
   ]
  },
  {
   "cell_type": "markdown",
   "metadata": {},
   "source": [
    "## Initializing ACCL emulator/simulator instances\n",
    "We are now ready to connect to our ACCL instances and configure them. We assume that a simulator or emulator session has been started with at least two ACCL instances connected via TCP (see ACCL documentation). We associate the instances with rank numbers 0 and 1 respectively."
   ]
  },
  {
   "cell_type": "code",
   "execution_count": null,
   "metadata": {},
   "outputs": [],
   "source": [
    "RUN_ON_HARDWARE = True\n",
    "XCLBIN = \"axis3x.xclbin\"\n",
    "\n",
    "from pyaccl import accl\n",
    "\n",
    "if RUN_ON_HARDWARE:\n",
    "    accl0 = accl(2, 0, xclbin=XCLBIN, cclo_idx=0)\n",
    "    accl1 = accl(2, 1, xclbin=XCLBIN, cclo_idx=1)\n",
    "else:\n",
    "    accl0 = accl(2, 0, sim_mode=True)\n",
    "    accl1 = accl(2, 1, sim_mode=True)"
   ]
  },
  {
   "cell_type": "markdown",
   "metadata": {},
   "source": [
    "## Copy data\n",
    "We are now ready to execute primitives. Let's start with a `copy()` operation using one ACCL instance. We allocate buffers in the memory space of rank 0. The default data type is 32-bit float, and we request 10-element buffers. Initially we paint different data to the source and destination buffers. After the copy, we expect both buffers to contain the same data."
   ]
  },
  {
   "cell_type": "code",
   "execution_count": null,
   "metadata": {},
   "outputs": [],
   "source": [
    "src = accl0.allocate((10,))\n",
    "dst = accl0.allocate((10,))\n",
    "src[:] = [1.0*i for i in range(10)]\n",
    "dst[:] = [0.0 for i in range(10)]\n",
    "\n",
    "accl0.copy(src, dst, 10)\n",
    "\n",
    "import numpy as np\n",
    "assert np.isclose(src, dst).all()"
   ]
  },
  {
   "cell_type": "markdown",
   "metadata": {},
   "source": [
    "# Sum two vectors\n",
    "ACCL instances can be provided with arithmetic plugins to perform elementwise operations on vectors of data. The simplest and most common of these operations is the elementwise sum, which is the default operator in MPI reduction collectives (reduce, all-reduce, reduce-scatter). We can utilize the arithmetic plugin by calling the `combine()` function of the ACCL interface. We check by comparing with the sum as computed by NumPy."
   ]
  },
  {
   "cell_type": "code",
   "execution_count": null,
   "metadata": {},
   "outputs": [],
   "source": [
    "operand0 = accl0.allocate((10,))\n",
    "operand1 = accl0.allocate((10,))\n",
    "result = accl0.allocate((10,))\n",
    "operand0[:] = [1.0*i for i in range(10)]\n",
    "operand1[:] = [1.0*i for i in range(10)]\n",
    "dst[:] = [0.0 for i in range(10)]\n",
    "\n",
    "from pyaccl import ACCLReduceFunctions\n",
    "\n",
    "accl0.combine(len(operand0), ACCLReduceFunctions.SUM, operand0, operand1, result)\n",
    "\n",
    "assert np.isclose(result, operand0+operand1).all()"
   ]
  },
  {
   "cell_type": "markdown",
   "metadata": {},
   "source": [
    "# Exchange data with remote ACCL instances\n",
    "The `send()` and `recv()` functions initiate direct data exchange between ACCL instances. Each of these functions take the rank number of the remote ACCL instance as argument, as well as a buffer and an arbitrary integer tag number. Tags prevent confusion between send/receive pairs. Note that the `recv()` function will block until the data has arrived from the remote peer, therefore in a single-threaded environment, sending must always happen before receiving."
   ]
  },
  {
   "cell_type": "code",
   "execution_count": null,
   "metadata": {},
   "outputs": [],
   "source": [
    "src = accl0.allocate((10,))\n",
    "dst = accl1.allocate((10,))\n",
    "src[:] = [1.0*i for i in range(10)]\n",
    "dst[:] = [0.0 for i in range(10)]\n",
    "\n",
    "accl0.send(src, len(src), 1, tag=0)\n",
    "accl1.recv(dst, len(dst), 0, tag=0)\n",
    "\n",
    "assert np.isclose(src, dst).all()"
   ]
  },
  {
   "cell_type": "markdown",
   "metadata": {},
   "source": [
    "## De-Initialize ACCL instances\n",
    "The `deinit()` function clears all internal data structures in the ACCL instance."
   ]
  },
  {
   "cell_type": "code",
   "execution_count": null,
   "metadata": {},
   "outputs": [],
   "source": [
    "accl0.deinit()\n",
    "accl1.deinit()"
   ]
  }
 ],
 "metadata": {
  "kernelspec": {
   "display_name": "Python 3.8.10 64-bit",
   "language": "python",
   "name": "python3"
  },
  "language_info": {
   "codemirror_mode": {
    "name": "ipython",
    "version": 3
   },
   "file_extension": ".py",
   "mimetype": "text/x-python",
   "name": "python",
   "nbconvert_exporter": "python",
   "pygments_lexer": "ipython3",
   "version": "3.8.10"
  },
  "vscode": {
   "interpreter": {
    "hash": "916dbcbb3f70747c44a77c7bcd40155683ae19c65e1c03b4aa3499c5328201f1"
   }
  }
 },
 "nbformat": 4,
 "nbformat_minor": 2
}
