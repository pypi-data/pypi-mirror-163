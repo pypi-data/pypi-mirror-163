{
 "cells": [
  {
   "cell_type": "markdown",
   "metadata": {},
   "source": [
    "# ACCL Communicators\n",
    "ACCL send/receive primitives and collectives execute between a group of connected ranks called a communicator. The communicator is defined by the relevant properties of the ranks contained within it, most importantly the association between rank index and the Ethernet address of the rank. Multiple overlapping communicators can be defined over a group of ranks such that any one rank may be referred to by different indices in different communicators. \n",
    "\n",
    "In general, communicators allow the ACCL user to restrict their call to a specific subset of all available ranks. By default, ACCL will create and use a global communicator comprised of all ranks, but this can be split in user-defined ways, as we will see. Let's start an emulator session with 4 ACCL instances and explore this feature."
   ]
  },
  {
   "cell_type": "code",
   "execution_count": null,
   "metadata": {},
   "outputs": [],
   "source": [
    "from pyaccl import accl\n",
    "\n",
    "accl0 = accl(4, 0, sim_mode=True)\n",
    "accl1 = accl(4, 1, sim_mode=True)\n",
    "accl2 = accl(4, 2, sim_mode=True)\n",
    "accl3 = accl(4, 3, sim_mode=True)"
   ]
  },
  {
   "cell_type": "markdown",
   "metadata": {},
   "source": [
    "## The global communicator\n",
    "ACCL maintains a list of communicator objects, with the global communicator always at index 0. The communicator contains static and dynamic fields, where the dynamic fields are updated by the FPGA logic without host intervention. We can inspect the global communicator by reading it back from the ACCL configuration memory in the FPGA, and printing it:"
   ]
  },
  {
   "cell_type": "code",
   "execution_count": null,
   "metadata": {},
   "outputs": [],
   "source": [
    "accl0.communicators[0].readback()\n",
    "print(accl0.communicators[0])"
   ]
  },
  {
   "cell_type": "markdown",
   "metadata": {},
   "source": [
    "Each entry in the communicator defines the properties of a remote rank from the perspective of the local rank:\n",
    "* IP address and listening port on the remote rank\n",
    "* ID of local TCP session connected to the remote IP and port, if applicable, otherwise zeros\n",
    "* Maximum size of messages which we can send to the remote rank, in bytes\n",
    "* Input and output sequence numbers, identifying how many messages we've receved from or sent to the remote rank respectively\n",
    "\n",
    "Of these, the session IDs and sequence numbers are updated by FPGA logic, while ports and message sizes are static. We can dump the communicator again after sending and receiving a few messages to observe the updated sequence IDs"
   ]
  },
  {
   "cell_type": "code",
   "execution_count": null,
   "metadata": {},
   "outputs": [],
   "source": [
    "accl0.send(accl0.allocate((32,)), 32, 1, 0)\n",
    "accl0.send(accl0.allocate((32,)), 32, 2, 0)\n",
    "accl0.send(accl0.allocate((32,)), 32, 3, 0)\n",
    "accl3.send(accl3.allocate((32,)), 32, 0, 0)\n",
    "\n",
    "accl0.communicators[0].readback()\n",
    "print(accl0.communicators[0])\n",
    "accl1.communicators[0].readback()\n",
    "print(accl1.communicators[0])\n",
    "accl2.communicators[0].readback()\n",
    "print(accl2.communicators[0])\n",
    "accl3.communicators[0].readback()\n",
    "print(accl3.communicators[0])"
   ]
  },
  {
   "cell_type": "markdown",
   "metadata": {},
   "source": [
    "The `send` primitives cause the output sequences to increment on the ranks which perform the send. While the data has been received at its destination, the sequence numbers aren't updated until a corresponding `recv` call is executed."
   ]
  },
  {
   "cell_type": "code",
   "execution_count": null,
   "metadata": {},
   "outputs": [],
   "source": [
    "accl1.recv(accl1.allocate((32,)), 32, 0, 0)\n",
    "accl2.recv(accl2.allocate((32,)), 32, 0, 0)\n",
    "accl3.recv(accl3.allocate((32,)), 32, 0, 0)\n",
    "accl0.recv(accl0.allocate((32,)), 32, 3, 0)\n",
    "\n",
    "accl0.communicators[0].readback()\n",
    "print(accl0.communicators[0])\n",
    "accl1.communicators[0].readback()\n",
    "print(accl1.communicators[0])\n",
    "accl2.communicators[0].readback()\n",
    "print(accl2.communicators[0])\n",
    "accl3.communicators[0].readback()\n",
    "print(accl3.communicators[0])"
   ]
  },
  {
   "cell_type": "markdown",
   "metadata": {},
   "source": [
    "## Splitting a communicator\n",
    "We can split ranks off the global communicator to create a new communicator with new indices for the ranks. Note that for collectives and primitives to work with this new communicator, it must be created in identical way on all ranks which will be part of the new communicator. Let's split off ranks 1, 2, and 3 into a new communicator."
   ]
  },
  {
   "cell_type": "code",
   "execution_count": null,
   "metadata": {},
   "outputs": [],
   "source": [
    "accl1.split_communicator([1,2,3])\n",
    "accl2.split_communicator([1,2,3])\n",
    "accl3.split_communicator([1,2,3])\n",
    "\n",
    "accl1.communicators[0].readback()\n",
    "print(accl1.communicators[0])\n",
    "accl1.communicators[1].readback()\n",
    "print(accl1.communicators[1])"
   ]
  },
  {
   "cell_type": "markdown",
   "metadata": {},
   "source": [
    "After the split, we have a new communicator with new rank indices attached to the same remote rank signatures (IP, port, session ID). Sequence numbers are also reset. We can utilize this new communicator in a primitive or collective, by explicitly specifying the communicator index in the `comm` optional argument of the function. We'll illustrate this with a broadcast on communicator 1, rooted in rank 0. Note that rank 0 on communicator 1 is the same as rank 1 on the global communicator. The sequence numbers get incremented on communicator 1 instead of the global communicator."
   ]
  },
  {
   "cell_type": "code",
   "execution_count": null,
   "metadata": {},
   "outputs": [],
   "source": [
    "accl1.bcast(accl1.allocate((32,)), 32, 0, comm_id=1)\n",
    "accl2.bcast(accl2.allocate((32,)), 32, 0, comm_id=1)\n",
    "accl3.bcast(accl3.allocate((32,)), 32, 0, comm_id=1)\n",
    "\n",
    "accl1.communicators[1].readback()\n",
    "print(accl1.communicators[1])\n",
    "accl2.communicators[1].readback()\n",
    "print(accl2.communicators[1])\n",
    "accl3.communicators[1].readback()\n",
    "print(accl3.communicators[1])"
   ]
  },
  {
   "cell_type": "markdown",
   "metadata": {},
   "source": [
    "We can create any number of communicators (within the limits of the size of the configuration memory) by splitting up either the global communicator or a derived communicator."
   ]
  },
  {
   "cell_type": "markdown",
   "metadata": {},
   "source": [
    "## De-Initialize ACCL instances\n",
    "The `deinit()` function clears all internal data structures in the ACCL instance."
   ]
  },
  {
   "cell_type": "code",
   "execution_count": null,
   "metadata": {},
   "outputs": [],
   "source": [
    "accl0.deinit()\n",
    "accl1.deinit()\n",
    "accl2.deinit()\n",
    "accl3.deinit()"
   ]
  }
 ],
 "metadata": {
  "kernelspec": {
   "display_name": "Python 3.8.10 64-bit",
   "language": "python",
   "name": "python3"
  },
  "language_info": {
   "codemirror_mode": {
    "name": "ipython",
    "version": 3
   },
   "file_extension": ".py",
   "mimetype": "text/x-python",
   "name": "python",
   "nbconvert_exporter": "python",
   "pygments_lexer": "ipython3",
   "version": "3.8.10"
  },
  "vscode": {
   "interpreter": {
    "hash": "e7370f93d1d0cde622a1f8e1c04877d8463912d04d973331ad4851f04de6915a"
   }
  }
 },
 "nbformat": 4,
 "nbformat_minor": 2
}
