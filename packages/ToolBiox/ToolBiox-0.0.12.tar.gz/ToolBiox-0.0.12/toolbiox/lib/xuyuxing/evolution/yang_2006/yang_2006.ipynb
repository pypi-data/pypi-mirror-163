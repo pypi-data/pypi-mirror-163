{
 "cells": [
  {
   "cell_type": "markdown",
   "metadata": {
    "collapsed": true,
    "pycharm": {
     "is_executing": false,
     "name": "#%% md\n"
    }
   },
   "source": [
    "## 马尔可夫链\n",
    "\n",
    "马尔可夫链的概念\n",
    "https://blog.csdn.net/bitcarmanlee/article/details/82819860\n",
    "\n",
    "\n"
   ]
  },
  {
   "cell_type": "code",
   "execution_count": null,
   "outputs": [],
   "source": [
    "import numpy as np\n",
    "\n",
    "def markov():\n",
    "    init_array = np.array([0.1, 0.2, 0.7])\n",
    "    transfer_matrix = np.array([[0.9, 0.075, 0.025],\n",
    "                               [0.15, 0.8, 0.05],\n",
    "                               [0.25, 0.25, 0.5]])\n",
    "    restmp = init_array\n",
    "    for i in range(25):\n",
    "        res = np.dot(restmp, transfer_matrix)\n",
    "        print(i, \"\\t\", res)\n",
    "        restmp = res\n",
    "\n",
    "markov()\n",
    "\n"
   ],
   "metadata": {
    "collapsed": false,
    "pycharm": {
     "name": "#%%\n"
    }
   }
  }
 ],
 "metadata": {
  "kernelspec": {
   "display_name": "Python 3",
   "language": "python",
   "name": "python3"
  },
  "language_info": {
   "codemirror_mode": {
    "name": "ipython",
    "version": 2
   },
   "file_extension": ".py",
   "mimetype": "text/x-python",
   "name": "python",
   "nbconvert_exporter": "python",
   "pygments_lexer": "ipython2",
   "version": "2.7.6"
  },
  "pycharm": {
   "stem_cell": {
    "cell_type": "raw",
    "source": [],
    "metadata": {
     "collapsed": false
    }
   }
  }
 },
 "nbformat": 4,
 "nbformat_minor": 0
}