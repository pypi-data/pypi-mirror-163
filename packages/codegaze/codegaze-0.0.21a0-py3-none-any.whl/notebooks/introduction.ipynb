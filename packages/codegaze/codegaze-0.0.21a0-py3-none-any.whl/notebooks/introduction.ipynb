{
 "cells": [
  {
   "cell_type": "markdown",
   "metadata": {},
   "source": [
    "# Using CodeGaze\n",
    "\n",
    "Examples of the codegaze API.\n"
   ]
  },
  {
   "cell_type": "code",
   "execution_count": 1,
   "metadata": {},
   "outputs": [],
   "source": [
    "import os\n",
    "import pandas as pd\n",
    "from tqdm.notebook import tqdm\n",
    "from codegaze import CodeBlockParser, codegen, metrics\n",
    "from codegaze.utils import save_json, load_json\n"
   ]
  },
  {
   "cell_type": "code",
   "execution_count": 2,
   "metadata": {},
   "outputs": [],
   "source": [
    "block_parser = CodeBlockParser()\n",
    "edit_metric = metrics.EditMetric()\n",
    "ast_metric = metrics.ASTMetric(parser=block_parser)\n",
    "neural_metric = metrics.NeuralMetric()\n"
   ]
  },
  {
   "cell_type": "markdown",
   "metadata": {},
   "source": [
    "## Computing Code Similarity\n"
   ]
  },
  {
   "cell_type": "code",
   "execution_count": 6,
   "metadata": {},
   "outputs": [
    {
     "name": "stdout",
     "output_type": "stream",
     "text": [
      "Edit distance: 0.13559322033898302, AST distance: 1.0, Neural distance: 0.930390477180481\n"
     ]
    }
   ],
   "source": [
    "code = '''import requests\n",
    "def get_ip():\n",
    "    \"\"\"Get my current external IP. Other line. \"\"\"\n",
    "    result = requests.get(\"https://icanhazip.com\").text.strip() \n",
    "    holder = []\n",
    "    for row in result:\n",
    "        holder.append(row)\n",
    "    return result\n",
    "'''\n",
    "\n",
    "code_blocks = block_parser.extract_blocks(code, max_lines_per_block=3)\n",
    "a = code_blocks[1].text\n",
    "b = code_blocks[2].text\n",
    "\n",
    "edit = edit_metric.compute(a, b)\n",
    "ast = ast_metric.compute(a, b)\n",
    "neural = neural_metric.compute(a, b)\n",
    "\n",
    "print(f\"Edit distance: {edit}, AST distance: {ast}, Neural distance: {neural}\")\n"
   ]
  },
  {
   "cell_type": "markdown",
   "metadata": {},
   "source": [
    "## Generating Code Completions\n",
    "\n",
    "- Support for OpenAI models\n",
    "- Support for HuggingFace models\n"
   ]
  },
  {
   "cell_type": "code",
   "execution_count": 11,
   "metadata": {},
   "outputs": [],
   "source": [
    "oai_model = codegen.OpenAICodeGenerator(name=\"oaimodel\", engine=\"code-cushman-001\")\n",
    "hf_model = codegen.HFCodeGenerator(\n",
    "    name=\"salesforce350\", model=\"Salesforce/codegen-350M-multi\"\n",
    ")\n",
    "oai_completions = oai_model.generate(code, n=2)\n",
    "hf_completions = hf_model.generate(code, n=2)\n"
   ]
  },
  {
   "cell_type": "markdown",
   "metadata": {},
   "source": [
    "# Run and Analyze Experiment Results\n"
   ]
  },
  {
   "cell_type": "code",
   "execution_count": 16,
   "metadata": {},
   "outputs": [],
   "source": [
    "from codegaze.experiment import Experiment\n",
    "from codegaze.datamodel import ExperimentConfig\n",
    "from codegaze.datasets import HumanEvalDataset\n",
    "from codegaze.utils import get_dirs, load_json, save_json\n",
    "import pandas as pd\n"
   ]
  },
  {
   "cell_type": "code",
   "execution_count": 17,
   "metadata": {},
   "outputs": [
    {
     "name": "stdout",
     "output_type": "stream",
     "text": [
      "Working on experiment: pt1_ml10_t0.2_suff0\n",
      "Working on model: code-davinci-001\n"
     ]
    }
   ],
   "source": [
    "exp = Experiment(\"general\", data_path=\"../experiments/data/\")\n",
    "experiments = exp.list_experiments(dataset=\"humaneval\")\n",
    "experiment = experiments[0]\n",
    "print(\"Working on experiment:\", experiment.slug)\n",
    "models = exp.list_models(experiment.dataset, experiment.slug)\n",
    "model = models[0]\n",
    "print(\"Working on model:\", model)\n"
   ]
  },
  {
   "cell_type": "code",
   "execution_count": 18,
   "metadata": {},
   "outputs": [],
   "source": [
    "def agg_results(exp_results):\n",
    "    exp_list = []\n",
    "    for metric_type in exp_results.keys():\n",
    "        for metric in exp_results[metric_type].keys():\n",
    "            exp_list.append(\n",
    "                {\n",
    "                    \"metric_type\": metric_type,\n",
    "                    \"metric\": metric,\n",
    "                    \"value\": exp_results[metric_type][metric],\n",
    "                }\n",
    "            )\n",
    "    exp_df = pd.DataFrame(exp_list)\n",
    "    exp_df\n",
    "    return exp_df\n",
    "\n",
    "def metrics_data(experiment, model, metric_type):\n",
    "    metrics, metrics_arr = exp.load_metrics(experiment, model, metric_type=metric_type)\n",
    "    return metrics, metrics_arr"
   ]
  },
  {
   "cell_type": "code",
   "execution_count": 23,
   "metadata": {},
   "outputs": [
    {
     "data": {
      "text/html": [
       "<div>\n",
       "<style scoped>\n",
       "    .dataframe tbody tr th:only-of-type {\n",
       "        vertical-align: middle;\n",
       "    }\n",
       "\n",
       "    .dataframe tbody tr th {\n",
       "        vertical-align: top;\n",
       "    }\n",
       "\n",
       "    .dataframe thead th {\n",
       "        text-align: right;\n",
       "    }\n",
       "</style>\n",
       "<table border=\"1\" class=\"dataframe\">\n",
       "  <thead>\n",
       "    <tr style=\"text-align: right;\">\n",
       "      <th></th>\n",
       "      <th>metric_type</th>\n",
       "      <th>metric</th>\n",
       "      <th>value</th>\n",
       "      <th>model</th>\n",
       "    </tr>\n",
       "  </thead>\n",
       "  <tbody>\n",
       "    <tr>\n",
       "      <th>0</th>\n",
       "      <td>function</td>\n",
       "      <td>pass@1</td>\n",
       "      <td>0.334146</td>\n",
       "      <td>code-davinci-001</td>\n",
       "    </tr>\n",
       "    <tr>\n",
       "      <th>1</th>\n",
       "      <td>function</td>\n",
       "      <td>pass@10</td>\n",
       "      <td>0.493902</td>\n",
       "      <td>code-davinci-001</td>\n",
       "    </tr>\n",
       "    <tr>\n",
       "      <th>2</th>\n",
       "      <td>function</td>\n",
       "      <td>func_edit</td>\n",
       "      <td>0.273087</td>\n",
       "      <td>code-davinci-001</td>\n",
       "    </tr>\n",
       "    <tr>\n",
       "      <th>3</th>\n",
       "      <td>function</td>\n",
       "      <td>func_ast</td>\n",
       "      <td>0.309624</td>\n",
       "      <td>code-davinci-001</td>\n",
       "    </tr>\n",
       "  </tbody>\n",
       "</table>\n",
       "</div>"
      ],
      "text/plain": [
       "  metric_type     metric     value             model\n",
       "0    function     pass@1  0.334146  code-davinci-001\n",
       "1    function    pass@10  0.493902  code-davinci-001\n",
       "2    function  func_edit  0.273087  code-davinci-001\n",
       "3    function   func_ast  0.309624  code-davinci-001"
      ]
     },
     "execution_count": 23,
     "metadata": {},
     "output_type": "execute_result"
    }
   ],
   "source": [
    "all_df = pd.DataFrame()\n",
    "for model in models:\n",
    "    exp_results = exp.get_aggregate_results(experiment, model)\n",
    "    exp_df = agg_results(exp_results)\n",
    "    exp_df[\"model\"] = model\n",
    "    all_df = pd.concat([all_df, exp_df])\n",
    "all_df.head(4)\n"
   ]
  },
  {
   "cell_type": "code",
   "execution_count": 17,
   "metadata": {},
   "outputs": [],
   "source": [
    "import pandas as pd\n",
    "import json\n",
    "from dataclasses import asdict \n",
    "import matplotlib.pyplot as plt\n",
    "from codegaze import CodeBlockParser, codegen, metrics\n",
    "block_parser = CodeBlockParser()\n"
   ]
  },
  {
   "cell_type": "code",
   "execution_count": 6,
   "metadata": {},
   "outputs": [
    {
     "data": {
      "text/html": [
       "<div>\n",
       "<style scoped>\n",
       "    .dataframe tbody tr th:only-of-type {\n",
       "        vertical-align: middle;\n",
       "    }\n",
       "\n",
       "    .dataframe tbody tr th {\n",
       "        vertical-align: top;\n",
       "    }\n",
       "\n",
       "    .dataframe thead th {\n",
       "        text-align: right;\n",
       "    }\n",
       "</style>\n",
       "<table border=\"1\" class=\"dataframe\">\n",
       "  <thead>\n",
       "    <tr style=\"text-align: right;\">\n",
       "      <th></th>\n",
       "      <th>Unnamed: 0</th>\n",
       "      <th>problem</th>\n",
       "      <th>prompt</th>\n",
       "      <th>ground truth</th>\n",
       "      <th>unit_tests</th>\n",
       "      <th>generation1</th>\n",
       "      <th>generation2</th>\n",
       "    </tr>\n",
       "  </thead>\n",
       "  <tbody>\n",
       "    <tr>\n",
       "      <th>0</th>\n",
       "      <td>141</td>\n",
       "      <td>HumanEval/57</td>\n",
       "      <td>def monotonic(l: list):\\n    \"\"\"Return True is...</td>\n",
       "      <td>if l == sorted(l) or l == sorted(l, reverse=Tr...</td>\n",
       "      <td>METADATA = {}\\n\\n\\ndef check(candidate):\\n    ...</td>\n",
       "      <td>if len(l) &lt;= 1:\\n        return True\\n    if l...</td>\n",
       "      <td>return all(l[i] &lt;= l[i+1] for i in range(len(l...</td>\n",
       "    </tr>\n",
       "    <tr>\n",
       "      <th>1</th>\n",
       "      <td>42</td>\n",
       "      <td>HumanEval/130</td>\n",
       "      <td>def tri(n):\\n    \"\"\"Everyone knows Fibonacci s...</td>\n",
       "      <td>if n == 0:\\n        return [1]\\n    my_tri = [...</td>\n",
       "      <td>def check(candidate):\\n\\n    # Check some simp...</td>\n",
       "      <td>if n == 0:\\n        return [1]\\n    elif n == ...</td>\n",
       "      <td>if n == 1:\\n        return [3]\\n    elif n == ...</td>\n",
       "    </tr>\n",
       "    <tr>\n",
       "      <th>2</th>\n",
       "      <td>113</td>\n",
       "      <td>HumanEval/11</td>\n",
       "      <td>from typing import List\\n\\n\\ndef string_xor(a:...</td>\n",
       "      <td>def xor(i, j):\\n        if i == j:\\n          ...</td>\n",
       "      <td>METADATA = {\\n    'author': 'jt',\\n    'datase...</td>\n",
       "      <td>return ''.join(str(int(x) ^ int(y)) for x, y i...</td>\n",
       "      <td>return ''.join(str(int(x) ^ int(y)) for x, y i...</td>\n",
       "    </tr>\n",
       "  </tbody>\n",
       "</table>\n",
       "</div>"
      ],
      "text/plain": [
       "   Unnamed: 0        problem  \\\n",
       "0         141   HumanEval/57   \n",
       "1          42  HumanEval/130   \n",
       "2         113   HumanEval/11   \n",
       "\n",
       "                                              prompt  \\\n",
       "0  def monotonic(l: list):\\n    \"\"\"Return True is...   \n",
       "1  def tri(n):\\n    \"\"\"Everyone knows Fibonacci s...   \n",
       "2  from typing import List\\n\\n\\ndef string_xor(a:...   \n",
       "\n",
       "                                        ground truth  \\\n",
       "0  if l == sorted(l) or l == sorted(l, reverse=Tr...   \n",
       "1  if n == 0:\\n        return [1]\\n    my_tri = [...   \n",
       "2  def xor(i, j):\\n        if i == j:\\n          ...   \n",
       "\n",
       "                                          unit_tests  \\\n",
       "0  METADATA = {}\\n\\n\\ndef check(candidate):\\n    ...   \n",
       "1  def check(candidate):\\n\\n    # Check some simp...   \n",
       "2  METADATA = {\\n    'author': 'jt',\\n    'datase...   \n",
       "\n",
       "                                         generation1  \\\n",
       "0  if len(l) <= 1:\\n        return True\\n    if l...   \n",
       "1  if n == 0:\\n        return [1]\\n    elif n == ...   \n",
       "2  return ''.join(str(int(x) ^ int(y)) for x, y i...   \n",
       "\n",
       "                                         generation2  \n",
       "0  return all(l[i] <= l[i+1] for i in range(len(l...  \n",
       "1  if n == 1:\\n        return [3]\\n    elif n == ...  \n",
       "2  return ''.join(str(int(x) ^ int(y)) for x, y i...  "
      ]
     },
     "execution_count": 6,
     "metadata": {},
     "output_type": "execute_result"
    }
   ],
   "source": [
    "df = pd.read_csv(\"HumanEval_to_blockify.csv\")\n",
    "df.head(3)"
   ]
  },
  {
   "cell_type": "code",
   "execution_count": 11,
   "metadata": {},
   "outputs": [],
   "source": [
    "def blockify(prompt, field, max_lines_per_block=5): \n",
    "    code_blocks = block_parser.extract_blocks(field, max_lines_per_block=max_lines_per_block, skip_parent_block=False) \n",
    "    # print( len(code_blocks))\n",
    "    code_blocks = [asdict(x)[\"text\"] for x in code_blocks] \n",
    "    return code_blocks"
   ]
  },
  {
   "cell_type": "code",
   "execution_count": 12,
   "metadata": {},
   "outputs": [],
   "source": [
    "df[\"generation1_blocks\"] = df.apply( lambda x: blockify(x.prompt, x.generation1), axis=1)\n",
    "df[\"generation2_blocks\"] = df.apply( lambda x: blockify(x.prompt, x.generation2), axis=1)\n",
    "df[\"ground_truth_blocks\"] = df.apply( lambda x: blockify(x.prompt, x[\"ground truth\"]), axis=1)"
   ]
  },
  {
   "cell_type": "code",
   "execution_count": 20,
   "metadata": {},
   "outputs": [
    {
     "data": {
      "text/html": [
       "<div>\n",
       "<style scoped>\n",
       "    .dataframe tbody tr th:only-of-type {\n",
       "        vertical-align: middle;\n",
       "    }\n",
       "\n",
       "    .dataframe tbody tr th {\n",
       "        vertical-align: top;\n",
       "    }\n",
       "\n",
       "    .dataframe thead th {\n",
       "        text-align: right;\n",
       "    }\n",
       "</style>\n",
       "<table border=\"1\" class=\"dataframe\">\n",
       "  <thead>\n",
       "    <tr style=\"text-align: right;\">\n",
       "      <th></th>\n",
       "      <th>Unnamed: 0</th>\n",
       "      <th>problem</th>\n",
       "      <th>prompt</th>\n",
       "      <th>ground truth</th>\n",
       "      <th>unit_tests</th>\n",
       "      <th>generation1</th>\n",
       "      <th>generation2</th>\n",
       "      <th>generation1_blocks</th>\n",
       "      <th>generation2_blocks</th>\n",
       "      <th>ground_truth_blocks</th>\n",
       "    </tr>\n",
       "  </thead>\n",
       "  <tbody>\n",
       "    <tr>\n",
       "      <th>0</th>\n",
       "      <td>141</td>\n",
       "      <td>HumanEval/57</td>\n",
       "      <td>def monotonic(l: list):\\n    \"\"\"Return True is...</td>\n",
       "      <td>if l == sorted(l) or l == sorted(l, reverse=Tr...</td>\n",
       "      <td>METADATA = {}\\n\\n\\ndef check(candidate):\\n    ...</td>\n",
       "      <td>if len(l) &lt;= 1:\\n        return True\\n    if l...</td>\n",
       "      <td>return all(l[i] &lt;= l[i+1] for i in range(len(l...</td>\n",
       "      <td>[if len(l) &lt;= 1:\\n        return True, if l[0]...</td>\n",
       "      <td>[return all(l[i] &lt;= l[i+1] for i in range(len(...</td>\n",
       "      <td>[if l == sorted(l) or l == sorted(l, reverse=T...</td>\n",
       "    </tr>\n",
       "    <tr>\n",
       "      <th>1</th>\n",
       "      <td>42</td>\n",
       "      <td>HumanEval/130</td>\n",
       "      <td>def tri(n):\\n    \"\"\"Everyone knows Fibonacci s...</td>\n",
       "      <td>if n == 0:\\n        return [1]\\n    my_tri = [...</td>\n",
       "      <td>def check(candidate):\\n\\n    # Check some simp...</td>\n",
       "      <td>if n == 0:\\n        return [1]\\n    elif n == ...</td>\n",
       "      <td>if n == 1:\\n        return [3]\\n    elif n == ...</td>\n",
       "      <td>[if n == 0:\\n        return [1]\\n    elif n ==...</td>\n",
       "      <td>[if n == 1:\\n        return [3]\\n    elif n ==...</td>\n",
       "      <td>[if n == 0:\\n        return [1], my_tri = [1, ...</td>\n",
       "    </tr>\n",
       "  </tbody>\n",
       "</table>\n",
       "</div>"
      ],
      "text/plain": [
       "   Unnamed: 0        problem  \\\n",
       "0         141   HumanEval/57   \n",
       "1          42  HumanEval/130   \n",
       "\n",
       "                                              prompt  \\\n",
       "0  def monotonic(l: list):\\n    \"\"\"Return True is...   \n",
       "1  def tri(n):\\n    \"\"\"Everyone knows Fibonacci s...   \n",
       "\n",
       "                                        ground truth  \\\n",
       "0  if l == sorted(l) or l == sorted(l, reverse=Tr...   \n",
       "1  if n == 0:\\n        return [1]\\n    my_tri = [...   \n",
       "\n",
       "                                          unit_tests  \\\n",
       "0  METADATA = {}\\n\\n\\ndef check(candidate):\\n    ...   \n",
       "1  def check(candidate):\\n\\n    # Check some simp...   \n",
       "\n",
       "                                         generation1  \\\n",
       "0  if len(l) <= 1:\\n        return True\\n    if l...   \n",
       "1  if n == 0:\\n        return [1]\\n    elif n == ...   \n",
       "\n",
       "                                         generation2  \\\n",
       "0  return all(l[i] <= l[i+1] for i in range(len(l...   \n",
       "1  if n == 1:\\n        return [3]\\n    elif n == ...   \n",
       "\n",
       "                                  generation1_blocks  \\\n",
       "0  [if len(l) <= 1:\\n        return True, if l[0]...   \n",
       "1  [if n == 0:\\n        return [1]\\n    elif n ==...   \n",
       "\n",
       "                                  generation2_blocks  \\\n",
       "0  [return all(l[i] <= l[i+1] for i in range(len(...   \n",
       "1  [if n == 1:\\n        return [3]\\n    elif n ==...   \n",
       "\n",
       "                                 ground_truth_blocks  \n",
       "0  [if l == sorted(l) or l == sorted(l, reverse=T...  \n",
       "1  [if n == 0:\\n        return [1], my_tri = [1, ...  "
      ]
     },
     "execution_count": 20,
     "metadata": {},
     "output_type": "execute_result"
    }
   ],
   "source": [
    "df.head(2) "
   ]
  },
  {
   "cell_type": "code",
   "execution_count": 25,
   "metadata": {},
   "outputs": [],
   "source": [
    "\n",
    "# all_lens = []\n",
    "# for row in df.generation1_blocks:\n",
    "#     all_lens.append(len(row))\n",
    "#     if len(row) == 1:\n",
    "#         print(row[0])\n",
    "#         print(\"\\n********************\\n\")\n",
    "# plt.hist(all_lens)"
   ]
  },
  {
   "cell_type": "code",
   "execution_count": 15,
   "metadata": {},
   "outputs": [],
   "source": [
    "df.to_csv(\"HumanEval_blockified_max5.csv\", index=False)"
   ]
  },
  {
   "cell_type": "code",
   "execution_count": 1,
   "metadata": {},
   "outputs": [],
   "source": [
    "from codegaze.codegen import HFCodeGenerator, OpenAICodeGenerator"
   ]
  },
  {
   "cell_type": "code",
   "execution_count": 2,
   "metadata": {},
   "outputs": [],
   "source": [
    "prompt = \"def load_json(fisdfle_path):\""
   ]
  },
  {
   "cell_type": "code",
   "execution_count": 3,
   "metadata": {},
   "outputs": [],
   "source": [
    "hfcodegen = HFCodeGenerator(name=\"salesforce350\", model=\"Salesforce/codegen-350M-multi\") \n",
    "oaicodegen = OpenAICodeGenerator(name=\"openai\", model=\"code-cushman-001\")"
   ]
  },
  {
   "cell_type": "code",
   "execution_count": 4,
   "metadata": {},
   "outputs": [],
   "source": [
    "oai_comp = oaicodegen.generate(prompt, n=10) "
   ]
  },
  {
   "cell_type": "code",
   "execution_count": 7,
   "metadata": {},
   "outputs": [
    {
     "data": {
      "text/plain": [
       "10"
      ]
     },
     "execution_count": 7,
     "metadata": {},
     "output_type": "execute_result"
    }
   ],
   "source": [
    "len(oai_comp)"
   ]
  },
  {
   "cell_type": "code",
   "execution_count": 8,
   "metadata": {},
   "outputs": [
    {
     "name": "stderr",
     "output_type": "stream",
     "text": [
      "Setting `pad_token_id` to `eos_token_id`:2 for open-end generation.\n",
      "/home/victordibia/miniconda3/lib/python3.9/site-packages/transformers/models/codegen/modeling_codegen.py:167: UserWarning: where received a uint8 condition tensor. This behavior is deprecated and will be removed in a future version of PyTorch. Use a boolean condition instead. (Triggered internally at  /opt/conda/conda-bld/pytorch_1656352660876/work/aten/src/ATen/native/TensorCompare.cpp:402.)\n",
      "  attn_weights = torch.where(causal_mask, attn_weights, mask_value)\n"
     ]
    }
   ],
   "source": [
    "hf_gen = hfcodegen.generate(prompt, n=10)"
   ]
  },
  {
   "cell_type": "code",
   "execution_count": 11,
   "metadata": {},
   "outputs": [
    {
     "name": "stdout",
     "output_type": "stream",
     "text": [
      "\n",
      "    with open(fisdfle_path) as fisdfle:\n",
      "        return json.load(fisdfle)\n",
      "\n",
      "\n",
      "def load_json_file(fisdfle_path):\n",
      "    with open(fisdfle_path) as fisdfle:\n",
      "        return json.load(fisdfle)\n",
      "\n",
      "\n",
      "def load_json_file_with_path(fisdfle_path):\n",
      "    with open(fisdfle_path) as fisdfle:\n",
      "        return json.load(fisdfle)\n",
      "\n",
      "\n",
      "def load_json_file_with_path_and_object(fisdfle_path):\n",
      "    with open(fisdfle_path) as fisdfle:\n",
      "        return json.load(fisdfle)\n",
      "\n",
      "\n",
      "def load_json_file \n",
      "*************************\n",
      "\n",
      "\n",
      "    \"\"\"\n",
      "    Loads a json file\n",
      "    \"\"\"\n",
      "    with open(fisdfle_path, 'r') as fisdfle:\n",
      "        return json.load(fisdfle)\n",
      "\n",
      "\n",
      "def load_json_file(fisdfle_path):\n",
      "    \"\"\"\n",
      "    Loads a json file\n",
      "    \"\"\"\n",
      "    with open(fisdfle_path, 'r') as fisdfle:\n",
      "        return json.load(fisdfle)\n",
      "\n",
      "\n",
      "def load_json_file_with_path(fisdfle_path):\n",
      "    \"\"\"\n",
      "    Loads a json file\n",
      "    \"\"\"\n",
      "    with open(fisdfle_path, 'r') as fisdfle:\n",
      "        return json.load(fisdfle)\n",
      "\n",
      "\n",
      "def load_json_file_with_path_as \n",
      "*************************\n",
      "\n",
      "\n",
      "    \"\"\"\n",
      "    Loads the json file at the given path.\n",
      "\n",
      "    :param fisdfle_path: Path to the json file.\n",
      "    :return: A dict of the json file.\n",
      "    \"\"\"\n",
      "    with open(fisdfle_path, 'r') as fisdfle:\n",
      "        return json.load(fisdfle)\n",
      "\n",
      "\n",
      "def load_json_file(fisdfle_path):\n",
      "    \"\"\"\n",
      "    Loads the json file at the given path.\n",
      "\n",
      "    :param fisdfle_path: Path to the json file.\n",
      "    :return: A dict of the json file.\n",
      "    \"\"\"\n",
      "    with open(fisdfle_path, 'r') as fisdfle:\n",
      "        return json.load(fisdfle)\n",
      "\n",
      "\n",
      "def load_json_file_with_path \n",
      "*************************\n",
      "\n",
      "\n",
      "    with open(fisdfle_path, 'r') as f:\n",
      "        return json.load(f)\n",
      "\n",
      "\n",
      "def load_json_file(fisdfle_path):\n",
      "    with open(fisdfle_path, 'r') as f:\n",
      "        return json.load(f)\n",
      "\n",
      "\n",
      "def load_json_file_with_path(fisdfle_path):\n",
      "    with open(fisdfle_path, 'r') as f:\n",
      "        return json.load(f)\n",
      "\n",
      "\n",
      "def load_json_file_with_path_and_path_separator(fisdfle_path):\n",
      "    with open(fisdfle_path, 'r') as f:\n",
      "        return json.load(f)\n",
      "\n",
      "\n",
      "def load_json_file_with_path_and_path_ \n",
      "*************************\n",
      "\n",
      "\n",
      "    \"\"\"\n",
      "    Load json file\n",
      "    \"\"\"\n",
      "    with open(fisdfle_path, 'r') as fisdfle:\n",
      "        return json.load(fisdfle)\n",
      "\n",
      "\n",
      "def load_json_file(fisdfle_path):\n",
      "    \"\"\"\n",
      "    Load json file\n",
      "    \"\"\"\n",
      "    with open(fisdfle_path, 'r') as fisdfle:\n",
      "        return json.load(fisdfle, object_hook=load_json)\n",
      "\n",
      "\n",
      "def load_json_file_with_default(fisdfle_path):\n",
      "    \"\"\"\n",
      "    Load json file\n",
      "    \"\"\"\n",
      "    with open(fisdfle_path, 'r') as fisdfle:\n",
      "        return json.load(fisdfle, object_hook=load_json_file)\n",
      "\n",
      "\n",
      " \n",
      "*************************\n",
      "\n",
      "\n",
      "    \"\"\"\n",
      "    Loads a JSON file and returns a dictionary of the data.\n",
      "    \"\"\"\n",
      "    with open(fisdfle_path, 'r') as fisdfle:\n",
      "        return json.load(fisdfle)\n",
      "\n",
      "\n",
      "def load_json_file(fisdfle_path):\n",
      "    \"\"\"\n",
      "    Loads a JSON file and returns a dictionary of the data.\n",
      "    \"\"\"\n",
      "    with open(fisdfle_path, 'r') as fisdfle:\n",
      "        return json.load(fisdfle)\n",
      "\n",
      "\n",
      "def load_json_file_with_path(fisdfle_path):\n",
      "    \"\"\"\n",
      "    Loads a JSON file and returns a dictionary of the data.\n",
      "    \"\"\"\n",
      "    with open(fisdfle_path, 'r') as fisdfle:\n",
      "         \n",
      "*************************\n",
      "\n",
      "\n",
      "    \"\"\"\n",
      "    Loads the json file at the given path.\n",
      "    \"\"\"\n",
      "    with open(fisdfle_path, 'r') as fisdfle:\n",
      "        return json.load(fisdfle)\n",
      "\n",
      "\n",
      "def load_json_file(fisdfle_path):\n",
      "    \"\"\"\n",
      "    Loads the json file at the given path.\n",
      "    \"\"\"\n",
      "    with open(fisdfle_path, 'r') as fisdfle:\n",
      "        return json.load(fisdfle)\n",
      "\n",
      "\n",
      "def load_json_file_with_paths(fisdfle_paths):\n",
      "    \"\"\"\n",
      "    Loads the json file at the given paths.\n",
      "    \"\"\"\n",
      "    with open(fisdfle_paths, 'r') as fisdfle:\n",
      "        return json.load(f \n",
      "*************************\n",
      "\n",
      "\n",
      "    \"\"\"\n",
      "    Loads a json file and returns a dictionary of the data.\n",
      "    \"\"\"\n",
      "    with open(fisdfle_path, 'r') as fisdfle:\n",
      "        return json.load(fisdfle)\n",
      "\n",
      "\n",
      "def load_json_file(fisdfle_path):\n",
      "    \"\"\"\n",
      "    Loads a json file and returns a dictionary of the data.\n",
      "    \"\"\"\n",
      "    with open(fisdfle_path, 'r') as fisdfle:\n",
      "        return json.load(fisdfle)\n",
      "\n",
      "\n",
      "def load_json_file_with_path(fisdfle_path):\n",
      "    \"\"\"\n",
      "    Loads a json file and returns a dictionary of the data.\n",
      "    \"\"\"\n",
      "    with open(fisdfle_path, 'r') as fisdfle:\n",
      "         \n",
      "*************************\n",
      "\n",
      "\n",
      "    with open(fisdfle_path, 'r') as fisdfle:\n",
      "        return json.load(fisdfle)\n",
      "\n",
      "\n",
      "def load_json_from_file(fisdfle_path):\n",
      "    with open(fisdfle_path, 'r') as fisdfle:\n",
      "        return json.load(fisdfle)\n",
      "\n",
      "\n",
      "def load_json_from_file_with_path(fisdfle_path):\n",
      "    with open(fisdfle_path, 'r') as fisdfle:\n",
      "        return json.load(fisdfle)\n",
      "\n",
      "\n",
      "def load_json_from_file_with_path_with_path(fisdfle_path):\n",
      "    with open(fisdfle_path, 'r') as fisdfle:\n",
      "         \n",
      "*************************\n",
      "\n",
      "\n",
      "    with open(fisdfle_path, 'r') as fisdfle:\n",
      "        return json.load(fisdfle)\n",
      "\n",
      "\n",
      "def load_json_file(fisdfle_path):\n",
      "    with open(fisdfle_path, 'r') as fisdfle:\n",
      "        return json.load(fisdfle)\n",
      "\n",
      "\n",
      "def load_json_file_with_path(fisdfle_path):\n",
      "    with open(fisdfle_path, 'r') as fisdfle:\n",
      "        return json.load(fisdfle)\n",
      "\n",
      "\n",
      "def load_json_file_with_path_and_name(fisdfle_path, name):\n",
      "    with open(fisdfle_path, 'r') as fisdfle:\n",
      "        return json.load \n",
      "*************************\n",
      "\n"
     ]
    }
   ],
   "source": [
    "for row in hf_gen:\n",
    "    print( (row.text), \"\\n*************************\\n\")"
   ]
  },
  {
   "cell_type": "code",
   "execution_count": 70,
   "metadata": {},
   "outputs": [
    {
     "data": {
      "text/plain": [
       "True"
      ]
     },
     "execution_count": 70,
     "metadata": {},
     "output_type": "execute_result"
    }
   ],
   "source": [
    "import torch\n",
    "torch.cuda.is_available()"
   ]
  },
  {
   "cell_type": "code",
   "execution_count": 12,
   "metadata": {},
   "outputs": [],
   "source": [
    "from abc import abstractmethod\n",
    "from typing import Union\n",
    "import Levenshtein\n",
    "import torch\n",
    "\n",
    "from codegaze import CodeBlockParser\n",
    "from transformers import AutoTokenizer, AutoModel\n",
    "\n",
    "# from tokenizers import Tokenizer\n",
    "from sklearn.metrics.pairwise import cosine_similarity\n",
    "import logging\n",
    "\n",
    "logger = logging.getLogger(__name__)\n",
    "\n",
    "\n",
    "class Metric(object):\n",
    "    @abstractmethod\n",
    "    def __init__(self):\n",
    "        \"\"\"initialize the metric\"\"\"\n",
    "\n",
    "    @abstractmethod\n",
    "    def compute(self, a: Union[list[str], str], b: Union[list[str], str]) -> float:\n",
    "        \"\"\"Compute distance\"\"\"\n",
    "\n",
    "\n",
    "class NeuralMetric(Metric):\n",
    "    def __init__(self, hfmodel: str = \"microsoft/codebert-base\"):\n",
    "        tokenizer = AutoTokenizer.from_pretrained(hfmodel)\n",
    "        model = AutoModel.from_pretrained(hfmodel)\n",
    "        device = \"cuda:0\" if torch.cuda.is_available() else \"cpu\"\n",
    "        model.to(device)\n",
    "\n",
    "    def compute(self, a: str, b: str) -> float:\n",
    "        tokenized_code = tokenizer(\n",
    "            [a, b], padding=True, truncation=True, return_tensors=\"pt\"\n",
    "        ).to(device)\n",
    "        encoded_code = model(tokenized_code.input_ids)[\"last_hidden_state\"]\n",
    "        emb_a = encoded_code[0].mean(dim=0).detach().cpu().numpy().reshape(1, -1)\n",
    "        emb_b = encoded_code[1].mean(dim=0).detach().cpu().numpy().reshape(1, -1)\n",
    "\n",
    "        return float(cosine_similarity(emb_a, emb_b))"
   ]
  },
  {
   "cell_type": "code",
   "execution_count": 24,
   "metadata": {},
   "outputs": [
    {
     "name": "stdout",
     "output_type": "stream",
     "text": [
      "0.9728615283966064\n"
     ]
    }
   ],
   "source": [
    "nm = NeuralMetric()\n",
    "a = \"def load_json(fisdfle_path):\"\n",
    "b = \"def load_csv(file_path):\"\n",
    "cos = nn.CosineSimilarity(dim=0, eps=1e-6)\n",
    "\n",
    "hfmodel = \"microsoft/codebert-base\"\n",
    "tokenizer = AutoTokenizer.from_pretrained(hfmodel)\n",
    "model = AutoModel.from_pretrained(hfmodel)\n",
    "device = \"cuda:0\" if torch.cuda.is_available() else \"cpu\"\n",
    "model.to(device)\n",
    "\n",
    "tokenized_code = tokenizer(\n",
    "            [a, b], padding=True, truncation=True, return_tensors=\"pt\"\n",
    "        ).to(device)\n",
    "encoded_code = model(tokenized_code.input_ids)[\"last_hidden_state\"]\n"
   ]
  },
  {
   "cell_type": "code",
   "execution_count": 32,
   "metadata": {},
   "outputs": [
    {
     "name": "stdout",
     "output_type": "stream",
     "text": [
      "0.9728615283966064\n"
     ]
    }
   ],
   "source": [
    "emb_a = encoded_code[0].mean(dim=0).detach().cpu().numpy().reshape(1, -1)\n",
    "emb_b = encoded_code[1].mean(dim=0).detach().cpu().numpy().reshape(1, -1)\n",
    "print(float(cosine_similarity(emb_a, emb_b)))"
   ]
  },
  {
   "cell_type": "code",
   "execution_count": 35,
   "metadata": {},
   "outputs": [
    {
     "data": {
      "text/plain": [
       "0.972861647605896"
      ]
     },
     "execution_count": 35,
     "metadata": {},
     "output_type": "execute_result"
    }
   ],
   "source": [
    "g = encoded_code[0].mean(dim=0) \n",
    "h = encoded_code[1].mean(dim=0)\n",
    "output = cos(g, h).item()\n",
    "float(output)"
   ]
  },
  {
   "cell_type": "code",
   "execution_count": null,
   "metadata": {},
   "outputs": [],
   "source": []
  }
 ],
 "metadata": {
  "kernelspec": {
   "display_name": "Python 3.9.12 ('base')",
   "language": "python",
   "name": "python3"
  },
  "language_info": {
   "codemirror_mode": {
    "name": "ipython",
    "version": 3
   },
   "file_extension": ".py",
   "mimetype": "text/x-python",
   "name": "python",
   "nbconvert_exporter": "python",
   "pygments_lexer": "ipython3",
   "version": "3.9.12"
  },
  "orig_nbformat": 4,
  "vscode": {
   "interpreter": {
    "hash": "189101fc34b85ec7417252a331b6b3ef556b71030ac1f6fe00bfbe1409305460"
   }
  }
 },
 "nbformat": 4,
 "nbformat_minor": 2
}
