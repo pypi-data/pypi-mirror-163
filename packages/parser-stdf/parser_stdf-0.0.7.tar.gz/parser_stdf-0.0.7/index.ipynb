{
 "cells": [
  {
   "cell_type": "code",
   "execution_count": null,
   "metadata": {},
   "outputs": [],
   "source": [
    "#|hide\n",
    "from stdf_parser.core import *"
   ]
  },
  {
   "cell_type": "markdown",
   "metadata": {},
   "source": [
    "# parser_stdf\n",
    "\n",
    "> Parse for missing w,x,y in records from efuse readings"
   ]
  },
  {
   "cell_type": "markdown",
   "metadata": {},
   "source": [
    "## Install"
   ]
  },
  {
   "cell_type": "markdown",
   "metadata": {},
   "source": [
    "`pip install parser_stdf`"
   ]
  },
  {
   "cell_type": "markdown",
   "metadata": {},
   "source": [
    "## How to use"
   ]
  },
  {
   "cell_type": "code",
   "execution_count": null,
   "metadata": {},
   "outputs": [],
   "source": [
    "from parser_stdf.core import Content, Stdf\r\n",
    "\r\n",
    "def read_file(f='./testdata'):\r\n",
    "    with open(f, 'rb') as f:\r\n",
    "        d = f.read()\r\n",
    "    return d\r\n",
    "\r\n",
    "file_content = read_file()\r\n",
    "file_name = 'testdata'\r\n",
    "\r\n",
    "stdf = Stdf(file_content=file_content, file_name=file_name)\r\n",
    "c = Content(stdf=stdf)\r\n",
    "\r\n",
    "#c.wxy # for missing w,x,y extracted from eFuse readings\r\n"
   ]
  },
  {
   "cell_type": "code",
   "execution_count": null,
   "metadata": {},
   "outputs": [],
   "source": []
  }
 ],
 "metadata": {
  "kernelspec": {
   "display_name": "Python 3 (ipykernel)",
   "language": "python",
   "name": "python3"
  }
 },
 "nbformat": 4,
 "nbformat_minor": 4
}
