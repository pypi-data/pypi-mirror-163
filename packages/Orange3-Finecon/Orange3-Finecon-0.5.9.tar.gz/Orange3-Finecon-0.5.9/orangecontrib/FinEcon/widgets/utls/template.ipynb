{
 "cells": [
  {
   "cell_type": "code",
   "execution_count": 1,
   "metadata": {},
   "outputs": [],
   "source": [
    "import pandas as pd\n",
    "import numpy as np\n"
   ]
  },
  {
   "cell_type": "code",
   "execution_count": 2,
   "metadata": {},
   "outputs": [
    {
     "ename": "ImportError",
     "evalue": "cannot import name 'table_to_frame' from 'Orange.data.table' (/Users/rayhe/mambaforge/lib/python3.9/site-packages/Orange/data/table.py)",
     "output_type": "error",
     "traceback": [
      "\u001b[0;31m---------------------------------------------------------------------------\u001b[0m",
      "\u001b[0;31mImportError\u001b[0m                               Traceback (most recent call last)",
      "\u001b[1;32m/Users/rayhe/PycharmProjects/orange3-finecon/orangecontrib/finecon/utls/template.ipynb Cell 2\u001b[0m in \u001b[0;36m<cell line: 2>\u001b[0;34m()\u001b[0m\n\u001b[1;32m      <a href='vscode-notebook-cell:/Users/rayhe/PycharmProjects/orange3-finecon/orangecontrib/finecon/utls/template.ipynb#ch0000001?line=0'>1</a>\u001b[0m \u001b[39mimport\u001b[39;00m \u001b[39mpickle\u001b[39;00m\n\u001b[0;32m----> <a href='vscode-notebook-cell:/Users/rayhe/PycharmProjects/orange3-finecon/orangecontrib/finecon/utls/template.ipynb#ch0000001?line=1'>2</a>\u001b[0m \u001b[39mfrom\u001b[39;00m \u001b[39mOrange\u001b[39;00m\u001b[39m.\u001b[39;00m\u001b[39mdata\u001b[39;00m\u001b[39m.\u001b[39;00m\u001b[39mtable\u001b[39;00m \u001b[39mimport\u001b[39;00m table_to_frame\n\u001b[1;32m      <a href='vscode-notebook-cell:/Users/rayhe/PycharmProjects/orange3-finecon/orangecontrib/finecon/utls/template.ipynb#ch0000001?line=2'>3</a>\u001b[0m \u001b[39mwith\u001b[39;00m \u001b[39mopen\u001b[39m(\u001b[39m'\u001b[39m\u001b[39mdata.pkl\u001b[39m\u001b[39m'\u001b[39m, \u001b[39m'\u001b[39m\u001b[39mrb\u001b[39m\u001b[39m'\u001b[39m) \u001b[39mas\u001b[39;00m f:\n\u001b[1;32m      <a href='vscode-notebook-cell:/Users/rayhe/PycharmProjects/orange3-finecon/orangecontrib/finecon/utls/template.ipynb#ch0000001?line=3'>4</a>\u001b[0m     df \u001b[39m=\u001b[39m table_to_frame(pickle\u001b[39m.\u001b[39mload(f))\n",
      "\u001b[0;31mImportError\u001b[0m: cannot import name 'table_to_frame' from 'Orange.data.table' (/Users/rayhe/mambaforge/lib/python3.9/site-packages/Orange/data/table.py)"
     ]
    }
   ],
   "source": [
    "import pickle\n",
    "from Orange.data.pandas_compat import table_to_frame\n",
    "with open('data.pkl', 'rb') as f:\n",
    "    df = table_to_frame(pickle.load(f))"
   ]
  },
  {
   "cell_type": "code",
   "execution_count": null,
   "metadata": {},
   "outputs": [],
   "source": []
  }
 ],
 "metadata": {
  "kernelspec": {
   "display_name": "Python 3.9.13 64-bit",
   "language": "python",
   "name": "python3"
  },
  "language_info": {
   "codemirror_mode": {
    "name": "ipython",
    "version": 3
   },
   "file_extension": ".py",
   "mimetype": "text/x-python",
   "name": "python",
   "nbconvert_exporter": "python",
   "pygments_lexer": "ipython3",
   "version": "3.9.13"
  },
  "orig_nbformat": 4,
  "vscode": {
   "interpreter": {
    "hash": "949777d72b0d2535278d3dc13498b2535136f6dfe0678499012e853ee9abcab1"
   }
  }
 },
 "nbformat": 4,
 "nbformat_minor": 2
}
