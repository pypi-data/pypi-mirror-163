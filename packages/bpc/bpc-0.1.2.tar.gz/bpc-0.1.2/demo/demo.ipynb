{
 "cells": [
  {
   "cell_type": "code",
   "execution_count": 1,
   "metadata": {},
   "outputs": [
    {
     "data": {
      "text/plain": [
       "['m', 'ŋ', 'ɡ', 'l', 't', 's', 'p', 'ˈe']"
      ]
     },
     "execution_count": 1,
     "metadata": {},
     "output_type": "execute_result"
    }
   ],
   "source": [
    "from bpc import Cleaner, Normalizer, WordBreak, Preprocessor, BurmesePhonemizer, PrepareDataset\n",
    "\n",
    "bp = BurmesePhonemizer()\n",
    "bp.text_to_phone(\"မင်္ဂလာပါ\")"
   ]
  },
  {
   "cell_type": "code",
   "execution_count": 3,
   "metadata": {},
   "outputs": [
    {
     "data": {
      "text/plain": [
       "'မင်္ဂလာပါ မင်္ဂလာပါ။ ဝန်းရံ ၀၁၂၃၄ ၅ဘီ'"
      ]
     },
     "execution_count": 3,
     "metadata": {},
     "output_type": "execute_result"
    }
   ],
   "source": [
    "cc = Cleaner()\n",
    "cc.clean_text(\"မင်္ဂလာပါ? မင်္ဂလာပါ။ ၀န်းရံ ဝ၁၂၃၄ 5B\")"
   ]
  },
  {
   "cell_type": "code",
   "execution_count": null,
   "metadata": {},
   "outputs": [],
   "source": [
    "path = 'path/to/dataset/' # wav.scp, text, utt2spk\n",
    "prepare = PrepareDataset()\n",
    "data = prepare.prepare_data(path=\"data\", method=\"kfold\", save=True, nsplits=10, seed=42)"
   ]
  }
 ],
 "metadata": {
  "kernelspec": {
   "display_name": "Python 3.7.9 ('torch')",
   "language": "python",
   "name": "python3"
  },
  "language_info": {
   "codemirror_mode": {
    "name": "ipython",
    "version": 3
   },
   "file_extension": ".py",
   "mimetype": "text/x-python",
   "name": "python",
   "nbconvert_exporter": "python",
   "pygments_lexer": "ipython3",
   "version": "3.7.9"
  },
  "orig_nbformat": 4,
  "vscode": {
   "interpreter": {
    "hash": "48b0e82273e47b16d43b3f0f9daf4d33e64daf0b1e378cc7a30225046cef19a8"
   }
  }
 },
 "nbformat": 4,
 "nbformat_minor": 2
}
