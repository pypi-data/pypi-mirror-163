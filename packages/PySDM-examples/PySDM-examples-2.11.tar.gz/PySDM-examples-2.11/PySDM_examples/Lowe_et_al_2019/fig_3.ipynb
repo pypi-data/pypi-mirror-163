{
 "cells": [
  {
   "cell_type": "markdown",
   "metadata": {},
   "source": [
    "[![nbviewer](https://raw.githubusercontent.com/jupyter/design/master/logos/Badges/nbviewer_badge.svg)](https://nbviewer.jupyter.org/github/claresinger/PySDM-examples/blob/lowe_fig3/PySDM_examples/Lowe_et_al_2019/fig_3.ipynb)\n",
    "[![Binder](https://mybinder.org/badge_logo.svg)](https://mybinder.org/v2/gh/claresinger/PySDM-examples.git/lowe_fig3?urlpath=PySDM_examples/Lowe_et_al_2019/fig_3.ipynb)\n",
    "[![Open In Colab](https://colab.research.google.com/assets/colab-badge.svg)](https://colab.research.google.com/github/claresinger/PySDM-examples/blob/lowe_fig3/PySDM_examples/Lowe_et_al_2019/fig_3.ipynb)"
   ]
  },
  {
   "cell_type": "markdown",
   "metadata": {},
   "source": [
    "#### based on Fig. 3 from Lowe et al. 2019 (Nature Comm.)  \"_Key drivers of cloud response to surface-active organics_\"   \n",
    "https://doi.org/10.1038/s41467-019-12982-0"
   ]
  },
  {
   "cell_type": "code",
   "execution_count": null,
   "metadata": {},
   "outputs": [],
   "source": [
    "import sys\n",
    "if 'google.colab' in sys.modules:\n",
    "    !pip --quiet install atmos-cloud-sim-uj-utils\n",
    "    from atmos_cloud_sim_uj_utils import pip_install_on_colab\n",
    "    pip_install_on_colab('PySDM-examples')"
   ]
  },
  {
   "cell_type": "code",
   "execution_count": null,
   "metadata": {},
   "outputs": [],
   "source": [
    "from PySDM_examples.Lowe_et_al_2019 import Settings, Simulation\n",
    "from PySDM_examples.Lowe_et_al_2019.aerosol import AerosolMarine, AerosolBoreal\n",
    "\n",
    "from PySDM.initialisation.sampling import spectral_sampling as spec_sampling\n",
    "from PySDM.physics import si\n",
    "\n",
    "import numpy as np\n",
    "import os\n",
    "from joblib import Parallel, delayed, parallel_backend"
   ]
  },
  {
   "cell_type": "code",
   "execution_count": null,
   "metadata": {},
   "outputs": [],
   "source": [
    "CI = 'CI' in os.environ\n",
    "\n",
    "updraft_list = np.geomspace(0.1, 10, 2 if CI else 7)\n",
    "forg_list = np.linspace(0.05, 0.95, 2 if CI else 7)\n",
    "\n",
    "subplot_list = [\"a\",\"b\",\"c\",\"d\"]\n",
    "models = ('Constant', 'CompressedFilmOvadnevaite')\n",
    "\n",
    "Acc = {\"a\": 30, \"b\": 134, \"c\": 160, \"d\": 540}\n",
    "\n",
    "consts = {\"delta_min\":0.1, \n",
    "          \"MAC\":1, \n",
    "          \"HAC\":1, \n",
    "          \"c_pd\":1006 * si.joule / si.kilogram / si.kelvin, \n",
    "          \"g_std\":9.81 * si.metre / si.second ** 2,\n",
    "          \"BDF\":False\n",
    "          }"
   ]
  },
  {
   "cell_type": "code",
   "execution_count": null,
   "metadata": {},
   "outputs": [],
   "source": [
    "def compute(key, settings):\n",
    "    simulation = Simulation(settings)\n",
    "    output = simulation.run()\n",
    "    output['updraft'] = settings.w\n",
    "    output['org_fraction'] = settings.aerosol.modes[0]['f_org']\n",
    "    output['color'] = settings.aerosol.color\n",
    "    return key, output\n",
    "\n",
    "print(f'tasks scheduled: {len(models) * len(subplot_list) * len(forg_list) * len(updraft_list)}')\n",
    "print(updraft_list)\n",
    "with parallel_backend('loky', n_jobs=-1):\n",
    "    output = dict(Parallel(verbose=10)(\n",
    "        delayed(compute)(subplot+f\"_w{w:.2f}_f{Forg:.2f}_\"+model, Settings(\n",
    "            dz = 1 * si.m if CI else 0.1 * si.m,\n",
    "            n_sd_per_mode = 10 if CI else 50,\n",
    "            model = model,\n",
    "            aerosol = {\n",
    "                \"a\": AerosolMarine(Acc_Forg=Forg, Acc_N2=Acc[\"a\"]),\n",
    "                \"b\": AerosolMarine(Acc_Forg=Forg, Acc_N2=Acc[\"b\"]),\n",
    "                \"c\": AerosolBoreal(Acc_Forg=Forg, Acc_N2=Acc[\"c\"]),\n",
    "                \"d\": AerosolBoreal(Acc_Forg=Forg, Acc_N2=Acc[\"d\"])\n",
    "            }[subplot],\n",
    "            w = w * si.m / si.s,\n",
    "            spectral_sampling = spec_sampling.ConstantMultiplicity,\n",
    "            **consts\n",
    "        ))\n",
    "        for w in updraft_list\n",
    "        for Forg in forg_list\n",
    "        for subplot in subplot_list\n",
    "        for model in models\n",
    "    ))"
   ]
  },
  {
   "cell_type": "code",
   "execution_count": null,
   "metadata": {},
   "outputs": [],
   "source": [
    "from PySDM_examples.Lowe_et_al_2019.plot_helper import plot_profiles, plot_contours\n",
    "\n",
    "plot_profiles(subplot_list, updraft_list, forg_list, output, save=True)\n",
    "plot_contours(subplot_list, updraft_list, forg_list, output, actfrac=False, save=True)\n",
    "plot_contours(subplot_list, updraft_list, forg_list, output, actfrac=True, save=True)"
   ]
  },
  {
   "cell_type": "code",
   "execution_count": null,
   "metadata": {},
   "outputs": [],
   "source": []
  }
 ],
 "metadata": {
  "kernelspec": {
   "display_name": "Python 3 (ipykernel)",
   "language": "python",
   "name": "python3"
  },
  "language_info": {
   "codemirror_mode": {
    "name": "ipython",
    "version": 3
   },
   "file_extension": ".py",
   "mimetype": "text/x-python",
   "name": "python",
   "nbconvert_exporter": "python",
   "pygments_lexer": "ipython3",
   "version": "3.7.12"
  }
 },
 "nbformat": 4,
 "nbformat_minor": 4
}
